{
  "nbformat": 4,
  "nbformat_minor": 0,
  "metadata": {
    "colab": {
      "name": "Enrich Your Point-Of-Interest Data With Census Data.ipynb",
      "provenance": [],
      "collapsed_sections": [],
      "include_colab_link": true
    },
    "kernelspec": {
      "name": "python3",
      "display_name": "Python 3"
    }
  },
  "cells": [
    {
      "cell_type": "markdown",
      "metadata": {
        "id": "view-in-github",
        "colab_type": "text"
      },
      "source": [
        "<a href=\"https://colab.research.google.com/github/Byrnesz/point-of-interest-data/blob/master/Enrich_Your_Point_Of_Interest_Data_With_Census_Data.ipynb\" target=\"_parent\"><img src=\"https://colab.research.google.com/assets/colab-badge.svg\" alt=\"Open In Colab\"/></a>"
      ]
    },
    {
      "cell_type": "markdown",
      "metadata": {
        "id": "BmqKdbRLCEO1",
        "colab_type": "text"
      },
      "source": [
        "![alt text](https://global-uploads.webflow.com/5baafc2653bd67278f206724/5be267a03f7813daf821b31e_safegraph-logo-hidpi%403x-p-500.png)"
      ]
    },
    {
      "cell_type": "markdown",
      "metadata": {
        "id": "ULZYyQEpCEMt",
        "colab_type": "text"
      },
      "source": [
        "# A Beginners Guide to Analyzing Census Data\n",
        "#### A Starter Notebook for Open Census Data\n",
        "\n",
        "--------------\n",
        "**[Ryan Fox Squire](https://www.linkedin.com/in/ryanfoxsquire/) | Product Data Scientist, [SafeGraph](https://safegraph.com/?utm_source=content&utm_medium=referral&utm_campaign=colabnotebook&utm_content=beginners_census_guide)**\n",
        "\n",
        "\n",
        "Jan 2020\n",
        "\n",
        "--------------\n",
        "*Share this notebook: [Shareable Link](https://colab.research.google.com/drive/1JgU2MPUrITJBiEynZnFrZ8JyZAFYZY_1#offline=true&sandboxMode=true)*"
      ]
    },
    {
      "cell_type": "markdown",
      "metadata": {
        "id": "eVncKnxcC-MN",
        "colab_type": "text"
      },
      "source": [
        "This notebook is a simple demonstration of how to enrich point-of-interest data with census data using free and open-source data and software. \n",
        "\n",
        "## For more details see the accompanying blog: \n",
        "## [Everything you need to know to get started with Census and American Community Survey Data](https://www.safegraph.com/post/beginners-guide-to-census/?utm_source=content&utm_medium=referral&utm_campaign=colabnotebook&utm_content=beginners_census_guide)\n",
        "\n",
        "----\n",
        "### Open Census Data\n",
        "If you aren't familiar with Open Census Data, it is a free and easy CSV data download containing all of the Census and American Community Survey data. [Read here for more context on why we made Open Census Data](https://blog.safegraph.com/download-open-census-data-visualize-neighborhood-insights?utm_source=content&utm_medium=referral&utm_campaign=colabnotebook&utm_content=beginners_census_guide). It sounds too good to be true, but pinch yourself, this is real. \n"
      ]
    },
    {
      "cell_type": "markdown",
      "metadata": {
        "id": "fasX8CRCE34j",
        "colab_type": "text"
      },
      "source": [
        "---\n",
        "### Motivation\n",
        "\n",
        "There are thousands of reasons you may want to bring census data into your workflow. Whether you are a retailer considering opening a store at a new location, an out-of-home advertiser considering investing in new billboards, or a researcher from the CDC trying to identify correlates of cancer diagnoses across a national patient population, all of these use cases (and many more) have one thing in common: you need to know demographic information about a point-of-interest. \n",
        "\n",
        "Here we show a working example of how to join demographic data from the Census and American Community Survey to your point-of-interet data. \n"
      ]
    },
    {
      "cell_type": "code",
      "metadata": {
        "id": "VgZhGOpDAiBu",
        "colab_type": "code",
        "colab": {}
      },
      "source": [
        "# special libraries to allow file access\n",
        "from google.colab import drive as mountGoogleDrive \n",
        "from pydrive.auth import GoogleAuth\n",
        "from pydrive.drive import GoogleDrive\n",
        "from google.colab import auth\n",
        "from oauth2client.client import GoogleCredentials"
      ],
      "execution_count": 0,
      "outputs": []
    },
    {
      "cell_type": "markdown",
      "metadata": {
        "id": "UIaTFRl4GIaU",
        "colab_type": "text"
      },
      "source": [
        "\n",
        "## **How to use this notebook**:\n",
        "\n",
        "---\n",
        "\n",
        "**Quick Start:** \n",
        "1. You can run this notebook using some data I've prepared.  You only need to do one thing: Run the next cell, and follow the prompt to authenticate your google account.\n",
        "2. **Everything else will just run! Enjoy!**\n",
        "\n",
        "\n",
        "*p.s. FYI -- GeoPandas does not come installed in GoogleColab by default, so some of the cells below will install some libraries in your Google Colab session.*"
      ]
    },
    {
      "cell_type": "code",
      "metadata": {
        "id": "4PD_a23SCD6m",
        "colab_type": "code",
        "outputId": "8a509673-0556-4bcf-e6a8-1978b2e7a359",
        "colab": {
          "base_uri": "https://localhost:8080/",
          "height": 34
        }
      },
      "source": [
        "# These commands allow you to read directly from SafeGraph's public GoogleDrive containing Census Data and Sample Data\n",
        "auth.authenticate_user()  # Authenticate and create the PyDrive client. \n",
        "gauth = GoogleAuth()\n",
        "gauth.credentials = GoogleCredentials.get_application_default()\n",
        "drive = GoogleDrive(gauth)\n",
        "print(\"You are fully authenticated and can edit and re-run everything in the notebook. Enjoy!\")"
      ],
      "execution_count": 0,
      "outputs": [
        {
          "output_type": "stream",
          "text": [
            "You are fully authenticated and can edit and re-run everything in the notebook. Enjoy!\n"
          ],
          "name": "stdout"
        }
      ]
    },
    {
      "cell_type": "code",
      "metadata": {
        "id": "pwsgCe1dCD4a",
        "colab_type": "code",
        "colab": {}
      },
      "source": [
        "import pandas as pd"
      ],
      "execution_count": 0,
      "outputs": []
    },
    {
      "cell_type": "code",
      "metadata": {
        "id": "i0pCsmNMCD2S",
        "colab_type": "code",
        "colab": {}
      },
      "source": [
        "def pd_read_csv_drive(id, drive, dtype=None):\n",
        "  downloaded = drive.CreateFile({'id':id}) \n",
        "  downloaded.GetContentFile('Filename.csv')  \n",
        "  return(pd.read_csv('Filename.csv',dtype=dtype))\n",
        "\n",
        "def get_drive_id(filename):\n",
        "    # Note: OpenCensusData public GDrive folder: https://drive.google.com/open?id=1btSS6zo7_wJCCXAigkbhnaoeU-Voa9pG\n",
        "    # Note: Sample of SafeGraph Places data public GDrive folder: https://drive.google.com/open?id=1PRYLkWNlO-_5EXwFmUZbYbtr_UJmKjBq\n",
        "    drive_ids = {'cbg.geojson' : '19FIPhdpDTw_hKZemRvqu2V6OiFn5KjQ1',\n",
        "                 'cbg_b01.csv' : '1QqttoDRoKpZM2TyyRwJ8B9c5bYZrHysB',\n",
        "                 'cbg_b19.csv' : '1d9GscpWbrnP2xNLKKlgd6xLcFTzJydY4', # You can look up the IDs for other cbg files here: https://drive.google.com/open?id=1btSS6zo7_wJCCXAigkbhnaoeU-Voa9pG \n",
        "                 'cbg_field_descriptions.csv' : '1a7_7WxY6eaUIObkVwfknl9C7nPltYxPd',\n",
        "                 'sample_safegraph_places' : '1zgd13vjMlhiPDw1tsiR93lW3whBa-yOA' \n",
        "                 }\n",
        "    return(drive_ids[filename])"
      ],
      "execution_count": 0,
      "outputs": []
    },
    {
      "cell_type": "markdown",
      "metadata": {
        "id": "OXEVHN84Fftu",
        "colab_type": "text"
      },
      "source": [
        "## Step 1: Select Some Census Data\n",
        "\n",
        "For this example, we will analyze `Median Household Income` (table_id `B19013e1`) and `Median Age` (table_id `B01002e1`)\n",
        "\n",
        "\n",
        "Read more (LINK) for an orientation on the 7,500 possible variables you can choose from in Open Census Data and how to find them. \n",
        "\n",
        "You can [download Open Census Data here](https://www.safegraph.com/open-census-data?utm_source=content&utm_medium=referral&utm_campaign=colabnotebook&utm_content=beginners_census_guide), and I've loaded some of it into a public google drive to power this demo. \n"
      ]
    },
    {
      "cell_type": "code",
      "metadata": {
        "id": "KOcger61M-3t",
        "colab_type": "code",
        "outputId": "d6d8781d-13d4-49ec-81ec-d1886b2ac845",
        "colab": {
          "base_uri": "https://localhost:8080/",
          "height": 157
        }
      },
      "source": [
        "table_ids = ['B19013e1','B01002e1']\n",
        "cbg_field_desc = pd_read_csv_drive(get_drive_id('cbg_field_descriptions.csv'), drive=drive)\n",
        "cbg_field_desc[cbg_field_desc.table_id.isin(table_ids)]\n"
      ],
      "execution_count": 0,
      "outputs": [
        {
          "output_type": "execute_result",
          "data": {
            "text/html": [
              "<div>\n",
              "<style scoped>\n",
              "    .dataframe tbody tr th:only-of-type {\n",
              "        vertical-align: middle;\n",
              "    }\n",
              "\n",
              "    .dataframe tbody tr th {\n",
              "        vertical-align: top;\n",
              "    }\n",
              "\n",
              "    .dataframe thead th {\n",
              "        text-align: right;\n",
              "    }\n",
              "</style>\n",
              "<table border=\"1\" class=\"dataframe\">\n",
              "  <thead>\n",
              "    <tr style=\"text-align: right;\">\n",
              "      <th></th>\n",
              "      <th>table_id</th>\n",
              "      <th>field_full_name</th>\n",
              "      <th>field_level_1</th>\n",
              "      <th>field_level_2</th>\n",
              "      <th>field_level_3</th>\n",
              "      <th>field_level_4</th>\n",
              "      <th>field_level_5</th>\n",
              "      <th>field_level_6</th>\n",
              "      <th>field_level_7</th>\n",
              "      <th>field_level_8</th>\n",
              "    </tr>\n",
              "  </thead>\n",
              "  <tbody>\n",
              "    <tr>\n",
              "      <th>126</th>\n",
              "      <td>B01002e1</td>\n",
              "      <td>MEDIAN AGE BY SEX: Total: Total population -- ...</td>\n",
              "      <td>Median Age By Sex</td>\n",
              "      <td>Total</td>\n",
              "      <td>Total Population -- (Estimate)</td>\n",
              "      <td>NaN</td>\n",
              "      <td>NaN</td>\n",
              "      <td>NaN</td>\n",
              "      <td>NaN</td>\n",
              "      <td>NaN</td>\n",
              "    </tr>\n",
              "    <tr>\n",
              "      <th>3094</th>\n",
              "      <td>B19013e1</td>\n",
              "      <td>MEDIAN HOUSEHOLD INCOME IN THE PAST 12 MONTHS ...</td>\n",
              "      <td>Median Household Income In The Past 12 Months ...</td>\n",
              "      <td>Total</td>\n",
              "      <td>Households -- (Estimate)</td>\n",
              "      <td>NaN</td>\n",
              "      <td>NaN</td>\n",
              "      <td>NaN</td>\n",
              "      <td>NaN</td>\n",
              "      <td>NaN</td>\n",
              "    </tr>\n",
              "  </tbody>\n",
              "</table>\n",
              "</div>"
            ],
            "text/plain": [
              "      table_id  ... field_level_8\n",
              "126   B01002e1  ...           NaN\n",
              "3094  B19013e1  ...           NaN\n",
              "\n",
              "[2 rows x 10 columns]"
            ]
          },
          "metadata": {
            "tags": []
          },
          "execution_count": 13
        }
      ]
    },
    {
      "cell_type": "code",
      "metadata": {
        "id": "6LZdEw4JQU5D",
        "colab_type": "code",
        "outputId": "03590d25-d5b3-4b5f-a798-3c5d95df9320",
        "colab": {
          "base_uri": "https://localhost:8080/",
          "height": 197
        }
      },
      "source": [
        "cbg_data[['census_block_group'] + table_ids].head()"
      ],
      "execution_count": 0,
      "outputs": [
        {
          "output_type": "execute_result",
          "data": {
            "text/html": [
              "<div>\n",
              "<style scoped>\n",
              "    .dataframe tbody tr th:only-of-type {\n",
              "        vertical-align: middle;\n",
              "    }\n",
              "\n",
              "    .dataframe tbody tr th {\n",
              "        vertical-align: top;\n",
              "    }\n",
              "\n",
              "    .dataframe thead th {\n",
              "        text-align: right;\n",
              "    }\n",
              "</style>\n",
              "<table border=\"1\" class=\"dataframe\">\n",
              "  <thead>\n",
              "    <tr style=\"text-align: right;\">\n",
              "      <th></th>\n",
              "      <th>census_block_group</th>\n",
              "      <th>B19013e1</th>\n",
              "      <th>B01002e1</th>\n",
              "    </tr>\n",
              "  </thead>\n",
              "  <tbody>\n",
              "    <tr>\n",
              "      <th>0</th>\n",
              "      <td>010010201001</td>\n",
              "      <td>NaN</td>\n",
              "      <td>34.1</td>\n",
              "    </tr>\n",
              "    <tr>\n",
              "      <th>1</th>\n",
              "      <td>010010201002</td>\n",
              "      <td>77813.0</td>\n",
              "      <td>41.8</td>\n",
              "    </tr>\n",
              "    <tr>\n",
              "      <th>2</th>\n",
              "      <td>010010202001</td>\n",
              "      <td>25179.0</td>\n",
              "      <td>38.2</td>\n",
              "    </tr>\n",
              "    <tr>\n",
              "      <th>3</th>\n",
              "      <td>010010202002</td>\n",
              "      <td>45104.0</td>\n",
              "      <td>39.7</td>\n",
              "    </tr>\n",
              "    <tr>\n",
              "      <th>4</th>\n",
              "      <td>010010203001</td>\n",
              "      <td>55222.0</td>\n",
              "      <td>34.9</td>\n",
              "    </tr>\n",
              "  </tbody>\n",
              "</table>\n",
              "</div>"
            ],
            "text/plain": [
              "  census_block_group  B19013e1  B01002e1\n",
              "0       010010201001       NaN      34.1\n",
              "1       010010201002   77813.0      41.8\n",
              "2       010010202001   25179.0      38.2\n",
              "3       010010202002   45104.0      39.7\n",
              "4       010010203001   55222.0      34.9"
            ]
          },
          "metadata": {
            "tags": []
          },
          "execution_count": 26
        }
      ]
    },
    {
      "cell_type": "code",
      "metadata": {
        "id": "42BDjv7lCDz1",
        "colab_type": "code",
        "outputId": "4c02fdb7-1fab-48cd-dfa0-b0fbe0316cfd",
        "colab": {
          "base_uri": "https://localhost:8080/",
          "height": 197
        }
      },
      "source": [
        "cbg_b19 = pd_read_csv_drive(get_drive_id('cbg_b19.csv'), drive=drive, dtype={'census_block_group': str})\n",
        "cbg_b01 = pd_read_csv_drive(get_drive_id('cbg_b01.csv'), drive=drive, dtype={'census_block_group': str})\n",
        "cbg_data = pd.merge(cbg_b01, cbg_b19, on=['census_block_group'])\n",
        "cbg_data = cbg_data[['census_block_group'] + table_ids]\n",
        "cbg_data.dropna().head()"
      ],
      "execution_count": 0,
      "outputs": [
        {
          "output_type": "execute_result",
          "data": {
            "text/html": [
              "<div>\n",
              "<style scoped>\n",
              "    .dataframe tbody tr th:only-of-type {\n",
              "        vertical-align: middle;\n",
              "    }\n",
              "\n",
              "    .dataframe tbody tr th {\n",
              "        vertical-align: top;\n",
              "    }\n",
              "\n",
              "    .dataframe thead th {\n",
              "        text-align: right;\n",
              "    }\n",
              "</style>\n",
              "<table border=\"1\" class=\"dataframe\">\n",
              "  <thead>\n",
              "    <tr style=\"text-align: right;\">\n",
              "      <th></th>\n",
              "      <th>census_block_group</th>\n",
              "      <th>B19013e1</th>\n",
              "      <th>B01002e1</th>\n",
              "    </tr>\n",
              "  </thead>\n",
              "  <tbody>\n",
              "    <tr>\n",
              "      <th>1</th>\n",
              "      <td>010010201002</td>\n",
              "      <td>77813.0</td>\n",
              "      <td>41.8</td>\n",
              "    </tr>\n",
              "    <tr>\n",
              "      <th>2</th>\n",
              "      <td>010010202001</td>\n",
              "      <td>25179.0</td>\n",
              "      <td>38.2</td>\n",
              "    </tr>\n",
              "    <tr>\n",
              "      <th>3</th>\n",
              "      <td>010010202002</td>\n",
              "      <td>45104.0</td>\n",
              "      <td>39.7</td>\n",
              "    </tr>\n",
              "    <tr>\n",
              "      <th>4</th>\n",
              "      <td>010010203001</td>\n",
              "      <td>55222.0</td>\n",
              "      <td>34.9</td>\n",
              "    </tr>\n",
              "    <tr>\n",
              "      <th>5</th>\n",
              "      <td>010010203002</td>\n",
              "      <td>27212.0</td>\n",
              "      <td>49.1</td>\n",
              "    </tr>\n",
              "  </tbody>\n",
              "</table>\n",
              "</div>"
            ],
            "text/plain": [
              "  census_block_group  B19013e1  B01002e1\n",
              "1       010010201002   77813.0      41.8\n",
              "2       010010202001   25179.0      38.2\n",
              "3       010010202002   45104.0      39.7\n",
              "4       010010203001   55222.0      34.9\n",
              "5       010010203002   27212.0      49.1"
            ]
          },
          "metadata": {
            "tags": []
          },
          "execution_count": 33
        }
      ]
    },
    {
      "cell_type": "markdown",
      "metadata": {
        "id": "0S5zZlz8W1IV",
        "colab_type": "text"
      },
      "source": [
        "## Step 2: Add the census_block_group FIPs to your POI data\n",
        "\n",
        "As an example, we can look at SafeGraph Places data for Home Depot. We want to know what is the Median Income and Median Age for the census block group in which each Home Depot is located. \n",
        "\n",
        "Our workflow is: \n",
        "\n",
        "\n",
        "1.   Load SafeGraph Places data\n",
        "2.   Use GeoPandas to load the CBG Geometry GeoJSON from Open Census Data\n",
        "3.   Use GeoPandas to do a geospatial join between the latitude/longitude centroid in SG Places and the polygon in the CBG Geometry file. \n",
        "\n",
        "\n",
        "For more explanation on how this geospatial join works, see [Join Point-Of-Interest Data To Census Data](https://colab.research.google.com/drive/1Kt3vPVIQJUq4QeJ-rE08URpIJEr1g2H3#offline=true&sandboxMode=true)) \n"
      ]
    },
    {
      "cell_type": "markdown",
      "metadata": {
        "id": "ZRi7wA_tZBxE",
        "colab_type": "text"
      },
      "source": [
        "Step 2.1 Load SafeGraph Places data"
      ]
    },
    {
      "cell_type": "code",
      "metadata": {
        "id": "WPEveQY4WhCO",
        "colab_type": "code",
        "outputId": "0d174056-b29a-428c-9fce-9a60e5747ddb",
        "colab": {
          "base_uri": "https://localhost:8080/",
          "height": 568
        }
      },
      "source": [
        "places_df = pd_read_csv_drive(get_drive_id('sample_safegraph_places'), drive=drive)\n",
        "print(places_df.shape)\n",
        "places_df.head()"
      ],
      "execution_count": 0,
      "outputs": [
        {
          "output_type": "stream",
          "text": [
            "(1984, 38)\n"
          ],
          "name": "stdout"
        },
        {
          "output_type": "execute_result",
          "data": {
            "text/html": [
              "<div>\n",
              "<style scoped>\n",
              "    .dataframe tbody tr th:only-of-type {\n",
              "        vertical-align: middle;\n",
              "    }\n",
              "\n",
              "    .dataframe tbody tr th {\n",
              "        vertical-align: top;\n",
              "    }\n",
              "\n",
              "    .dataframe thead th {\n",
              "        text-align: right;\n",
              "    }\n",
              "</style>\n",
              "<table border=\"1\" class=\"dataframe\">\n",
              "  <thead>\n",
              "    <tr style=\"text-align: right;\">\n",
              "      <th></th>\n",
              "      <th>safegraph_place_id</th>\n",
              "      <th>parent_safegraph_place_id</th>\n",
              "      <th>safegraph_brand_ids</th>\n",
              "      <th>location_name</th>\n",
              "      <th>brands</th>\n",
              "      <th>top_category</th>\n",
              "      <th>sub_category</th>\n",
              "      <th>naics_code</th>\n",
              "      <th>latitude</th>\n",
              "      <th>longitude</th>\n",
              "      <th>street_address</th>\n",
              "      <th>city</th>\n",
              "      <th>region</th>\n",
              "      <th>postal_code</th>\n",
              "      <th>open_hours</th>\n",
              "      <th>category_tags</th>\n",
              "      <th>polygon_wkt</th>\n",
              "      <th>polygon_class</th>\n",
              "      <th>phone_number</th>\n",
              "      <th>is_synthetic</th>\n",
              "      <th>includes_parking_lot</th>\n",
              "      <th>iso_country_code</th>\n",
              "      <th>date_range_start</th>\n",
              "      <th>date_range_end</th>\n",
              "      <th>raw_visit_counts</th>\n",
              "      <th>raw_visitor_counts</th>\n",
              "      <th>visits_by_day</th>\n",
              "      <th>visitor_home_cbgs</th>\n",
              "      <th>visitor_work_cbgs</th>\n",
              "      <th>visitor_country_of_origin</th>\n",
              "      <th>distance_from_home</th>\n",
              "      <th>median_dwell</th>\n",
              "      <th>bucketed_dwell_times</th>\n",
              "      <th>related_same_day_brand</th>\n",
              "      <th>related_same_month_brand</th>\n",
              "      <th>popularity_by_hour</th>\n",
              "      <th>popularity_by_day</th>\n",
              "      <th>device_type</th>\n",
              "    </tr>\n",
              "  </thead>\n",
              "  <tbody>\n",
              "    <tr>\n",
              "      <th>0</th>\n",
              "      <td>sg:bfb88a1910434b169e5733a7015eb192</td>\n",
              "      <td>sg:d65e327ffc174e558b1c4450da1b47f2</td>\n",
              "      <td>SG_BRAND_8cebb51fb05f1bf005e53bfec08d6c10</td>\n",
              "      <td>The Home Depot</td>\n",
              "      <td>The Home Depot</td>\n",
              "      <td>Building Material and Supplies Dealers</td>\n",
              "      <td>Hardware Stores</td>\n",
              "      <td>444130</td>\n",
              "      <td>33.988801</td>\n",
              "      <td>-117.704133</td>\n",
              "      <td>14549 Ramona Ave</td>\n",
              "      <td>Chino</td>\n",
              "      <td>CA</td>\n",
              "      <td>91710</td>\n",
              "      <td>{ \"Mon\": [[\"6:00\", \"22:00\"]], \"Tue\": [[\"6:00\",...</td>\n",
              "      <td>NaN</td>\n",
              "      <td>POLYGON ((-117.7045127749443 33.98971909914596...</td>\n",
              "      <td>OWNED_POLYGON</td>\n",
              "      <td>1.909394e+10</td>\n",
              "      <td>False</td>\n",
              "      <td>NaN</td>\n",
              "      <td>US</td>\n",
              "      <td>1.575158e+09</td>\n",
              "      <td>1.577837e+09</td>\n",
              "      <td>2415.0</td>\n",
              "      <td>1554.0</td>\n",
              "      <td>[108,83,59,66,90,101,136,114,104,79,77,76,89,9...</td>\n",
              "      <td>{\"060710019031\":77,\"060710001162\":42,\"06071000...</td>\n",
              "      <td>{\"060710005043\":33,\"060710001152\":32,\"06071000...</td>\n",
              "      <td>{\"US\":1529}</td>\n",
              "      <td>5272.0</td>\n",
              "      <td>19.0</td>\n",
              "      <td>{\"&lt;5\":53,\"5-20\":1277,\"21-60\":805,\"61-240\":214,...</td>\n",
              "      <td>{\"McDonald's\":10}</td>\n",
              "      <td>{\"Starbucks\":44,\"Target\":38,\"Costco Wholesale ...</td>\n",
              "      <td>[4,4,4,4,3,14,46,96,157,241,295,333,351,357,35...</td>\n",
              "      <td>{\"Monday\":382,\"Tuesday\":301,\"Wednesday\":201,\"T...</td>\n",
              "      <td>{\"android\":957,\"ios\":597}</td>\n",
              "    </tr>\n",
              "    <tr>\n",
              "      <th>1</th>\n",
              "      <td>sg:c5f302af4c5b4dfe9c88d4ac20b22f09</td>\n",
              "      <td>sg:cfe9f6e3a75c44d583c59b14817f6c32</td>\n",
              "      <td>SG_BRAND_8cebb51fb05f1bf005e53bfec08d6c10</td>\n",
              "      <td>The Home Depot</td>\n",
              "      <td>The Home Depot</td>\n",
              "      <td>Building Material and Supplies Dealers</td>\n",
              "      <td>Hardware Stores</td>\n",
              "      <td>444130</td>\n",
              "      <td>33.912652</td>\n",
              "      <td>-83.444808</td>\n",
              "      <td>1740 Epps Bridge Pkwy</td>\n",
              "      <td>Athens</td>\n",
              "      <td>GA</td>\n",
              "      <td>30606</td>\n",
              "      <td>{ \"Mon\": [[\"6:00\", \"22:00\"]], \"Tue\": [[\"6:00\",...</td>\n",
              "      <td>NaN</td>\n",
              "      <td>POLYGON ((-83.44516396522522 33.91324411319755...</td>\n",
              "      <td>OWNED_POLYGON</td>\n",
              "      <td>1.706354e+10</td>\n",
              "      <td>False</td>\n",
              "      <td>NaN</td>\n",
              "      <td>US</td>\n",
              "      <td>1.575158e+09</td>\n",
              "      <td>1.577837e+09</td>\n",
              "      <td>2549.0</td>\n",
              "      <td>1738.0</td>\n",
              "      <td>[133,73,80,86,60,78,90,105,75,74,65,71,62,122,...</td>\n",
              "      <td>{\"132190301002\":91,\"132190303001\":59,\"13219030...</td>\n",
              "      <td>{\"132190301001\":33,\"132190301002\":25,\"13219030...</td>\n",
              "      <td>{\"US\":1712}</td>\n",
              "      <td>18250.0</td>\n",
              "      <td>20.0</td>\n",
              "      <td>{\"&lt;5\":50,\"5-20\":1341,\"21-60\":830,\"61-240\":208,...</td>\n",
              "      <td>{\"Lowe's\":14,\"Tires Plus\":8,\"Academy Sports + ...</td>\n",
              "      <td>{\"Walmart\":50,\"Chick-fil-A\":47,\"Kroger\":41,\"Lo...</td>\n",
              "      <td>[11,11,15,13,35,72,88,131,215,285,341,450,443,...</td>\n",
              "      <td>{\"Monday\":383,\"Tuesday\":358,\"Wednesday\":216,\"T...</td>\n",
              "      <td>{\"android\":860,\"ios\":879}</td>\n",
              "    </tr>\n",
              "    <tr>\n",
              "      <th>2</th>\n",
              "      <td>sg:f7468238732b45d9bf7f662efdc342a0</td>\n",
              "      <td>NaN</td>\n",
              "      <td>SG_BRAND_8cebb51fb05f1bf005e53bfec08d6c10</td>\n",
              "      <td>The Home Depot</td>\n",
              "      <td>The Home Depot</td>\n",
              "      <td>Building Material and Supplies Dealers</td>\n",
              "      <td>Hardware Stores</td>\n",
              "      <td>444130</td>\n",
              "      <td>30.350485</td>\n",
              "      <td>-91.028705</td>\n",
              "      <td>18139 Highland Rd</td>\n",
              "      <td>Baton Rouge</td>\n",
              "      <td>LA</td>\n",
              "      <td>70810</td>\n",
              "      <td>{ \"Mon\": [[\"6:00\", \"22:00\"]], \"Tue\": [[\"6:00\",...</td>\n",
              "      <td>NaN</td>\n",
              "      <td>POLYGON ((-91.02857887744904 30.35129397140938...</td>\n",
              "      <td>OWNED_POLYGON</td>\n",
              "      <td>1.225755e+10</td>\n",
              "      <td>False</td>\n",
              "      <td>NaN</td>\n",
              "      <td>US</td>\n",
              "      <td>1.575158e+09</td>\n",
              "      <td>1.577837e+09</td>\n",
              "      <td>1919.0</td>\n",
              "      <td>1265.0</td>\n",
              "      <td>[84,59,54,58,51,54,64,111,62,49,59,57,71,86,77...</td>\n",
              "      <td>{\"220050302031\":102,\"220330045101\":63,\"2203300...</td>\n",
              "      <td>{\"220330040092\":40,\"220050303003\":20,\"22005030...</td>\n",
              "      <td>{\"US\":1235}</td>\n",
              "      <td>8702.0</td>\n",
              "      <td>19.0</td>\n",
              "      <td>{\"&lt;5\":44,\"5-20\":1069,\"21-60\":592,\"61-240\":132,...</td>\n",
              "      <td>{\"Walmart\":7}</td>\n",
              "      <td>{\"Walmart\":56,\"Shell Oil\":36,\"Walgreens\":33,\"R...</td>\n",
              "      <td>[8,7,5,4,5,27,55,105,166,220,267,330,342,338,3...</td>\n",
              "      <td>{\"Monday\":312,\"Tuesday\":278,\"Wednesday\":180,\"T...</td>\n",
              "      <td>{\"android\":516,\"ios\":750}</td>\n",
              "    </tr>\n",
              "    <tr>\n",
              "      <th>3</th>\n",
              "      <td>sg:19d8ab8d4ed34c5e89b1ec29371e1057</td>\n",
              "      <td>NaN</td>\n",
              "      <td>SG_BRAND_8cebb51fb05f1bf005e53bfec08d6c10</td>\n",
              "      <td>The Home Depot</td>\n",
              "      <td>The Home Depot</td>\n",
              "      <td>Building Material and Supplies Dealers</td>\n",
              "      <td>Hardware Stores</td>\n",
              "      <td>444130</td>\n",
              "      <td>39.058327</td>\n",
              "      <td>-76.960460</td>\n",
              "      <td>2300 Broadbirch Dr</td>\n",
              "      <td>Silver Spring</td>\n",
              "      <td>MD</td>\n",
              "      <td>20904</td>\n",
              "      <td>{ \"Mon\": [[\"6:00\", \"22:00\"]], \"Tue\": [[\"6:00\",...</td>\n",
              "      <td>NaN</td>\n",
              "      <td>POLYGON ((-76.960631 39.05891, -76.960308 39.0...</td>\n",
              "      <td>OWNED_POLYGON</td>\n",
              "      <td>1.301680e+10</td>\n",
              "      <td>False</td>\n",
              "      <td>NaN</td>\n",
              "      <td>US</td>\n",
              "      <td>1.575158e+09</td>\n",
              "      <td>1.577837e+09</td>\n",
              "      <td>1879.0</td>\n",
              "      <td>1161.0</td>\n",
              "      <td>[61,61,62,60,67,60,87,65,60,64,65,60,59,72,81,...</td>\n",
              "      <td>{\"240317014181\":25,\"240317014141\":21,\"24031701...</td>\n",
              "      <td>{\"240317014211\":14,\"240317015061\":7,\"240317014...</td>\n",
              "      <td>{\"US\":1122}</td>\n",
              "      <td>5892.0</td>\n",
              "      <td>21.0</td>\n",
              "      <td>{\"&lt;5\":22,\"5-20\":911,\"21-60\":716,\"61-240\":157,\"...</td>\n",
              "      <td>{\"ShopRite\":5}</td>\n",
              "      <td>{\"Giant Food\":38,\"McDonald's\":36,\"7-Eleven\":33...</td>\n",
              "      <td>[19,23,22,18,20,33,70,109,159,223,215,245,266,...</td>\n",
              "      <td>{\"Monday\":311,\"Tuesday\":292,\"Wednesday\":191,\"T...</td>\n",
              "      <td>{\"android\":769,\"ios\":393}</td>\n",
              "    </tr>\n",
              "    <tr>\n",
              "      <th>4</th>\n",
              "      <td>sg:5c8e92835222419b801b2969493b3134</td>\n",
              "      <td>NaN</td>\n",
              "      <td>SG_BRAND_8cebb51fb05f1bf005e53bfec08d6c10</td>\n",
              "      <td>The Home Depot</td>\n",
              "      <td>The Home Depot</td>\n",
              "      <td>Building Material and Supplies Dealers</td>\n",
              "      <td>Hardware Stores</td>\n",
              "      <td>444130</td>\n",
              "      <td>41.926553</td>\n",
              "      <td>-87.792062</td>\n",
              "      <td>2555 N Normandy Ave</td>\n",
              "      <td>Chicago</td>\n",
              "      <td>IL</td>\n",
              "      <td>60707</td>\n",
              "      <td>{ \"Mon\": [[\"6:00\", \"22:00\"]], \"Tue\": [[\"6:00\",...</td>\n",
              "      <td>NaN</td>\n",
              "      <td>POLYGON ((-87.79159 41.925971, -87.791592 41.9...</td>\n",
              "      <td>OWNED_POLYGON</td>\n",
              "      <td>1.773746e+10</td>\n",
              "      <td>False</td>\n",
              "      <td>NaN</td>\n",
              "      <td>US</td>\n",
              "      <td>1.575158e+09</td>\n",
              "      <td>1.577837e+09</td>\n",
              "      <td>2926.0</td>\n",
              "      <td>1643.0</td>\n",
              "      <td>[112,95,102,101,83,98,115,118,97,103,93,79,86,...</td>\n",
              "      <td>{\"170318316001\":19,\"170318107014\":17,\"17031190...</td>\n",
              "      <td>{\"170318391001\":13,\"170311904021\":11,\"17031191...</td>\n",
              "      <td>{\"US\":1557}</td>\n",
              "      <td>3259.0</td>\n",
              "      <td>21.0</td>\n",
              "      <td>{\"&lt;5\":49,\"5-20\":1413,\"21-60\":905,\"61-240\":308,...</td>\n",
              "      <td>{\"Lowe's\":7}</td>\n",
              "      <td>{\"Walgreens\":36,\"Dunkin'\":31,\"McDonald's\":31,\"...</td>\n",
              "      <td>[171,145,138,139,132,162,175,220,292,353,361,3...</td>\n",
              "      <td>{\"Monday\":495,\"Tuesday\":428,\"Wednesday\":304,\"T...</td>\n",
              "      <td>{\"android\":1077,\"ios\":567}</td>\n",
              "    </tr>\n",
              "  </tbody>\n",
              "</table>\n",
              "</div>"
            ],
            "text/plain": [
              "                    safegraph_place_id  ...                 device_type\n",
              "0  sg:bfb88a1910434b169e5733a7015eb192  ...   {\"android\":957,\"ios\":597}\n",
              "1  sg:c5f302af4c5b4dfe9c88d4ac20b22f09  ...   {\"android\":860,\"ios\":879}\n",
              "2  sg:f7468238732b45d9bf7f662efdc342a0  ...   {\"android\":516,\"ios\":750}\n",
              "3  sg:19d8ab8d4ed34c5e89b1ec29371e1057  ...   {\"android\":769,\"ios\":393}\n",
              "4  sg:5c8e92835222419b801b2969493b3134  ...  {\"android\":1077,\"ios\":567}\n",
              "\n",
              "[5 rows x 38 columns]"
            ]
          },
          "metadata": {
            "tags": []
          },
          "execution_count": 34
        }
      ]
    },
    {
      "cell_type": "markdown",
      "metadata": {
        "id": "69mqwG_NZH0l",
        "colab_type": "text"
      },
      "source": [
        "Step 2.2 Use GeoPandas to load the CBG Geometry GeoJSON from Open Census Data"
      ]
    },
    {
      "cell_type": "code",
      "metadata": {
        "id": "Y0w04utkX9sv",
        "colab_type": "code",
        "outputId": "9aa5cf2d-3cad-4c46-eba6-fcf58d4d8795",
        "colab": {
          "base_uri": "https://localhost:8080/",
          "height": 641
        }
      },
      "source": [
        "%%time \n",
        "# Install Geopandas (for spatial joins) onto Google CoLab\n",
        "# HT: https://github.com/geopandas/geopandas/issues/901#issuecomment-458390318\n",
        "\n",
        "# Install Gdal - rtree pre-req\n",
        "!apt install gdal-bin python-gdal python3-gdal \n",
        "# Install rtree - Geopandas requirment\n",
        "!apt install python3-rtree \n",
        "# Install Geopandas\n",
        "!pip install git+git://github.com/geopandas/geopandas.git\n",
        "\n",
        "import geopandas as gpd"
      ],
      "execution_count": 0,
      "outputs": [
        {
          "output_type": "stream",
          "text": [
            "E: dpkg was interrupted, you must manually run 'dpkg --configure -a' to correct the problem. \n",
            "E: dpkg was interrupted, you must manually run 'dpkg --configure -a' to correct the problem. \n",
            "Collecting git+git://github.com/geopandas/geopandas.git\n",
            "  Cloning git://github.com/geopandas/geopandas.git to /tmp/pip-req-build-ld7re88r\n",
            "  Running command git clone -q git://github.com/geopandas/geopandas.git /tmp/pip-req-build-ld7re88r\n",
            "Requirement already satisfied: pandas>=0.23.0 in /usr/local/lib/python3.6/dist-packages (from geopandas==0.6.1+33.gadd5fe9) (0.25.3)\n",
            "Requirement already satisfied: shapely in /usr/local/lib/python3.6/dist-packages (from geopandas==0.6.1+33.gadd5fe9) (1.6.4.post2)\n",
            "Collecting fiona\n",
            "\u001b[?25l  Downloading https://files.pythonhosted.org/packages/50/f7/9899f8a9a2e38601472fe1079ce5088f58833221c8b8507d8b5eafd5404a/Fiona-1.8.13-cp36-cp36m-manylinux1_x86_64.whl (11.8MB)\n",
            "\u001b[K     |████████████████████████████████| 11.8MB 2.8MB/s \n",
            "\u001b[?25hCollecting pyproj\n",
            "\u001b[?25l  Downloading https://files.pythonhosted.org/packages/d6/70/eedc98cd52b86de24a1589c762612a98bea26cde649ffdd60c1db396cce8/pyproj-2.4.2.post1-cp36-cp36m-manylinux2010_x86_64.whl (10.1MB)\n",
            "\u001b[K     |████████████████████████████████| 10.1MB 24.7MB/s \n",
            "\u001b[?25hRequirement already satisfied: python-dateutil>=2.6.1 in /usr/local/lib/python3.6/dist-packages (from pandas>=0.23.0->geopandas==0.6.1+33.gadd5fe9) (2.6.1)\n",
            "Requirement already satisfied: pytz>=2017.2 in /usr/local/lib/python3.6/dist-packages (from pandas>=0.23.0->geopandas==0.6.1+33.gadd5fe9) (2018.9)\n",
            "Requirement already satisfied: numpy>=1.13.3 in /usr/local/lib/python3.6/dist-packages (from pandas>=0.23.0->geopandas==0.6.1+33.gadd5fe9) (1.17.5)\n",
            "Requirement already satisfied: six>=1.7 in /usr/local/lib/python3.6/dist-packages (from fiona->geopandas==0.6.1+33.gadd5fe9) (1.12.0)\n",
            "Requirement already satisfied: click<8,>=4.0 in /usr/local/lib/python3.6/dist-packages (from fiona->geopandas==0.6.1+33.gadd5fe9) (7.0)\n",
            "Collecting cligj>=0.5\n",
            "  Downloading https://files.pythonhosted.org/packages/e4/be/30a58b4b0733850280d01f8bd132591b4668ed5c7046761098d665ac2174/cligj-0.5.0-py3-none-any.whl\n",
            "Collecting click-plugins>=1.0\n",
            "  Downloading https://files.pythonhosted.org/packages/e9/da/824b92d9942f4e472702488857914bdd50f73021efea15b4cad9aca8ecef/click_plugins-1.1.1-py2.py3-none-any.whl\n",
            "Collecting munch\n",
            "  Downloading https://files.pythonhosted.org/packages/cc/ab/85d8da5c9a45e072301beb37ad7f833cd344e04c817d97e0cc75681d248f/munch-2.5.0-py2.py3-none-any.whl\n",
            "Requirement already satisfied: attrs>=17 in /usr/local/lib/python3.6/dist-packages (from fiona->geopandas==0.6.1+33.gadd5fe9) (19.3.0)\n",
            "Building wheels for collected packages: geopandas\n",
            "  Building wheel for geopandas (setup.py) ... \u001b[?25l\u001b[?25hdone\n",
            "  Created wheel for geopandas: filename=geopandas-0.6.1+33.gadd5fe9-py2.py3-none-any.whl size=921332 sha256=b306cdff6a5b22fbc99c50599c2a5972cdb111f22b38bd3bebb95bf258ff0266\n",
            "  Stored in directory: /tmp/pip-ephem-wheel-cache-x4xiwqeo/wheels/91/24/71/376c9c67192694168352afcccc2d264248f7e2cc6192997186\n",
            "Successfully built geopandas\n",
            "Installing collected packages: cligj, click-plugins, munch, fiona, pyproj, geopandas\n",
            "Successfully installed click-plugins-1.1.1 cligj-0.5.0 fiona-1.8.13 geopandas-0.6.1+33.gadd5fe9 munch-2.5.0 pyproj-2.4.2.post1\n",
            "CPU times: user 270 ms, sys: 217 ms, total: 487 ms\n",
            "Wall time: 12.2 s\n"
          ],
          "name": "stdout"
        }
      ]
    },
    {
      "cell_type": "markdown",
      "metadata": {
        "id": "mFTz-DhcXrBt",
        "colab_type": "text"
      },
      "source": [
        "Load all of the Census Block Group Geometries from Open Census Data. \n",
        "\n",
        "This is a large GeoJSON file so loading is a slow step (~ 4min 30 seconds)"
      ]
    },
    {
      "cell_type": "code",
      "metadata": {
        "id": "IImRTJnJWgyp",
        "colab_type": "code",
        "outputId": "d8eb065e-9e8c-4796-b7ec-5c0997bcb6f9",
        "colab": {
          "base_uri": "https://localhost:8080/",
          "height": 212
        }
      },
      "source": [
        "%%time\n",
        "# SLOW -- this is a large GeoJSON, so loading is a slow step. ~ 4min 30seconds\n",
        "downloaded = drive.CreateFile({'id':get_drive_id('cbg.geojson')}) \n",
        "downloaded.GetContentFile('CBG_GEOS.csv')  \n",
        "cbg_geos = gpd.read_file('CBG_GEOS.csv')\n",
        "print(cbg_geos.shape)\n",
        "print(cbg_geos.head())"
      ],
      "execution_count": 0,
      "outputs": [
        {
          "output_type": "stream",
          "text": [
            "(220333, 9)\n",
            "  StateFIPS  ...                                           geometry\n",
            "0        01  ...  MULTIPOLYGON (((-85.37282 32.63424, -85.37275 ...\n",
            "1        01  ...  MULTIPOLYGON (((-85.38346 32.64838, -85.38301 ...\n",
            "2        01  ...  MULTIPOLYGON (((-85.37139 32.60139, -85.37138 ...\n",
            "3        01  ...  MULTIPOLYGON (((-86.64797 33.59205, -86.64771 ...\n",
            "4        01  ...  MULTIPOLYGON (((-86.65206 33.59869, -86.65204 ...\n",
            "\n",
            "[5 rows x 9 columns]\n",
            "CPU times: user 4min 26s, sys: 15.3 s, total: 4min 42s\n",
            "Wall time: 5min 32s\n"
          ],
          "name": "stdout"
        }
      ]
    },
    {
      "cell_type": "markdown",
      "metadata": {
        "id": "SxuuczH3ZUwM",
        "colab_type": "text"
      },
      "source": [
        "Step 2.3 Use GeoPandas to do a geospatial join between the latitude/longitude centroid in SG Places and the polygon in the CBG Geometry file."
      ]
    },
    {
      "cell_type": "code",
      "metadata": {
        "id": "vdV-pellWgvz",
        "colab_type": "code",
        "outputId": "34292415-e571-4606-8e2d-a8ffffdd3fd2",
        "colab": {
          "base_uri": "https://localhost:8080/",
          "height": 105
        }
      },
      "source": [
        "%%time\n",
        "places_gpd = places_df.copy()\n",
        "print(places_gpd.shape)\n",
        "places_gpd = places_gpd[places_gpd.iso_country_code=='US'][['safegraph_place_id', 'latitude', 'longitude']]\n",
        "print(places_gpd.shape)\n",
        "places_gpd = gpd.GeoDataFrame(places_gpd, geometry=gpd.points_from_xy(places_gpd.longitude, places_gpd.latitude))\n",
        "places_gpd.crs = {'init' :'epsg:4326'} \n",
        "places_gpd = places_gpd[places_gpd.geometry.type == 'Point'][['safegraph_place_id', 'geometry']]\n",
        "print(places_gpd.shape)"
      ],
      "execution_count": 0,
      "outputs": [
        {
          "output_type": "stream",
          "text": [
            "(1984, 38)\n",
            "(1984, 3)\n",
            "(1984, 2)\n",
            "CPU times: user 33.8 ms, sys: 1.15 ms, total: 34.9 ms\n",
            "Wall time: 48.3 ms\n"
          ],
          "name": "stdout"
        }
      ]
    },
    {
      "cell_type": "code",
      "metadata": {
        "id": "-ZBqa68zZiZJ",
        "colab_type": "code",
        "outputId": "f99e0129-7246-4125-de9f-4e67fab6b26a",
        "colab": {
          "base_uri": "https://localhost:8080/",
          "height": 233
        }
      },
      "source": [
        "print(cbg_geos.shape)\n",
        "cbgs = cbg_geos.rename(columns={'CensusBlockGroup':'census_block_group'})[['census_block_group', 'geometry']]\n",
        "cbgs = cbgs[cbgs.geometry.type.isin(['Polygon', 'MultiPolygon'])]\n",
        "print(cbgs.shape)\n",
        "cbgs.head()"
      ],
      "execution_count": 0,
      "outputs": [
        {
          "output_type": "stream",
          "text": [
            "(220333, 9)\n",
            "(220333, 2)\n"
          ],
          "name": "stdout"
        },
        {
          "output_type": "execute_result",
          "data": {
            "text/html": [
              "<div>\n",
              "<style scoped>\n",
              "    .dataframe tbody tr th:only-of-type {\n",
              "        vertical-align: middle;\n",
              "    }\n",
              "\n",
              "    .dataframe tbody tr th {\n",
              "        vertical-align: top;\n",
              "    }\n",
              "\n",
              "    .dataframe thead th {\n",
              "        text-align: right;\n",
              "    }\n",
              "</style>\n",
              "<table border=\"1\" class=\"dataframe\">\n",
              "  <thead>\n",
              "    <tr style=\"text-align: right;\">\n",
              "      <th></th>\n",
              "      <th>census_block_group</th>\n",
              "      <th>geometry</th>\n",
              "    </tr>\n",
              "  </thead>\n",
              "  <tbody>\n",
              "    <tr>\n",
              "      <th>0</th>\n",
              "      <td>010810416001</td>\n",
              "      <td>MULTIPOLYGON (((-85.37282 32.63424, -85.37275 ...</td>\n",
              "    </tr>\n",
              "    <tr>\n",
              "      <th>1</th>\n",
              "      <td>010810416002</td>\n",
              "      <td>MULTIPOLYGON (((-85.38346 32.64838, -85.38301 ...</td>\n",
              "    </tr>\n",
              "    <tr>\n",
              "      <th>2</th>\n",
              "      <td>010810417004</td>\n",
              "      <td>MULTIPOLYGON (((-85.37139 32.60139, -85.37138 ...</td>\n",
              "    </tr>\n",
              "    <tr>\n",
              "      <th>3</th>\n",
              "      <td>010730111074</td>\n",
              "      <td>MULTIPOLYGON (((-86.64797 33.59205, -86.64771 ...</td>\n",
              "    </tr>\n",
              "    <tr>\n",
              "      <th>4</th>\n",
              "      <td>010730111084</td>\n",
              "      <td>MULTIPOLYGON (((-86.65206 33.59869, -86.65204 ...</td>\n",
              "    </tr>\n",
              "  </tbody>\n",
              "</table>\n",
              "</div>"
            ],
            "text/plain": [
              "  census_block_group                                           geometry\n",
              "0       010810416001  MULTIPOLYGON (((-85.37282 32.63424, -85.37275 ...\n",
              "1       010810416002  MULTIPOLYGON (((-85.38346 32.64838, -85.38301 ...\n",
              "2       010810417004  MULTIPOLYGON (((-85.37139 32.60139, -85.37138 ...\n",
              "3       010730111074  MULTIPOLYGON (((-86.64797 33.59205, -86.64771 ...\n",
              "4       010730111084  MULTIPOLYGON (((-86.65206 33.59869, -86.65204 ..."
            ]
          },
          "metadata": {
            "tags": []
          },
          "execution_count": 41
        }
      ]
    },
    {
      "cell_type": "code",
      "metadata": {
        "id": "uRjdsJm7ZnPM",
        "colab_type": "code",
        "outputId": "0f2a1323-88be-4fdb-ddc4-267d44bae768",
        "colab": {
          "base_uri": "https://localhost:8080/",
          "height": 230
        }
      },
      "source": [
        "%%time\n",
        "# SLOW STEP. Spatial Join.\n",
        "poi_cbgs = gpd.sjoin(places_gpd, cbgs, how=\"left\", op='intersects')\n",
        "print(poi_cbgs.shape)\n",
        "print(poi_cbgs[~poi_cbgs.census_block_group.isna()].shape)\n",
        "print(poi_cbgs.head())"
      ],
      "execution_count": 0,
      "outputs": [
        {
          "output_type": "stream",
          "text": [
            "(1984, 4)\n",
            "(1982, 4)\n",
            "                    safegraph_place_id  ... census_block_group\n",
            "0  sg:bfb88a1910434b169e5733a7015eb192  ...       060710005043\n",
            "1  sg:c5f302af4c5b4dfe9c88d4ac20b22f09  ...       132190302001\n",
            "2  sg:f7468238732b45d9bf7f662efdc342a0  ...       220330040091\n",
            "3  sg:19d8ab8d4ed34c5e89b1ec29371e1057  ...       240317014211\n",
            "4  sg:5c8e92835222419b801b2969493b3134  ...       170318316001\n",
            "\n",
            "[5 rows x 4 columns]\n",
            "CPU times: user 17.4 s, sys: 42.8 ms, total: 17.4 s\n",
            "Wall time: 17.8 s\n"
          ],
          "name": "stdout"
        }
      ]
    },
    {
      "cell_type": "markdown",
      "metadata": {
        "id": "hweuacaEZupf",
        "colab_type": "text"
      },
      "source": [
        "### Step 3. We're done. \n",
        "\n",
        "Now we have a map of `safegraph_place_id` to `census_block_group`, and can join the two datasets and do our analysis. \n",
        "\n",
        "For example, I can ask, \"What is the distribution of `Median Age` and `Median Income` for `census_block_group`s containing a Home Depot? "
      ]
    },
    {
      "cell_type": "code",
      "metadata": {
        "id": "sTfSwHVnZnM0",
        "colab_type": "code",
        "colab": {}
      },
      "source": [
        "places_df_cbg = pd.merge(places_df, poi_cbgs, on=['safegraph_place_id'])\n",
        "places_df_demos = pd.merge(places_df_cbg, cbg_data, on=['census_block_group'])\n"
      ],
      "execution_count": 0,
      "outputs": []
    },
    {
      "cell_type": "code",
      "metadata": {
        "id": "8TsTIxPkaUvv",
        "colab_type": "code",
        "outputId": "56ebb072-e75b-44c6-ef26-d0ea049a30f6",
        "colab": {
          "base_uri": "https://localhost:8080/",
          "height": 282
        }
      },
      "source": [
        "# Show me the distribution of Median Age for Census Block Groups containing a Home Depot\n",
        "places_df_demos['B01002e1'].hist(bins=20)"
      ],
      "execution_count": 0,
      "outputs": [
        {
          "output_type": "execute_result",
          "data": {
            "text/plain": [
              "<matplotlib.axes._subplots.AxesSubplot at 0x7f2c208862b0>"
            ]
          },
          "metadata": {
            "tags": []
          },
          "execution_count": 46
        },
        {
          "output_type": "display_data",
          "data": {
            "image/png": "[encoded data removed]",
            "text/plain": [
              "<Figure size 432x288 with 1 Axes>"
            ]
          },
          "metadata": {
            "tags": []
          }
        }
      ]
    },
    {
      "cell_type": "code",
      "metadata": {
        "id": "IJpFykewaiQD",
        "colab_type": "code",
        "outputId": "41979688-f3a0-4387-f08f-caa0758d90ce",
        "colab": {
          "base_uri": "https://localhost:8080/",
          "height": 282
        }
      },
      "source": [
        "# Show me the distribution of Median Income for Census Block Groups containing a Home Depot\n",
        "places_df_demos['B19013e1'].hist(bins=20)"
      ],
      "execution_count": 0,
      "outputs": [
        {
          "output_type": "execute_result",
          "data": {
            "text/plain": [
              "<matplotlib.axes._subplots.AxesSubplot at 0x7f2c20799c88>"
            ]
          },
          "metadata": {
            "tags": []
          },
          "execution_count": 47
        },
        {
          "output_type": "display_data",
          "data": {
            "image/png": "[encoded data removed]",
            "text/plain": [
              "<Figure size 432x288 with 1 Axes>"
            ]
          },
          "metadata": {
            "tags": []
          }
        }
      ]
    }
  ]
}