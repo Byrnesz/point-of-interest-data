{
  "nbformat": 4,
  "nbformat_minor": 0,
  "metadata": {
    "colab": {
      "name": "Guide - Build Customer Demographic Profile.ipynb",
      "provenance": [],
      "collapsed_sections": [],
      "toc_visible": true,
      "include_colab_link": true
    },
    "kernelspec": {
      "name": "python3",
      "display_name": "Python 3"
    },
    "accelerator": "GPU"
  },
  "cells": [
    {
      "cell_type": "markdown",
      "metadata": {
        "id": "view-in-github",
        "colab_type": "text"
      },
      "source": [
        "<a href=\"https://colab.research.google.com/github/Byrnesz/point-of-interest-data/blob/master/Guide_Build_Customer_Demographic_Profile.ipynb\" target=\"_parent\"><img src=\"https://colab.research.google.com/assets/colab-badge.svg\" alt=\"Open In Colab\"/></a>"
      ]
    },
    {
      "cell_type": "markdown",
      "metadata": {
        "id": "3Eko1cyh_zrK",
        "colab_type": "text"
      },
      "source": [
        "![alt text](https://global-uploads.webflow.com/5baafc2653bd67278f206724/5be267a03f7813daf821b31e_safegraph-logo-hidpi%403x-p-500.png)"
      ]
    },
    {
      "cell_type": "markdown",
      "metadata": {
        "id": "_0pI-l-K_3PU",
        "colab_type": "text"
      },
      "source": [
        "# An Interactive Guide To Analyze Demographic Profiles from SafeGraph Patterns Data\n",
        "\n",
        "--------------\n",
        "**[Ryan Fox Squire](https://www.linkedin.com/in/ryanfoxsquire/) | Data Scientist, [SafeGraph](https://safegraph.com/?utm_source=content&utm_medium=referral&utm_campaign=colabnotebook&utm_content=demo_profile_teachernotebook)**\n",
        "\n",
        "\n",
        "Nov 2019\n",
        "\n",
        "--------------\n",
        "This notebook is 1 of 2 Google Co-Lab notebooks complementing a [Blog Series](https://www.safegraph.com/blog/safegraphs-data-on-brick-and-mortar-customer-demographics-is-the-most-accurate-foot-traffic-dataset/?utm_source=content&utm_medium=referral&utm_campaign=colabnotebook&utm_content=demo_profile_teachernotebook) focused on analyzing customer demographics using SafeGraph data.  This is the Teacher notebook. It teaches you how-to, and details all the data-wrangling and statistical methodology step by step. In contrast, to leverage the functionality without all the pedagogy, checkout the second accompanying [Demographics Analysis Workbook](https://colab.research.google.com/drive/13BmucZMu0-UFNnVKoJP4ZuJpGNyQXLln#sandboxMode=true&scrollTo=HvvkFI_AyM-0).\n",
        "\n",
        "\n",
        "--------------\n",
        "*Share this notebook: [Shareable Link](https://colab.research.google.com/drive/1qqLRxehVZr1OBpnbHRRyXPWo1Q98dnxA#offline=true&sandboxMode=true)*"
      ]
    },
    {
      "cell_type": "markdown",
      "metadata": {
        "id": "10tdtPTrFZC-",
        "colab_type": "text"
      },
      "source": [
        "## Do we even need to explain why demographics are important? \n",
        "\n",
        "\n",
        " <img src=\"https://user-images.githubusercontent.com/6432906/68722357-1bac9e00-05ad-11ea-813c-a235557a751a.png\" alt=\"Demographics\" ALIGN=\"middle\" width=800>\n",
        "\n",
        "At the core of every business strategy, every marketing strategy, every product strategy is the question: Who are my customers? \n",
        "\n",
        "[Demography](https://en.wikipedia.org/wiki/Demography), or [demographic analysis](https://en.wikipedia.org/wiki/Demographic_analysis), is the statistical study of populations. In business, [demographic profiles](https://en.wikipedia.org/wiki/Demographic_profile) are descriptions of your customers (or potential customers) along various dimensions such as Age, Gender, Race, Ethnicity, Income, Education, Marital Status, Geography, etc. \n",
        "\n",
        "Understanding who are your customers (and the customers of your competitors and your compliments) is a powerful tool to positively impact many aspects of your business such as marketing, inventory planning, real estate decisions, product development, and more. Making good decisions for your business depends on wielding an accurate understanding of your customers. And having views on the customers of your competitors and your compliments can provide additional benefits.\n",
        "\n",
        "\n",
        "\n",
        "\n",
        "\n"
      ]
    },
    {
      "cell_type": "markdown",
      "metadata": {
        "id": "b--k9TDxKrBl",
        "colab_type": "text"
      },
      "source": [
        "## How do businesses typically conduct demographic analysis? \n",
        "\n",
        "There are broadly 3 methods used today to generate demographic profiles for your business\n",
        "\n",
        "1. Surveys\n",
        "2. Marketing data based on emails, phone numbers or other identity information\n",
        "3. Drive-time catchment areas & the Census\n",
        "\n",
        "These methods each have strengths but they all have important limitations. \n",
        "\n",
        "**Surveys** are costly, time-consuming, and it is difficult to get good coverage (survey completion rates are low). You also have to worry about sampling bias for who actually completes the survey. Did only my most loyal customers complete the survey? \n",
        "\n",
        "**Marketing Data** typically starts with customer loyalty programs which collect email addresses, phone numbers or other identity information. Then you purchase marketing datasets tied to these identifiers. There are a few problems. First, opt-in loyalty members represent a small and probably skewed slice of your customer base, so you have to worry about sampling bias. Second, the data is expensive. Third, [marketing data are not very accurate anyway](https://adexchanger.com/data-driven-thinking/future-marketing-data-accuracy-trumps-everything/). Bummer. \n",
        "\n",
        "**Drive-time catchement areas** put a pin on a map for the location of your business, then analyze all of the census demographic data for all homes located within 15 minute driving distance of your business. These are powerful GIS approaches to studying demographics. The limitation is that they assume people only visit businesses geographically nearby their homes. What about people that commute to work and visit businesses near their work locations? What about high tourist areas? Furthermore, these methods cannot capture nuances of customer segmentation within geographic areas. According to drive-time catchment analysis, a nail salon, a pet store and a hardware store sitting adjacent to each other in a mall all have identical customer demographics.\n",
        "\n",
        "Finally, these most of these methods may give you a picture of your own customers, but you care about more than just your own customers. How do you get any data on customers of your competitors and compliments?\n",
        "\n",
        "\n",
        "\n",
        "\n",
        "\n",
        "\n"
      ]
    },
    {
      "cell_type": "markdown",
      "metadata": {
        "id": "BHpXEOy5PjZJ",
        "colab_type": "text"
      },
      "source": [
        "## **With SafeGraph Patterns you can analyze demographic profiles for any store, any brand, any geography, any business.** \n",
        "\n",
        "Here we show a new approach for building demographic profiles using [SafeGraph Patterns](https://docs.safegraph.com/docs/places-schema#section-patterns/?utm_source=content&utm_medium=referral&utm_campaign=colabnotebook&utm_content=demo_profile_teachernotebook) data. \n",
        "\n",
        "\n",
        "### **What is SafeGraph Patterns?**\n",
        "\n",
        "SafeGraph Patterns is a dataset about commercial brick-and-mortar points-of-interest (POI) and includes anonymized counts of how many people visit these POI each month. The counts of visitors are derived from an anonymized [panel](https://en.wikipedia.org/wiki/Panel_data) (sample of population that is measured longitudinally) of ~46MM mobile devices (e.g., smart phones) in the USA.\n",
        "\n",
        "These counts are broken down by different dimensions, including by the **home census block group of the visitor**. For example, the dataset may report that 85 total devices visited a specific POI. It also reports that 50 of those visitors live in census block group X, 25 live in census block Y, and 10 live in census block group Z.\n",
        "\n",
        "\n",
        "SafeGraph provides an aggregated summary of the panel called [Home Location Distributions by State/Census Block Group](https://docs.safegraph.com/docs/places-schema#section-home-location-distributions-by-state-census-block-group/?utm_source=content&utm_medium=referral&utm_campaign=colabnotebook&utm_content=demo_profile_teachernotebook), as part of the Panel Overview Data. This is an important reference which we will use to [quantify and correct for sampling bias.](https://blog.safegraph.com/what-about-bias-in-the-safegraph-dataset?utm_source=content&utm_medium=referral&utm_campaign=colabnotebook&utm_content=demo_profile_teachernotebook)\n",
        "\n",
        "\n",
        "### **If the data is anonymized and aggregated, then how do we estimate demographics?**\n",
        "Protecting individual consumer privacy is at the core of the SafeGraph mission:  \n",
        "> \"SafeGraph’s mission is to make the world’s data open for innovation while protecting individuals privacy.\" - [SafeGraph Vision and Values](https://blog.safegraph.com/safegraph-vision-and-values-circa-2017?utm_source=content&utm_medium=referral&utm_campaign=colabnotebook&utm_content=demo_profile_teachernotebook)\n",
        "\n",
        "The devices in the panel are fully anonymized; **no device-level demographic data exists for devices in the panel**. Instead, for every device in the panel, SafeGraph accurately *derives* the home census block group (CBG) of that device, based on the most common location during night time hours. Importantly, none of the anonymized device-specific data is available to customers of SafeGraph; SafeGraph Patterns is an aggregated view. \n",
        "\n",
        "Aggregations at the level of census block groups (CBGs) is all we need. [The Census](https://www.safegraph.com/open-census-data/?utm_source=content&utm_medium=referral&utm_campaign=colabnotebook&utm_content=demo_profile_teachernotebook) reports demographic data at the level of each CBG. This allows us to build an average demographic profile based on the derived home CBGs for customers visiting a particular store. There are over 220,000 CBGs in the USA, with an mean population of ~ 1500 persons per CBG. This provides us a relatively precise demographic picture, as we will show below.\n",
        "\n",
        "**The aggregated form of SafeGraph Patterns helps to ensure the protection of individuals' privacy, while also providing actionable data for statistical analysis and data science.** For all the details on SafeGraph Patterns, see the [SafeGraph Patterns docs](https://docs.safegraph.com/docs/places-schema#section-patterns/?utm_source=content&utm_medium=referral&utm_campaign=colabnotebook&utm_content=demo_profile_teachernotebook). \n"
      ]
    },
    {
      "cell_type": "markdown",
      "metadata": {
        "id": "kNlH3-0Bnt1v",
        "colab_type": "text"
      },
      "source": [
        "## **Here we teach all the steps to build a customer demographic profile using SafeGraph Patterns data**\n",
        "\n",
        "*To execute this analysis without all the pedagogy, checkout the accompanying [Demographics Analysis Workbook](https://colab.research.google.com/drive/13BmucZMu0-UFNnVKoJP4ZuJpGNyQXLln#sandboxMode=true&scrollTo=HvvkFI_AyM-0).*\n",
        "\n"
      ]
    },
    {
      "cell_type": "markdown",
      "metadata": {
        "id": "J7VZZvyOVAXt",
        "colab_type": "text"
      },
      "source": [
        "# **How to use this notebook**\n",
        "\n",
        "\n",
        "---\n",
        "**Quick Start:** \n",
        "1. Just read through the notebook and see the results from my code. I hope you learn something! Enjoy!\n",
        "\n",
        "**More: I want to play with the notebook** \n",
        "1. You can re-run and tinker with everything in this notebook using pre-loaded data.  You only need to do one thing: In the cell containing `your_name = \"EDIT YOUR NAME\"`, you should edit your name, run the cell, and follow the prompts to authenticate your google account. \n",
        "2. Everything else will just run! Enjoy!\n",
        "\n",
        "**Even more: I want to use my own Patterns data**\n",
        "1. Use the [Analysis Workbook](https://colab.research.google.com/drive/13BmucZMu0-UFNnVKoJP4ZuJpGNyQXLln#offline=true&sandboxMode=true) and follow instructions for \"Customize Your Analysis\". While *this* notebook will teach you about all the steps, the *Analysis Workbook* is designed to just give you results using your own data. "
      ]
    },
    {
      "cell_type": "code",
      "metadata": {
        "id": "gKE-g460U_pO",
        "colab_type": "code",
        "outputId": "7cfeb25f-8526-452d-f178-88dca78e517b",
        "colab": {
          "base_uri": "https://localhost:8080/",
          "height": 34
        }
      },
      "source": [
        "%matplotlib inline\n",
        "import matplotlib\n",
        "import matplotlib.pyplot as plt\n",
        "import numpy as np\n",
        "import pandas as pd\n",
        "import os\n",
        "\n",
        "# special libraries to allow file access\n",
        "from pydrive.auth import GoogleAuth\n",
        "from pydrive.drive import GoogleDrive\n",
        "from google.colab import auth\n",
        "from oauth2client.client import GoogleCredentials\n",
        "\n",
        "# We will take advantage of some helper functions I've written: https://github.com/ryanfoxsquire/safegraph_demo_profile/blob/8128cacb4ae34664c8a7d2bbfc619aa9b54cf36d/demo_profile_functions/demo_profile_functions.py\n",
        "! pip install -q --upgrade git+https://github.com/ryanfoxsquire/safegraph_demo_profile\n",
        "from demo_profile_functions import demo_profile_functions as dpf"
      ],
      "execution_count": 0,
      "outputs": [
        {
          "output_type": "stream",
          "text": [
            "  Building wheel for demo-profile-functions (setup.py) ... \u001b[?25l\u001b[?25hdone\n"
          ],
          "name": "stdout"
        }
      ]
    },
    {
      "cell_type": "code",
      "metadata": {
        "id": "JUYXOtjX_q3w",
        "colab_type": "code",
        "outputId": "c0cd3f10-7fe7-4377-807e-561d65b99bca",
        "colab": {
          "base_uri": "https://localhost:8080/",
          "height": 70
        }
      },
      "source": [
        "your_name = \"EDIT_YOUR_NAME_HERE\" # << You should edit this\n",
        "################################\n",
        "# These commands allow you to read directly from SafeGraph's public GoogleDrive containing Census Data\n",
        "print(\"Hello {0}, you will be asked to authenticate for Google Cloud SDK\\nPlease follow direction and copy/paste your auth code when prompted.\".format(your_name))\n",
        "auth.authenticate_user()  # Authenticate and create the PyDrive client. \n",
        "gauth = GoogleAuth()\n",
        "gauth.credentials = GoogleCredentials.get_application_default()\n",
        "drive = GoogleDrive(gauth)\n",
        "print(\"Well done, {0}! You are fully authenticated and can edit and re-run everything in the notebook. Enjoy!\".format(your_name))"
      ],
      "execution_count": 0,
      "outputs": [
        {
          "output_type": "stream",
          "text": [
            "Hello EDIT_YOUR_NAME_HERE, you will be asked to authenticate for Google Cloud SDK\n",
            "Please follow direction and copy/paste your auth code when prompted.\n",
            "Well done, EDIT_YOUR_NAME_HERE! You are fully authenticated and can edit and re-run everything in the notebook. Enjoy!\n"
          ],
          "name": "stdout"
        }
      ]
    },
    {
      "cell_type": "markdown",
      "metadata": {
        "id": "uiVjzG3eoTZM",
        "colab_type": "text"
      },
      "source": [
        "# What exactly is a demographic profile? A simple end-to-end example.\n",
        "\n",
        "A demographic profile is just a description of your customers (or potential customers) along various dimensions such as Age, Gender, Race, Ethnicity, Income, Education, Marital Status, Geography, etc.\n",
        "\n",
        "To make this concrete, let's show a end-to-end example. To make the example and calculations super simple we will examine only a *single* POI location (a Walmart), and a *single* demographic dimension (Ethnicity) with only *two* demographic segments (`Hispanic or Latino` or `Not Hispanic or Latino`, more details below). \n",
        "\n",
        "The POI we will examine is a Walmart (`SG_BRAND_04a8ca7bf49e7ecb4a32451676e929f0`) located at **3141 Garden Rd, Burlington, NC 27215, US** (`safegraph_place_id = sg:23540fe68cb14f3b9bf848fda3e848fc`). \n",
        "\n",
        "\n",
        " <img src=\"https://user-images.githubusercontent.com/6432906/68523711-b9098880-02b4-11ea-912e-a3a3108a5ec2.png\" alt=\"sg:23540fe68cb14f3b9bf848fda3e848fc\" ALIGN=\"middle\" width=400>\n",
        "\n",
        "*Geospatial polygon data courtesy of [SafeGraph Geometry](https://docs.safegraph.com/docs/places-schema#section-geometry/?utm_source=content&utm_medium=referral&utm_campaign=colabnotebook&utm_content=demo_profile_teachernotebook).* \n",
        "\n",
        "\n"
      ]
    },
    {
      "cell_type": "markdown",
      "metadata": {
        "id": "_olnldyHvt6h",
        "colab_type": "text"
      },
      "source": [
        "## Read SafeGraph Patterns Data"
      ]
    },
    {
      "cell_type": "code",
      "metadata": {
        "id": "gr71VESn_zAT",
        "colab_type": "code",
        "outputId": "221a9034-eec7-43bd-d7d2-205ab45ef336",
        "colab": {
          "base_uri": "https://localhost:8080/",
          "height": 70
        }
      },
      "source": [
        "%%time\n",
        "patterns_drive_id = dpf.get_drive_id('core_poi-patterns.csv') # This is the patterns.csv from SafeGraph on a public GDrive\n",
        "patterns_df = dpf.pd_read_csv_drive(patterns_drive_id, drive=drive)\n",
        "print(patterns_df.shape)"
      ],
      "execution_count": 0,
      "outputs": [
        {
          "output_type": "stream",
          "text": [
            "(69133, 38)\n",
            "CPU times: user 1.51 s, sys: 438 ms, total: 1.94 s\n",
            "Wall time: 3.38 s\n"
          ],
          "name": "stdout"
        }
      ]
    },
    {
      "cell_type": "code",
      "metadata": {
        "id": "eDhEeKB3xwkh",
        "colab_type": "code",
        "outputId": "1d003658-0ecd-437e-933c-796025472aa1",
        "colab": {
          "base_uri": "https://localhost:8080/",
          "height": 182
        }
      },
      "source": [
        "my_sgpid_list = ['sg:23540fe68cb14f3b9bf848fda3e848fc'] # The particular Walmart we will analyze\n",
        "poi_walmart = patterns_df[patterns_df.safegraph_place_id.isin(my_sgpid_list)] \n",
        "print(poi_walmart.shape)\n",
        "poi_walmart.head()"
      ],
      "execution_count": 0,
      "outputs": [
        {
          "output_type": "stream",
          "text": [
            "(1, 38)\n"
          ],
          "name": "stdout"
        },
        {
          "output_type": "execute_result",
          "data": {
            "text/html": [
              "<div>\n",
              "<style scoped>\n",
              "    .dataframe tbody tr th:only-of-type {\n",
              "        vertical-align: middle;\n",
              "    }\n",
              "\n",
              "    .dataframe tbody tr th {\n",
              "        vertical-align: top;\n",
              "    }\n",
              "\n",
              "    .dataframe thead th {\n",
              "        text-align: right;\n",
              "    }\n",
              "</style>\n",
              "<table border=\"1\" class=\"dataframe\">\n",
              "  <thead>\n",
              "    <tr style=\"text-align: right;\">\n",
              "      <th></th>\n",
              "      <th>safegraph_place_id</th>\n",
              "      <th>parent_safegraph_place_id</th>\n",
              "      <th>location_name</th>\n",
              "      <th>safegraph_brand_ids</th>\n",
              "      <th>brands</th>\n",
              "      <th>top_category</th>\n",
              "      <th>sub_category</th>\n",
              "      <th>naics_code</th>\n",
              "      <th>latitude</th>\n",
              "      <th>longitude</th>\n",
              "      <th>street_address</th>\n",
              "      <th>primary_number</th>\n",
              "      <th>street_predirection</th>\n",
              "      <th>street_name</th>\n",
              "      <th>street_postdirection</th>\n",
              "      <th>street_suffix</th>\n",
              "      <th>city</th>\n",
              "      <th>region</th>\n",
              "      <th>postal_code</th>\n",
              "      <th>iso_country_code</th>\n",
              "      <th>phone_number</th>\n",
              "      <th>open_hours</th>\n",
              "      <th>date_range_start</th>\n",
              "      <th>date_range_end</th>\n",
              "      <th>raw_visit_counts</th>\n",
              "      <th>raw_visitor_counts</th>\n",
              "      <th>visits_by_day</th>\n",
              "      <th>visitor_home_cbgs</th>\n",
              "      <th>visitor_work_cbgs</th>\n",
              "      <th>visitor_country_of_origin</th>\n",
              "      <th>distance_from_home</th>\n",
              "      <th>median_dwell</th>\n",
              "      <th>bucketed_dwell_times</th>\n",
              "      <th>related_same_day_brand</th>\n",
              "      <th>related_same_month_brand</th>\n",
              "      <th>popularity_by_hour</th>\n",
              "      <th>popularity_by_day</th>\n",
              "      <th>device_type</th>\n",
              "    </tr>\n",
              "  </thead>\n",
              "  <tbody>\n",
              "    <tr>\n",
              "      <th>28171</th>\n",
              "      <td>sg:23540fe68cb14f3b9bf848fda3e848fc</td>\n",
              "      <td>sg:665f80a2f483482c899c5fdbf2b65630</td>\n",
              "      <td>Walmart</td>\n",
              "      <td>SG_BRAND_04a8ca7bf49e7ecb4a32451676e929f0</td>\n",
              "      <td>Walmart</td>\n",
              "      <td>General Merchandise Stores, including Warehous...</td>\n",
              "      <td>All Other General Merchandise Stores</td>\n",
              "      <td>452319</td>\n",
              "      <td>36.072151</td>\n",
              "      <td>-79.499022</td>\n",
              "      <td>3141 Garden Rd</td>\n",
              "      <td>3141</td>\n",
              "      <td>NaN</td>\n",
              "      <td>Garden</td>\n",
              "      <td>NaN</td>\n",
              "      <td>Rd</td>\n",
              "      <td>Burlington</td>\n",
              "      <td>NC</td>\n",
              "      <td>27215</td>\n",
              "      <td>US</td>\n",
              "      <td>NaN</td>\n",
              "      <td>{ \"Mon\": [[\"9:00\", \"19:00\"]], \"Tue\": [[\"9:00\",...</td>\n",
              "      <td>1.567296e+09</td>\n",
              "      <td>1.569888e+09</td>\n",
              "      <td>7666.0</td>\n",
              "      <td>4149.0</td>\n",
              "      <td>[329,343,200,179,187,276,339,299,211,202,220,2...</td>\n",
              "      <td>{\"370810152003\":136,\"370010217031\":125,\"370010...</td>\n",
              "      <td>{\"370010217031\":69,\"370010216001\":61,\"37001021...</td>\n",
              "      <td>{\"US\":4026}</td>\n",
              "      <td>10379.0</td>\n",
              "      <td>21.0</td>\n",
              "      <td>{\"&lt;5\":146,\"5-20\":3337,\"21-60\":3166,\"61-240\":72...</td>\n",
              "      <td>{}</td>\n",
              "      <td>{\"Food Lion\":48,\"McDonald's\":40,\"Dollar Genera...</td>\n",
              "      <td>[205,181,156,154,165,201,246,304,398,529,690,8...</td>\n",
              "      <td>{\"Monday\":1160,\"Tuesday\":814,\"Wednesday\":787,\"...</td>\n",
              "      <td>{\"android\":1929,\"ios\":2228}</td>\n",
              "    </tr>\n",
              "  </tbody>\n",
              "</table>\n",
              "</div>"
            ],
            "text/plain": [
              "                        safegraph_place_id  ...                  device_type\n",
              "28171  sg:23540fe68cb14f3b9bf848fda3e848fc  ...  {\"android\":1929,\"ios\":2228}\n",
              "\n",
              "[1 rows x 38 columns]"
            ]
          },
          "metadata": {
            "tags": []
          },
          "execution_count": 5
        }
      ]
    },
    {
      "cell_type": "markdown",
      "metadata": {
        "id": "Ke1skbqax5oP",
        "colab_type": "text"
      },
      "source": [
        "We care about the column `visitor_home_cbgs`, which contains the visitor data broken down by the visitor home census block group. The column is organized as a JSON with many key : values, i.e., `\"census_block_group_id\" : visitor_count`. "
      ]
    },
    {
      "cell_type": "code",
      "metadata": {
        "id": "Q6zKSUpMlOyL",
        "colab_type": "code",
        "outputId": "605e41f0-c8ae-4577-ab7d-84042ff1c5d2",
        "colab": {
          "base_uri": "https://localhost:8080/",
          "height": 54
        }
      },
      "source": [
        "# show an example of visitor_home_cbgs\n",
        "print(poi_walmart.visitor_home_cbgs.iloc[0])"
      ],
      "execution_count": 0,
      "outputs": [
        {
          "output_type": "stream",
          "text": [
            "{\"370810152003\":136,\"370010217031\":125,\"370010217032\":94,\"370810172003\":84,\"370010218011\":82,\"370010216004\":77,\"370010216003\":66,\"370810152002\":60,\"370010216002\":55,\"370010205011\":52,\"370810172002\":51,\"370010215004\":46,\"370010217021\":46,\"370010217012\":45,\"370810170002\":44,\"370810153002\":43,\"370010209021\":41,\"370010215002\":41,\"370010218012\":39,\"370810172001\":39,\"370010218021\":38,\"370010206013\":38,\"370010207012\":36,\"370010219012\":36,\"370010207023\":35,\"370010209013\":35,\"370010207011\":34,\"370010207013\":34,\"370810153001\":34,\"370810153003\":33,\"370010207014\":32,\"370010215001\":32,\"370010211012\":30,\"370010218022\":30,\"370010205021\":29,\"370010219013\":29,\"370010208012\":28,\"370339305003\":28,\"370010218013\":27,\"370010207024\":26,\"370010217011\":26,\"370810151001\":26,\"370010206022\":26,\"370010219023\":26,\"370010213001\":25,\"370010204001\":25,\"370010218031\":25,\"370010220011\":25,\"370010205012\":25,\"370010208011\":25,\"370010216001\":24,\"370010220012\":24,\"370010201001\":24,\"370010207021\":23,\"370010217022\":23,\"370010215003\":23,\"370810152004\":23,\"370010220022\":22,\"370810152001\":22,\"370339305002\":22,\"370010209011\":22,\"370010211023\":21,\"370010214002\":21,\"370010201002\":21,\"370010208023\":21,\"370010217023\":20,\"370010212053\":20,\"370010219011\":20,\"370010214001\":19,\"370010212011\":18,\"370010209022\":18,\"370010206011\":18,\"370010219021\":18,\"370010206012\":18,\"370010212042\":18,\"370010212062\":17,\"370010207022\":17,\"370010220021\":16,\"370010212012\":15,\"370810128032\":14,\"370010208026\":14,\"370810170001\":14,\"370810151002\":13,\"370010203004\":13,\"370010212013\":13,\"370010203003\":13,\"370010211022\":13,\"370339306003\":13,\"370010206021\":13,\"370010202004\":12,\"370010212043\":11,\"370010213003\":11,\"370810154011\":11,\"370010209012\":11,\"370010218032\":11,\"370010213002\":10,\"370010204005\":10,\"370010210002\":10,\"371510312001\":9,\"370010201004\":8,\"370010203005\":8,\"371510312004\":8,\"370010211021\":8,\"370010212052\":8,\"370339306002\":8,\"370010202003\":8,\"370010220023\":8,\"371350111011\":8,\"370010219022\":8,\"370370202001\":7,\"370010213005\":7,\"371350111014\":7,\"370810169001\":7,\"370010210001\":7,\"370010204002\":7,\"370010211011\":7,\"370010212072\":7,\"371570413002\":7,\"370339305001\":7,\"370010212063\":6,\"370810112001\":6,\"370810128031\":6,\"371350112031\":6,\"370010201003\":6,\"370810154012\":6,\"370010205022\":6,\"370010210003\":5,\"370010202001\":5,\"370810128051\":5,\"370010208022\":5,\"370010204004\":5,\"370010208025\":5,\"371350111021\":5,\"370010208024\":5}\n"
          ],
          "name": "stdout"
        }
      ]
    },
    {
      "cell_type": "markdown",
      "metadata": {
        "id": "3gdXNOnSlmVP",
        "colab_type": "text"
      },
      "source": [
        "To make it easy for analysis, we need to [explode this json data into its own dataset](https://docs.safegraph.com/docs/faqs#section-how-do-i-work-with-the-patterns-columns-that-contain-json-/?utm_source=content&utm_medium=referral&utm_campaign=colabnotebook&utm_content=demo_profile_teachernotebook). \n",
        "\n",
        "I've created a function called `vertically_explode_json()` for [reference here](https://github.com/ryanfoxsquire/safegraph_demo_profile/blob/8128cacb4ae34664c8a7d2bbfc619aa9b54cf36d/demo_profile_functions/demo_profile_functions.py#L265). "
      ]
    },
    {
      "cell_type": "code",
      "metadata": {
        "id": "cMp0NyRsxwiJ",
        "colab_type": "code",
        "outputId": "c327148d-724b-4731-c73d-17c8432957c8",
        "colab": {
          "base_uri": "https://localhost:8080/",
          "height": 233
        }
      },
      "source": [
        "home_visitor_cbgs_walmart = dpf.vertically_explode_json(poi_walmart)\n",
        "print(home_visitor_cbgs_walmart.shape)\n",
        "print(\"total cbg visits: {0}\".format(home_visitor_cbgs_walmart.visitor_count.sum()))\n",
        "home_visitor_cbgs_walmart.head(5)"
      ],
      "execution_count": 0,
      "outputs": [
        {
          "output_type": "stream",
          "text": [
            "(134, 3)\n",
            "total cbg visits: 3223\n"
          ],
          "name": "stdout"
        },
        {
          "output_type": "execute_result",
          "data": {
            "text/html": [
              "<div>\n",
              "<style scoped>\n",
              "    .dataframe tbody tr th:only-of-type {\n",
              "        vertical-align: middle;\n",
              "    }\n",
              "\n",
              "    .dataframe tbody tr th {\n",
              "        vertical-align: top;\n",
              "    }\n",
              "\n",
              "    .dataframe thead th {\n",
              "        text-align: right;\n",
              "    }\n",
              "</style>\n",
              "<table border=\"1\" class=\"dataframe\">\n",
              "  <thead>\n",
              "    <tr style=\"text-align: right;\">\n",
              "      <th></th>\n",
              "      <th>safegraph_place_id</th>\n",
              "      <th>visitor_home_cbg</th>\n",
              "      <th>visitor_count</th>\n",
              "    </tr>\n",
              "  </thead>\n",
              "  <tbody>\n",
              "    <tr>\n",
              "      <th>0</th>\n",
              "      <td>sg:23540fe68cb14f3b9bf848fda3e848fc</td>\n",
              "      <td>370810152003</td>\n",
              "      <td>136</td>\n",
              "    </tr>\n",
              "    <tr>\n",
              "      <th>1</th>\n",
              "      <td>sg:23540fe68cb14f3b9bf848fda3e848fc</td>\n",
              "      <td>370010217031</td>\n",
              "      <td>125</td>\n",
              "    </tr>\n",
              "    <tr>\n",
              "      <th>2</th>\n",
              "      <td>sg:23540fe68cb14f3b9bf848fda3e848fc</td>\n",
              "      <td>370010217032</td>\n",
              "      <td>94</td>\n",
              "    </tr>\n",
              "    <tr>\n",
              "      <th>3</th>\n",
              "      <td>sg:23540fe68cb14f3b9bf848fda3e848fc</td>\n",
              "      <td>370810172003</td>\n",
              "      <td>84</td>\n",
              "    </tr>\n",
              "    <tr>\n",
              "      <th>4</th>\n",
              "      <td>sg:23540fe68cb14f3b9bf848fda3e848fc</td>\n",
              "      <td>370010218011</td>\n",
              "      <td>82</td>\n",
              "    </tr>\n",
              "  </tbody>\n",
              "</table>\n",
              "</div>"
            ],
            "text/plain": [
              "                    safegraph_place_id visitor_home_cbg  visitor_count\n",
              "0  sg:23540fe68cb14f3b9bf848fda3e848fc     370810152003            136\n",
              "1  sg:23540fe68cb14f3b9bf848fda3e848fc     370010217031            125\n",
              "2  sg:23540fe68cb14f3b9bf848fda3e848fc     370010217032             94\n",
              "3  sg:23540fe68cb14f3b9bf848fda3e848fc     370810172003             84\n",
              "4  sg:23540fe68cb14f3b9bf848fda3e848fc     370010218011             82"
            ]
          },
          "metadata": {
            "tags": []
          },
          "execution_count": 7
        }
      ]
    },
    {
      "cell_type": "markdown",
      "metadata": {
        "id": "iOyTNeR_y4Hu",
        "colab_type": "text"
      },
      "source": [
        "Now each row is a unique pair of a `safegraph_place_id` (sgpid) and a home census block group (`visitor_home_cbg`). (And as a reminder, in this example we are only looking at a single POI, so every value of `home_visitor_cbgs_walmart.safegraph_place_id` is the same)\n",
        "\n",
        "So, there were a total of 3223 unique visitors, coming from 134 unique census block groups. \n",
        "\n",
        "We don't know any demographic data about those individual visitors, but we can use the Census data to know what are the average demographics of people that live in each CBG. So, for each of those CBGs, let's look up the fraction of residents that are `Hispanic or Latino` vs `Not Hispanic or Latino`. "
      ]
    },
    {
      "cell_type": "markdown",
      "metadata": {
        "id": "WrcXuPPj0WV8",
        "colab_type": "text"
      },
      "source": [
        "## Load Open Census Data\n",
        "#### SafeGraph's Open Census Data is your friend!\n",
        "\n",
        "Census data can be be difficult to navigate, so SafeGraph [packaged all of it in a convenient single download called Open Census Data](https://blog.safegraph.com/download-open-census-data-visualize-neighborhood-insights?utm_source=content&utm_medium=referral&utm_campaign=colabnotebook&utm_content=demo_profile_teachernotebook).  This notebook is pulling Open Census Data from a public Google Drive created by SafeGraph.  \n",
        "\n",
        "If you want your own copy of Open Census Data, you can [download Open Census Data here](https://www.safegraph.com/open-census-data/?utm_source=content&utm_medium=referral&utm_campaign=colabnotebook&utm_content=demo_profile_teachernotebook). See the [SafeGraph Open Census Data docs](https://docs.safegraph.com/docs/open-census-data/?utm_source=content&utm_medium=referral&utm_campaign=colabnotebook&utm_content=demo_profile_teachernotebook) for documentation on what is included and how the files are organized.\n"
      ]
    },
    {
      "cell_type": "markdown",
      "metadata": {
        "id": "_3H-Hi9Z1U5l",
        "colab_type": "text"
      },
      "source": [
        "#### In this example, we analyze `Latino or Hispanic Origin` Ethnicity. \n",
        "\n",
        "The census tracks this data under the category `Hispanic Or Latino Origin`, and we can look this up in the handy file from Open Census Data called [`cbg_field_descriptions.csv`](https://drive.google.com/file/d/1a7_7WxY6eaUIObkVwfknl9C7nPltYxPd/view?usp=sharing) to see that the two `table_id`s we want are: \n",
        "* `B03003e2\tHISPANIC OR LATINO ORIGIN: Not Hispanic or Latino: Total population -- (Estimate)`\n",
        "*` B03003e3\tHISPANIC OR LATINO ORIGIN: Hispanic or Latino: Total population -- (Estimate)`\n",
        "\n",
        "Going forward I will abbreviate these two groups as `Not Hispanic` and `Hispanic`, respectively. \n",
        "\n",
        "The Census counts every citizen in one of these two categories, so for each CBG we can use these `table_id`s and convert them into a relative fraction. "
      ]
    },
    {
      "cell_type": "code",
      "metadata": {
        "id": "vd7QL4g1xwTV",
        "colab_type": "code",
        "outputId": "c6436a8a-9c09-4a59-aa03-e598fa887d31",
        "colab": {
          "base_uri": "https://localhost:8080/",
          "height": 197
        }
      },
      "source": [
        "hispanic_demo_codes = ['B03003e2','B03003e3']\n",
        "census_df_hispanic = dpf.pd_read_csv_drive(dpf.get_drive_id('cbg_b03.csv'), drive=drive, dtype = {'census_block_group': str})\n",
        "census_df_hispanic = census_df_hispanic[['census_block_group'] + hispanic_demo_codes] # select only the columns we want\n",
        "\n",
        "demo_totals_hispanic = census_df_hispanic[hispanic_demo_codes].sum(axis=1) # the sum of Hispanic and Not Hispanice for each CBG\n",
        "for this_code in hispanic_demo_codes:\n",
        "        census_df_hispanic[this_code+\"_frac\"] = census_df_hispanic[this_code] / demo_totals_hispanic\n",
        "census_df_hispanic.head()"
      ],
      "execution_count": 0,
      "outputs": [
        {
          "output_type": "execute_result",
          "data": {
            "text/html": [
              "<div>\n",
              "<style scoped>\n",
              "    .dataframe tbody tr th:only-of-type {\n",
              "        vertical-align: middle;\n",
              "    }\n",
              "\n",
              "    .dataframe tbody tr th {\n",
              "        vertical-align: top;\n",
              "    }\n",
              "\n",
              "    .dataframe thead th {\n",
              "        text-align: right;\n",
              "    }\n",
              "</style>\n",
              "<table border=\"1\" class=\"dataframe\">\n",
              "  <thead>\n",
              "    <tr style=\"text-align: right;\">\n",
              "      <th></th>\n",
              "      <th>census_block_group</th>\n",
              "      <th>B03003e2</th>\n",
              "      <th>B03003e3</th>\n",
              "      <th>B03003e2_frac</th>\n",
              "      <th>B03003e3_frac</th>\n",
              "    </tr>\n",
              "  </thead>\n",
              "  <tbody>\n",
              "    <tr>\n",
              "      <th>0</th>\n",
              "      <td>010010201001</td>\n",
              "      <td>729</td>\n",
              "      <td>16</td>\n",
              "      <td>0.978523</td>\n",
              "      <td>0.021477</td>\n",
              "    </tr>\n",
              "    <tr>\n",
              "      <th>1</th>\n",
              "      <td>010010201002</td>\n",
              "      <td>1228</td>\n",
              "      <td>37</td>\n",
              "      <td>0.970751</td>\n",
              "      <td>0.029249</td>\n",
              "    </tr>\n",
              "    <tr>\n",
              "      <th>2</th>\n",
              "      <td>010010202001</td>\n",
              "      <td>947</td>\n",
              "      <td>13</td>\n",
              "      <td>0.986458</td>\n",
              "      <td>0.013542</td>\n",
              "    </tr>\n",
              "    <tr>\n",
              "      <th>3</th>\n",
              "      <td>010010202002</td>\n",
              "      <td>1221</td>\n",
              "      <td>15</td>\n",
              "      <td>0.987864</td>\n",
              "      <td>0.012136</td>\n",
              "    </tr>\n",
              "    <tr>\n",
              "      <th>4</th>\n",
              "      <td>010010203001</td>\n",
              "      <td>2136</td>\n",
              "      <td>228</td>\n",
              "      <td>0.903553</td>\n",
              "      <td>0.096447</td>\n",
              "    </tr>\n",
              "  </tbody>\n",
              "</table>\n",
              "</div>"
            ],
            "text/plain": [
              "  census_block_group  B03003e2  B03003e3  B03003e2_frac  B03003e3_frac\n",
              "0       010010201001       729        16       0.978523       0.021477\n",
              "1       010010201002      1228        37       0.970751       0.029249\n",
              "2       010010202001       947        13       0.986458       0.013542\n",
              "3       010010202002      1221        15       0.987864       0.012136\n",
              "4       010010203001      2136       228       0.903553       0.096447"
            ]
          },
          "metadata": {
            "tags": []
          },
          "execution_count": 8
        }
      ]
    },
    {
      "cell_type": "markdown",
      "metadata": {
        "id": "J6cNDzTB6SdE",
        "colab_type": "text"
      },
      "source": [
        "We join the Census data and the SafeGraph Patterns data together on `census_block_group`."
      ]
    },
    {
      "cell_type": "code",
      "metadata": {
        "id": "jVB_4NpTxwQ4",
        "colab_type": "code",
        "outputId": "2b212c69-9dd4-463f-8dfd-8554d4508f71",
        "colab": {
          "base_uri": "https://localhost:8080/",
          "height": 215
        }
      },
      "source": [
        "visitors_df_walmart = pd.merge(home_visitor_cbgs_walmart, poi_walmart[['safegraph_place_id', 'brands']])\n",
        "visitors_join_walmart = pd.merge(visitors_df_walmart,census_df_hispanic, left_on='visitor_home_cbg', right_on='census_block_group').drop('visitor_home_cbg',axis='columns')\n",
        "print(visitors_join_walmart.shape)\n",
        "visitors_join_walmart.head()"
      ],
      "execution_count": 0,
      "outputs": [
        {
          "output_type": "stream",
          "text": [
            "(134, 8)\n"
          ],
          "name": "stdout"
        },
        {
          "output_type": "execute_result",
          "data": {
            "text/html": [
              "<div>\n",
              "<style scoped>\n",
              "    .dataframe tbody tr th:only-of-type {\n",
              "        vertical-align: middle;\n",
              "    }\n",
              "\n",
              "    .dataframe tbody tr th {\n",
              "        vertical-align: top;\n",
              "    }\n",
              "\n",
              "    .dataframe thead th {\n",
              "        text-align: right;\n",
              "    }\n",
              "</style>\n",
              "<table border=\"1\" class=\"dataframe\">\n",
              "  <thead>\n",
              "    <tr style=\"text-align: right;\">\n",
              "      <th></th>\n",
              "      <th>safegraph_place_id</th>\n",
              "      <th>visitor_count</th>\n",
              "      <th>brands</th>\n",
              "      <th>census_block_group</th>\n",
              "      <th>B03003e2</th>\n",
              "      <th>B03003e3</th>\n",
              "      <th>B03003e2_frac</th>\n",
              "      <th>B03003e3_frac</th>\n",
              "    </tr>\n",
              "  </thead>\n",
              "  <tbody>\n",
              "    <tr>\n",
              "      <th>0</th>\n",
              "      <td>sg:23540fe68cb14f3b9bf848fda3e848fc</td>\n",
              "      <td>136</td>\n",
              "      <td>Walmart</td>\n",
              "      <td>370810152003</td>\n",
              "      <td>4213</td>\n",
              "      <td>47</td>\n",
              "      <td>0.988967</td>\n",
              "      <td>0.011033</td>\n",
              "    </tr>\n",
              "    <tr>\n",
              "      <th>1</th>\n",
              "      <td>sg:23540fe68cb14f3b9bf848fda3e848fc</td>\n",
              "      <td>125</td>\n",
              "      <td>Walmart</td>\n",
              "      <td>370010217031</td>\n",
              "      <td>2822</td>\n",
              "      <td>62</td>\n",
              "      <td>0.978502</td>\n",
              "      <td>0.021498</td>\n",
              "    </tr>\n",
              "    <tr>\n",
              "      <th>2</th>\n",
              "      <td>sg:23540fe68cb14f3b9bf848fda3e848fc</td>\n",
              "      <td>94</td>\n",
              "      <td>Walmart</td>\n",
              "      <td>370010217032</td>\n",
              "      <td>2466</td>\n",
              "      <td>362</td>\n",
              "      <td>0.871994</td>\n",
              "      <td>0.128006</td>\n",
              "    </tr>\n",
              "    <tr>\n",
              "      <th>3</th>\n",
              "      <td>sg:23540fe68cb14f3b9bf848fda3e848fc</td>\n",
              "      <td>84</td>\n",
              "      <td>Walmart</td>\n",
              "      <td>370810172003</td>\n",
              "      <td>2357</td>\n",
              "      <td>24</td>\n",
              "      <td>0.989920</td>\n",
              "      <td>0.010080</td>\n",
              "    </tr>\n",
              "    <tr>\n",
              "      <th>4</th>\n",
              "      <td>sg:23540fe68cb14f3b9bf848fda3e848fc</td>\n",
              "      <td>82</td>\n",
              "      <td>Walmart</td>\n",
              "      <td>370010218011</td>\n",
              "      <td>2042</td>\n",
              "      <td>0</td>\n",
              "      <td>1.000000</td>\n",
              "      <td>0.000000</td>\n",
              "    </tr>\n",
              "  </tbody>\n",
              "</table>\n",
              "</div>"
            ],
            "text/plain": [
              "                    safegraph_place_id  ...  B03003e3_frac\n",
              "0  sg:23540fe68cb14f3b9bf848fda3e848fc  ...       0.011033\n",
              "1  sg:23540fe68cb14f3b9bf848fda3e848fc  ...       0.021498\n",
              "2  sg:23540fe68cb14f3b9bf848fda3e848fc  ...       0.128006\n",
              "3  sg:23540fe68cb14f3b9bf848fda3e848fc  ...       0.010080\n",
              "4  sg:23540fe68cb14f3b9bf848fda3e848fc  ...       0.000000\n",
              "\n",
              "[5 rows x 8 columns]"
            ]
          },
          "metadata": {
            "tags": []
          },
          "execution_count": 9
        }
      ]
    },
    {
      "cell_type": "markdown",
      "metadata": {
        "id": "OTpG6F0J6bcI",
        "colab_type": "text"
      },
      "source": [
        "Great! Now we have one row for every home `census_block_group` (CBG), and a few columns for our different data points. The counts of visitors that visited our Walmart POI **from** that home CBG (`visitor_count`), and the relative fraction of Not Hispanic vs Hispanic residents of that CBG (`B03003e2_frac` and `B03003e3_frac`, respectively). \n",
        "\n",
        "We are forced to assume that the visitors within a CBG are all average members of that CBG. Therefore, if I am a visitor from CBG `370010217032` (listed above), then I will count as 0.871994 persons `Not Hispanic` and 0.128006 persons `Hispanic`. \n",
        "\n",
        "So, we multiply the total `visitor_count` by the fraction of each demographic group (e.g. Hispanic vs Not Hispanic) to get the \"demographic adjusted\" count which we abbreviate as `_D_adj`.\n",
        "\n"
      ]
    },
    {
      "cell_type": "code",
      "metadata": {
        "id": "2WygRHwg7WW8",
        "colab_type": "code",
        "outputId": "8e33968c-6604-48ef-f6b8-881849690715",
        "colab": {
          "base_uri": "https://localhost:8080/",
          "height": 235
        }
      },
      "source": [
        "demos_walmart = visitors_join_walmart.copy()\n",
        "\n",
        "for dc in hispanic_demo_codes:\n",
        "    demos_walmart['visitor_count_'+dc+'_D_adj'] = demos_walmart[dc+'_frac'] * demos_walmart['visitor_count'] \n",
        "    \n",
        "print(demos_walmart.shape)\n",
        "demos_walmart[['safegraph_place_id','brands', 'census_block_group', 'visitor_count', 'B03003e2_frac', 'B03003e3_frac', 'visitor_count_B03003e2_D_adj', 'visitor_count_B03003e3_D_adj']].head()"
      ],
      "execution_count": 0,
      "outputs": [
        {
          "output_type": "stream",
          "text": [
            "(134, 10)\n"
          ],
          "name": "stdout"
        },
        {
          "output_type": "execute_result",
          "data": {
            "text/html": [
              "<div>\n",
              "<style scoped>\n",
              "    .dataframe tbody tr th:only-of-type {\n",
              "        vertical-align: middle;\n",
              "    }\n",
              "\n",
              "    .dataframe tbody tr th {\n",
              "        vertical-align: top;\n",
              "    }\n",
              "\n",
              "    .dataframe thead th {\n",
              "        text-align: right;\n",
              "    }\n",
              "</style>\n",
              "<table border=\"1\" class=\"dataframe\">\n",
              "  <thead>\n",
              "    <tr style=\"text-align: right;\">\n",
              "      <th></th>\n",
              "      <th>safegraph_place_id</th>\n",
              "      <th>brands</th>\n",
              "      <th>census_block_group</th>\n",
              "      <th>visitor_count</th>\n",
              "      <th>B03003e2_frac</th>\n",
              "      <th>B03003e3_frac</th>\n",
              "      <th>visitor_count_B03003e2_D_adj</th>\n",
              "      <th>visitor_count_B03003e3_D_adj</th>\n",
              "    </tr>\n",
              "  </thead>\n",
              "  <tbody>\n",
              "    <tr>\n",
              "      <th>0</th>\n",
              "      <td>sg:23540fe68cb14f3b9bf848fda3e848fc</td>\n",
              "      <td>Walmart</td>\n",
              "      <td>370810152003</td>\n",
              "      <td>136</td>\n",
              "      <td>0.988967</td>\n",
              "      <td>0.011033</td>\n",
              "      <td>134.499531</td>\n",
              "      <td>1.500469</td>\n",
              "    </tr>\n",
              "    <tr>\n",
              "      <th>1</th>\n",
              "      <td>sg:23540fe68cb14f3b9bf848fda3e848fc</td>\n",
              "      <td>Walmart</td>\n",
              "      <td>370010217031</td>\n",
              "      <td>125</td>\n",
              "      <td>0.978502</td>\n",
              "      <td>0.021498</td>\n",
              "      <td>122.312760</td>\n",
              "      <td>2.687240</td>\n",
              "    </tr>\n",
              "    <tr>\n",
              "      <th>2</th>\n",
              "      <td>sg:23540fe68cb14f3b9bf848fda3e848fc</td>\n",
              "      <td>Walmart</td>\n",
              "      <td>370010217032</td>\n",
              "      <td>94</td>\n",
              "      <td>0.871994</td>\n",
              "      <td>0.128006</td>\n",
              "      <td>81.967468</td>\n",
              "      <td>12.032532</td>\n",
              "    </tr>\n",
              "    <tr>\n",
              "      <th>3</th>\n",
              "      <td>sg:23540fe68cb14f3b9bf848fda3e848fc</td>\n",
              "      <td>Walmart</td>\n",
              "      <td>370810172003</td>\n",
              "      <td>84</td>\n",
              "      <td>0.989920</td>\n",
              "      <td>0.010080</td>\n",
              "      <td>83.153297</td>\n",
              "      <td>0.846703</td>\n",
              "    </tr>\n",
              "    <tr>\n",
              "      <th>4</th>\n",
              "      <td>sg:23540fe68cb14f3b9bf848fda3e848fc</td>\n",
              "      <td>Walmart</td>\n",
              "      <td>370010218011</td>\n",
              "      <td>82</td>\n",
              "      <td>1.000000</td>\n",
              "      <td>0.000000</td>\n",
              "      <td>82.000000</td>\n",
              "      <td>0.000000</td>\n",
              "    </tr>\n",
              "  </tbody>\n",
              "</table>\n",
              "</div>"
            ],
            "text/plain": [
              "                    safegraph_place_id  ... visitor_count_B03003e3_D_adj\n",
              "0  sg:23540fe68cb14f3b9bf848fda3e848fc  ...                     1.500469\n",
              "1  sg:23540fe68cb14f3b9bf848fda3e848fc  ...                     2.687240\n",
              "2  sg:23540fe68cb14f3b9bf848fda3e848fc  ...                    12.032532\n",
              "3  sg:23540fe68cb14f3b9bf848fda3e848fc  ...                     0.846703\n",
              "4  sg:23540fe68cb14f3b9bf848fda3e848fc  ...                     0.000000\n",
              "\n",
              "[5 rows x 8 columns]"
            ]
          },
          "metadata": {
            "tags": []
          },
          "execution_count": 10
        }
      ]
    },
    {
      "cell_type": "markdown",
      "metadata": {
        "id": "UmfPOWQY7eIb",
        "colab_type": "text"
      },
      "source": [
        "Finally, we simply sum the number of estimated visitors from each demographic segment (Hispanics vs Not Hispanic) across all CBG (i.e., sum across all rows). We normalize those sums as a percent of total visitors, and we have a demographic profile!"
      ]
    },
    {
      "cell_type": "code",
      "metadata": {
        "id": "oV5AE7gP7l-L",
        "colab_type": "code",
        "outputId": "323c905b-4f40-4a13-f4cc-4b9793e945ba",
        "colab": {
          "base_uri": "https://localhost:8080/",
          "height": 77
        }
      },
      "source": [
        "cols_to_keep = ['brands','visitor_count', 'visitor_count_B03003e2_D_adj', 'visitor_count_B03003e3_D_adj'] \n",
        "sums_temp = demos_walmart[cols_to_keep].copy()\n",
        "summs_walmart = sums_temp.groupby(['brands']).sum().reset_index()\n",
        "\n",
        "# calculate totals as percents\n",
        "total_walmart_visits = summs_walmart.visitor_count[0]\n",
        "summs_walmart['B03003e3_percent'] = summs_walmart.visitor_count_B03003e3_D_adj[0] / total_walmart_visits * 100\n",
        "summs_walmart['B03003e2_percent'] = summs_walmart.visitor_count_B03003e2_D_adj[0] / total_walmart_visits * 100\n",
        "summs_walmart"
      ],
      "execution_count": 0,
      "outputs": [
        {
          "output_type": "execute_result",
          "data": {
            "text/html": [
              "<div>\n",
              "<style scoped>\n",
              "    .dataframe tbody tr th:only-of-type {\n",
              "        vertical-align: middle;\n",
              "    }\n",
              "\n",
              "    .dataframe tbody tr th {\n",
              "        vertical-align: top;\n",
              "    }\n",
              "\n",
              "    .dataframe thead th {\n",
              "        text-align: right;\n",
              "    }\n",
              "</style>\n",
              "<table border=\"1\" class=\"dataframe\">\n",
              "  <thead>\n",
              "    <tr style=\"text-align: right;\">\n",
              "      <th></th>\n",
              "      <th>brands</th>\n",
              "      <th>visitor_count</th>\n",
              "      <th>visitor_count_B03003e2_D_adj</th>\n",
              "      <th>visitor_count_B03003e3_D_adj</th>\n",
              "      <th>B03003e3_percent</th>\n",
              "      <th>B03003e2_percent</th>\n",
              "    </tr>\n",
              "  </thead>\n",
              "  <tbody>\n",
              "    <tr>\n",
              "      <th>0</th>\n",
              "      <td>Walmart</td>\n",
              "      <td>3223</td>\n",
              "      <td>2963.816282</td>\n",
              "      <td>259.183718</td>\n",
              "      <td>8.041692</td>\n",
              "      <td>91.958308</td>\n",
              "    </tr>\n",
              "  </tbody>\n",
              "</table>\n",
              "</div>"
            ],
            "text/plain": [
              "    brands  visitor_count  ...  B03003e3_percent  B03003e2_percent\n",
              "0  Walmart           3223  ...          8.041692         91.958308\n",
              "\n",
              "[1 rows x 6 columns]"
            ]
          },
          "metadata": {
            "tags": []
          },
          "execution_count": 11
        }
      ]
    },
    {
      "cell_type": "code",
      "metadata": {
        "id": "j8ysJShO7pay",
        "colab_type": "code",
        "outputId": "eedd65f3-8717-49b5-dccf-276ef4595e00",
        "colab": {
          "base_uri": "https://localhost:8080/",
          "height": 523
        }
      },
      "source": [
        "plt.rcParams['figure.figsize'] = [8, 8]\n",
        "\n",
        "demos2plot = ['Hispanic Or Latino', 'Not Hispanic Or Latino']\n",
        "data2plot = [summs_walmart['B03003e3_percent'].iloc[0] , summs_walmart['B03003e2_percent'].iloc[0]]\n",
        "\n",
        "#####\n",
        "# plot a stacked bar chart\n",
        "print(\"Figure 1\")\n",
        "\n",
        "barwidth = 0.3\n",
        "fig, ax = plt.subplots(1, 1)\n",
        "ax.yaxis.grid(zorder=0)\n",
        "p1 = ax.bar(1, data2plot[0], barwidth)\n",
        "p2 = ax.bar(1, data2plot[1], barwidth, bottom=data2plot[0])\n",
        "\n",
        "plt.ylabel(\"% of Visitors To Brand\", size=16)\n",
        "plt.title('What fraction of visitors have Hispanic or Latino Origin?', size=16)\n",
        "plt.xticks([1], summs_walmart.brands, size=16)\n",
        "plt.yticks(list(range(0,110,10)))\n",
        "plt.legend((p1[0], p2[0]), demos2plot)\n",
        "plt.xlim((.5,1.5))\n",
        "plt.ylim((0,100))\n",
        "\n",
        "handles = [p1, p2]\n",
        "order = [1,0] # We reverse the legend order so it matches the order on the chart\n",
        "plt.legend([handles[idx] for idx in order],[demos2plot[idx] for idx in order],fontsize=18, bbox_to_anchor=(1,0.5))\n",
        "plt.show()\n",
        "#####\n"
      ],
      "execution_count": 0,
      "outputs": [
        {
          "output_type": "stream",
          "text": [
            "Figure 1\n"
          ],
          "name": "stdout"
        },
        {
          "output_type": "display_data",
          "data": {
            "image/png": "[encoded data removed]",
            "text/plain": [
              "<Figure size 576x576 with 1 Axes>"
            ]
          },
          "metadata": {
            "tags": []
          }
        }
      ]
    },
    {
      "cell_type": "markdown",
      "metadata": {
        "id": "1WOcsRtf8Jzj",
        "colab_type": "text"
      },
      "source": [
        "\n",
        " <img src=\"https://user-images.githubusercontent.com/6432906/68523711-b9098880-02b4-11ea-912e-a3a3108a5ec2.png\" alt=\"sg:23540fe68cb14f3b9bf848fda3e848fc\" ALIGN=\"right\" width=300>\n",
        "\n",
        "In **Figure 1**, above, we show a demographic profile of visitors to the Walmart located at **3141 Garden Rd, Burlington, NC 27215, US** (`safegraph_place_id = sg:23540fe68cb14f3b9bf848fda3e848fc`) in terms of Ethnicity. \n",
        "\n",
        "\n"
      ]
    },
    {
      "cell_type": "markdown",
      "metadata": {
        "id": "Hs6q1hm6s8h8",
        "colab_type": "text"
      },
      "source": [
        "Let's now scale this analysis to include many locations, many brands, and many different demographic dimensions. Also, let's make it statistically and methodologically rigorous. \n"
      ]
    },
    {
      "cell_type": "markdown",
      "metadata": {
        "id": "NDmdOBB29LbG",
        "colab_type": "text"
      },
      "source": [
        "# There are 3 Technical Challenges to Analyze Demographics With SafeGraph Patterns\n",
        "\n",
        "1. **Measuring and Correcting Sampling Bias**. (See [\"What About Bias In The SafeGraph Dataset?\"](https://blog.safegraph.com/what-about-bias-in-the-safegraph-dataset?utm_source=content&utm_medium=referral&utm_campaign=colabnotebook&utm_content=demo_profile_teachernotebook). Here we will show how to correct for sampling bias.\n",
        "2. **Wrangling Census Data**. Luckily SafeGraph's **Open Census Data** makes this very easy, but there are still a lot of variables and labels to keep track of, so I've written some helper functions to make life even easier. \n",
        "3. **Quantifying Statistical Certainty**. It was relatively straightforward to calculate that ~ 8% of visitors to this Walmart are Hispanic, but ***how certain is that estimate***? Intuitively, collecting data from millions of consumers visiting 1,000s of locations should give a higher-confidence estimate than an estimate based on 100s of consumers visiting only a handful of locations (more data is better, right?). But exactly how much data do we need to be confident? Can we trust analyses based on only a single location? In the final section we show how to quantify the (un)certainty of our estimates and separate the signal from the noise.\n",
        "\n",
        "\n",
        "The following sections review these technical challenges one by one. \n"
      ]
    },
    {
      "cell_type": "markdown",
      "metadata": {
        "id": "fEFiU4ny9LYx",
        "colab_type": "text"
      },
      "source": [
        "# \\#1 Measuring and Correcting Sampling Bias\n",
        "\n",
        "\n",
        "\n",
        "We explored the concept of Sampling Bias in [\"What About Bias In The SafeGraph Dataset?\"](https://blog.safegraph.com/what-about-bias-in-the-safegraph-dataset?utm_source=content&utm_medium=referral&utm_campaign=colabnotebook&utm_content=demo_profile_teachernotebook). \n",
        "\n",
        "For example, in the above Walmart example, maybe the reason we are estimating that such a large percentage of visitors are Not Hispanic, is simply because the SafeGraph dataset is biased in favor of (i.e., over-indexed on) Not Hispanic people. This would be a \"sampling bias\". \n",
        "\n",
        "Luckily, we can rigorously quantify this bias and correct for it. \n",
        "\n",
        "\n",
        "\n",
        "\n",
        "\n"
      ]
    },
    {
      "cell_type": "markdown",
      "metadata": {
        "id": "JakgnNKszgTC",
        "colab_type": "text"
      },
      "source": [
        "\n",
        "### Correct Our Biases (Sampling Bias) via Post-Hoc Stratified Re-weighting\n",
        "\n",
        "#### Intuition:\n",
        "\n",
        "The SafeGraph dataset is a \"sample\" of the true USA population. We know there are different groups of people in the sample (i.e., people living in different census block groups). And we know the *true* frequencies of these groups of people in the overall population, because we know the true population of each census block group according to the Census. Similarly, we know the empirical frequencies of these groups of people in the SafeGraph \"sample\". \n",
        "\n",
        "By comparing the true population frequency with the frequency in our sample, we can calculate which CBGs are over or under-represented in the sample. Then we adjust (i.e., re-weight) each group in the SafeGraph sample so that each group affects our measurement proportionate to its true population frequency. In some cases this adjustment will be extrapolating up a group because they are under-indexed. In other cases it means down-weighting a sample that is over-indexed. \n",
        "\n",
        "#### Why is it called Post-Hoc Stratified Re-weighting?\n",
        "Each group is called a stratum. It's post-hoc because we apply the correction *after* collecting the data (in contrast to [stratified sampling](https://en.wikipedia.org/wiki/Stratified_sampling/) in which one uses known population frequencies to control the data collection in the first place). Adjusting the relative frequencies up or down is called \"re-weighting\".\n"
      ]
    },
    {
      "cell_type": "markdown",
      "metadata": {
        "id": "RWyMPX9gzme3",
        "colab_type": "text"
      },
      "source": [
        "\n",
        "### A formula to correct for Sampling Bias\n",
        "\n",
        "In our case we are only controlling for sampling bias in a single dimension (i.e. the geography of census block groups) and in that case the formula for  adjusting (correcting) your measurements is fairly intuitive. \n",
        "\n",
        "\n",
        "For the interested reader, if you need to control for sampling bias on multiple dimensions simultaneously, there is an elegant regression-based solution called [Heckman's Correction](https://en.wikipedia.org/wiki/Heckman_correction). If you want to learn more about Heckman's, I recommend this [implementation & tutorial](https://juliaeconomics.com/tag/heckman-correction/). \n",
        "\n",
        "Here we will not use Heckman's, and instead use the straight-forward stratified adjustment for a single dimension. \n",
        "\n",
        "#### The math behind the adjustment factor\n",
        "\n",
        "We will adjust our measurements from each stratum (e.g., census block group) individually. \n",
        "\n",
        "Here is the re-weighting \"formula\" for each stratum: \n",
        "\n",
        "\n",
        "$$ adjust\\_factor = \\frac{stratum\\_pop}{total\\_pop} * \\frac{total\\_sample\\_size}{stratum\\_sample} $$\n",
        "\n",
        "Where \n",
        "* $stratum\\_pop$ is the population of the stratum.\n",
        "* $total\\_pop$ is the total population.\n",
        "* $total\\_sample\\_size$ is the total sample size across all strata.\n",
        "* $stratum\\_sample$ is the number of measurements from this stratum in the sample.\n",
        "\n",
        "<br> </br>\n",
        "Another (IMHO, more intuitive) way to re-state this formula is:\n",
        "\n",
        "\n",
        "$$ adjust\\_factor = \\frac{P(Stratum\\ in\\ Popluation)}{P(Stratum\\ in\\ Sample)} $$\n",
        "\n",
        "<br> </br>\n",
        "\n",
        "Note that if $P(Stratum\\ in\\ Popluation) > P(Stratum\\ in\\ Sample) $ then $adjust\\_factor$ > 1; you need to over-weight your sample estimate, because your sample is  under-represented compared to the population. Vice versa if $P(Stratum\\ in\\ Popluation) < P(Stratum\\ in\\ Sample) $ then $adjust\\_factor$ < 1; you need to down-weight your sample estimate, because you are over-represented in this stratum compared to the population. \n",
        "\n",
        "Remember, in our case, each stratum is a census block group. \n",
        "\n",
        "See [\"Reducing Sampling Errors\" by \"Stratification\"](https://www.emathzone.com/tutorials/basic-statistics/sampling-errors.html) for more explanation. \n"
      ]
    },
    {
      "cell_type": "markdown",
      "metadata": {
        "id": "QxTJUBuu-Xu_",
        "colab_type": "text"
      },
      "source": [
        "\n",
        "### How to use the adjustment factor for stratified re-weighting? \n",
        "\n",
        "First, to make sure we are on the same page, let's confirm how things work if you aren't doing any corrections. Let's say you surveyed a sample of people from several different census block groups about some `outcome_variable`, e.g., `income`. To estimate the mean income across all CBGs, *without* any corrections or adjustments, you would calculate a weighted mean across all $N$ strata (e.g. census block groups), with each stratum weighted by the number of measurements (i.e. sample size) from that stratum. \n",
        "\n",
        "$${mean}_{uncorrected} = \\frac{\\sum_{n=1}^{N} \\mu_n  * sample\\_size_n}{N} $$\n",
        "\n",
        "Where $\\mu_n$ is the mean income of stratum $n$, and ${sample\\_size}_n$ is the sample size of that stratum (i.e.,  how many people you surveyed about their income.)\n",
        "\n",
        "But maybe most of your survey came from particularly wealthy census block groups (sampling bias). To correct for sampling bias, you re-weight each stratum. \n",
        "\n",
        "$${mean}_{corrected} = \\frac{\\sum_{n=1}^{N} \\mu_n  * sample\\_size_n * adjust\\_factor_n}{N} $$\n",
        "\n",
        "\n",
        "Where ${adjust\\_factor}_n$ is as defined above. \n",
        "\n",
        "Effectively you are changing the \"sample size\" of this stratum so that its impact on your overall estimate is proportionate to the presence of this stratum in the whole population. \n",
        "\n",
        "\n",
        "----\n",
        "\n",
        "When analyzing the relative demographic breakdown of visitors (e.g. %`Hispanic` vs % `Not Hispanic`), the \"outcome_variable\" is really just a count of people visiting a place. To be super precise, as far as our formulas above are concerned, we can define $\\mu_n$ as the rate of visitors from $CBG_n$ to the POI or brand. That is, $\\mu_n = \\frac{num\\_visit_n}{sample\\_size_n}$. Since $\\frac{num\\_visit_n}{sample\\_size_n} * {sample\\_size} = num\\_visit_n$ , the numerator reduces to just the count of visitors $num\\_visit_n$ multiplied by the $adjust\\_factor_n$. \n",
        "\n",
        "Technically, in our use case, we will actually calculate weighted *sums* of people, rather than weighted means, so our formula will look more like this: \n",
        "\n",
        "$${sum}_{corrected} = \\sum_{n=1}^{N} num\\_visit_n * adjust\\_factor_n $$\n",
        "\n",
        "\n"
      ]
    },
    {
      "cell_type": "markdown",
      "metadata": {
        "id": "fiOFaKDNKXR4",
        "colab_type": "text"
      },
      "source": [
        "### Example of Correcting Sampling Bias: A Single Walmart\n",
        "\n",
        "Let's re-compute our Demographic Profile for the same Walmart we analyzed before (`sg:23540fe68cb14f3b9bf848fda3e848fc`)."
      ]
    },
    {
      "cell_type": "markdown",
      "metadata": {
        "id": "dr5t3CtL9LOH",
        "colab_type": "text"
      },
      "source": [
        "\n",
        "\n",
        "\n",
        "\n",
        "In order to measure and correct for sampling bias, we need to load two additional datasets:\n",
        "1. **`home_panel_summary.csv`** from SafeGraph Patterns. This file reports on the total sample size of the SafeGraph dataset `number_devices_residing`, broken down by home CBG. \n",
        "\n",
        "\n",
        "2. **`cbg_b01.csv`** from Open Census Data, which includes the code `B01001e1` `SEX BY AGE: Total: Total population -- (Estimate)`. We will use this code as our reference for the total USA population in each CBG.\n"
      ]
    },
    {
      "cell_type": "code",
      "metadata": {
        "id": "v7_BnDzqJVjJ",
        "colab_type": "code",
        "outputId": "af6f3756-4fc8-4fff-bb60-2984a5549d56",
        "colab": {
          "base_uri": "https://localhost:8080/",
          "height": 197
        }
      },
      "source": [
        "home_panel = dpf.get_home_panel(None, drive=drive)\n",
        "home_panel.head()"
      ],
      "execution_count": 0,
      "outputs": [
        {
          "output_type": "execute_result",
          "data": {
            "text/html": [
              "<div>\n",
              "<style scoped>\n",
              "    .dataframe tbody tr th:only-of-type {\n",
              "        vertical-align: middle;\n",
              "    }\n",
              "\n",
              "    .dataframe tbody tr th {\n",
              "        vertical-align: top;\n",
              "    }\n",
              "\n",
              "    .dataframe thead th {\n",
              "        text-align: right;\n",
              "    }\n",
              "</style>\n",
              "<table border=\"1\" class=\"dataframe\">\n",
              "  <thead>\n",
              "    <tr style=\"text-align: right;\">\n",
              "      <th></th>\n",
              "      <th>census_block_group</th>\n",
              "      <th>number_devices_residing</th>\n",
              "    </tr>\n",
              "  </thead>\n",
              "  <tbody>\n",
              "    <tr>\n",
              "      <th>0</th>\n",
              "      <td>010010201001</td>\n",
              "      <td>325</td>\n",
              "    </tr>\n",
              "    <tr>\n",
              "      <th>1</th>\n",
              "      <td>010010201002</td>\n",
              "      <td>152</td>\n",
              "    </tr>\n",
              "    <tr>\n",
              "      <th>2</th>\n",
              "      <td>010010202001</td>\n",
              "      <td>74</td>\n",
              "    </tr>\n",
              "    <tr>\n",
              "      <th>3</th>\n",
              "      <td>010010202002</td>\n",
              "      <td>115</td>\n",
              "    </tr>\n",
              "    <tr>\n",
              "      <th>4</th>\n",
              "      <td>010010203001</td>\n",
              "      <td>244</td>\n",
              "    </tr>\n",
              "  </tbody>\n",
              "</table>\n",
              "</div>"
            ],
            "text/plain": [
              "  census_block_group  number_devices_residing\n",
              "0       010010201001                      325\n",
              "1       010010201002                      152\n",
              "2       010010202001                       74\n",
              "3       010010202002                      115\n",
              "4       010010203001                      244"
            ]
          },
          "metadata": {
            "tags": []
          },
          "execution_count": 13
        }
      ]
    },
    {
      "cell_type": "code",
      "metadata": {
        "id": "Kpxs0z7MJpmG",
        "colab_type": "code",
        "outputId": "077bdc89-e78f-411b-dbe1-9eff386dd153",
        "colab": {
          "base_uri": "https://localhost:8080/",
          "height": 197
        }
      },
      "source": [
        "# B01001e1 is the census Total Population estimate\n",
        "census_totals = dpf.pd_read_csv_drive(dpf.get_drive_id('cbg_b01.csv'), drive=drive, dtype = {'census_block_group': str})[['census_block_group', 'B01001e1']] \n",
        "census_totals.head()"
      ],
      "execution_count": 0,
      "outputs": [
        {
          "output_type": "execute_result",
          "data": {
            "text/html": [
              "<div>\n",
              "<style scoped>\n",
              "    .dataframe tbody tr th:only-of-type {\n",
              "        vertical-align: middle;\n",
              "    }\n",
              "\n",
              "    .dataframe tbody tr th {\n",
              "        vertical-align: top;\n",
              "    }\n",
              "\n",
              "    .dataframe thead th {\n",
              "        text-align: right;\n",
              "    }\n",
              "</style>\n",
              "<table border=\"1\" class=\"dataframe\">\n",
              "  <thead>\n",
              "    <tr style=\"text-align: right;\">\n",
              "      <th></th>\n",
              "      <th>census_block_group</th>\n",
              "      <th>B01001e1</th>\n",
              "    </tr>\n",
              "  </thead>\n",
              "  <tbody>\n",
              "    <tr>\n",
              "      <th>0</th>\n",
              "      <td>010010201001</td>\n",
              "      <td>745</td>\n",
              "    </tr>\n",
              "    <tr>\n",
              "      <th>1</th>\n",
              "      <td>010010201002</td>\n",
              "      <td>1265</td>\n",
              "    </tr>\n",
              "    <tr>\n",
              "      <th>2</th>\n",
              "      <td>010010202001</td>\n",
              "      <td>960</td>\n",
              "    </tr>\n",
              "    <tr>\n",
              "      <th>3</th>\n",
              "      <td>010010202002</td>\n",
              "      <td>1236</td>\n",
              "    </tr>\n",
              "    <tr>\n",
              "      <th>4</th>\n",
              "      <td>010010203001</td>\n",
              "      <td>2364</td>\n",
              "    </tr>\n",
              "  </tbody>\n",
              "</table>\n",
              "</div>"
            ],
            "text/plain": [
              "  census_block_group  B01001e1\n",
              "0       010010201001       745\n",
              "1       010010201002      1265\n",
              "2       010010202001       960\n",
              "3       010010202002      1236\n",
              "4       010010203001      2364"
            ]
          },
          "metadata": {
            "tags": []
          },
          "execution_count": 14
        }
      ]
    },
    {
      "cell_type": "code",
      "metadata": {
        "id": "LcJhO7G2KEC7",
        "colab_type": "code",
        "outputId": "6f1a7899-21f6-4a8e-a011-926aaf4a063c",
        "colab": {
          "base_uri": "https://localhost:8080/",
          "height": 253
        }
      },
      "source": [
        "# Join all datasets together on census_block_group\n",
        "visitors_join_walmart2 = dpf.join_visitors_census_and_panel(pd.merge(home_visitor_cbgs_walmart,poi_walmart[['safegraph_place_id', 'brands']]), \n",
        "                                              home_panel,\n",
        "                                              census_df_hispanic,\n",
        "                                              verbose=True)\n",
        "visitors_join_walmart2 = pd.merge(visitors_join_walmart2, census_totals, on=['census_block_group'])\n",
        "visitors_join_walmart2.head()\n",
        "\n"
      ],
      "execution_count": 0,
      "outputs": [
        {
          "output_type": "stream",
          "text": [
            "Shape of fully-joined dataframe: \n",
            "(134, 9)\n"
          ],
          "name": "stdout"
        },
        {
          "output_type": "execute_result",
          "data": {
            "text/html": [
              "<div>\n",
              "<style scoped>\n",
              "    .dataframe tbody tr th:only-of-type {\n",
              "        vertical-align: middle;\n",
              "    }\n",
              "\n",
              "    .dataframe tbody tr th {\n",
              "        vertical-align: top;\n",
              "    }\n",
              "\n",
              "    .dataframe thead th {\n",
              "        text-align: right;\n",
              "    }\n",
              "</style>\n",
              "<table border=\"1\" class=\"dataframe\">\n",
              "  <thead>\n",
              "    <tr style=\"text-align: right;\">\n",
              "      <th></th>\n",
              "      <th>safegraph_place_id</th>\n",
              "      <th>visitor_count</th>\n",
              "      <th>brands</th>\n",
              "      <th>census_block_group</th>\n",
              "      <th>number_devices_residing</th>\n",
              "      <th>B03003e2</th>\n",
              "      <th>B03003e3</th>\n",
              "      <th>B03003e2_frac</th>\n",
              "      <th>B03003e3_frac</th>\n",
              "      <th>B01001e1</th>\n",
              "    </tr>\n",
              "  </thead>\n",
              "  <tbody>\n",
              "    <tr>\n",
              "      <th>0</th>\n",
              "      <td>sg:23540fe68cb14f3b9bf848fda3e848fc</td>\n",
              "      <td>136</td>\n",
              "      <td>Walmart</td>\n",
              "      <td>370810152003</td>\n",
              "      <td>574</td>\n",
              "      <td>4213</td>\n",
              "      <td>47</td>\n",
              "      <td>0.988967</td>\n",
              "      <td>0.011033</td>\n",
              "      <td>4260</td>\n",
              "    </tr>\n",
              "    <tr>\n",
              "      <th>1</th>\n",
              "      <td>sg:23540fe68cb14f3b9bf848fda3e848fc</td>\n",
              "      <td>125</td>\n",
              "      <td>Walmart</td>\n",
              "      <td>370010217031</td>\n",
              "      <td>1343</td>\n",
              "      <td>2822</td>\n",
              "      <td>62</td>\n",
              "      <td>0.978502</td>\n",
              "      <td>0.021498</td>\n",
              "      <td>2884</td>\n",
              "    </tr>\n",
              "    <tr>\n",
              "      <th>2</th>\n",
              "      <td>sg:23540fe68cb14f3b9bf848fda3e848fc</td>\n",
              "      <td>94</td>\n",
              "      <td>Walmart</td>\n",
              "      <td>370010217032</td>\n",
              "      <td>494</td>\n",
              "      <td>2466</td>\n",
              "      <td>362</td>\n",
              "      <td>0.871994</td>\n",
              "      <td>0.128006</td>\n",
              "      <td>2828</td>\n",
              "    </tr>\n",
              "    <tr>\n",
              "      <th>3</th>\n",
              "      <td>sg:23540fe68cb14f3b9bf848fda3e848fc</td>\n",
              "      <td>84</td>\n",
              "      <td>Walmart</td>\n",
              "      <td>370810172003</td>\n",
              "      <td>346</td>\n",
              "      <td>2357</td>\n",
              "      <td>24</td>\n",
              "      <td>0.989920</td>\n",
              "      <td>0.010080</td>\n",
              "      <td>2381</td>\n",
              "    </tr>\n",
              "    <tr>\n",
              "      <th>4</th>\n",
              "      <td>sg:23540fe68cb14f3b9bf848fda3e848fc</td>\n",
              "      <td>82</td>\n",
              "      <td>Walmart</td>\n",
              "      <td>370010218011</td>\n",
              "      <td>358</td>\n",
              "      <td>2042</td>\n",
              "      <td>0</td>\n",
              "      <td>1.000000</td>\n",
              "      <td>0.000000</td>\n",
              "      <td>2042</td>\n",
              "    </tr>\n",
              "  </tbody>\n",
              "</table>\n",
              "</div>"
            ],
            "text/plain": [
              "                    safegraph_place_id  visitor_count  ... B03003e3_frac B01001e1\n",
              "0  sg:23540fe68cb14f3b9bf848fda3e848fc            136  ...      0.011033     4260\n",
              "1  sg:23540fe68cb14f3b9bf848fda3e848fc            125  ...      0.021498     2884\n",
              "2  sg:23540fe68cb14f3b9bf848fda3e848fc             94  ...      0.128006     2828\n",
              "3  sg:23540fe68cb14f3b9bf848fda3e848fc             84  ...      0.010080     2381\n",
              "4  sg:23540fe68cb14f3b9bf848fda3e848fc             82  ...      0.000000     2042\n",
              "\n",
              "[5 rows x 10 columns]"
            ]
          },
          "metadata": {
            "tags": []
          },
          "execution_count": 15
        }
      ]
    },
    {
      "cell_type": "markdown",
      "metadata": {
        "id": "gqtQRds1ZkMK",
        "colab_type": "text"
      },
      "source": [
        "We [define a function](https://github.com/ryanfoxsquire/safegraph_demo_profile/blob/8128cacb4ae34664c8a7d2bbfc619aa9b54cf36d/demo_profile_functions/demo_profile_functions.py#L539) to compute the adjust_factor. \n",
        "\n",
        "To distinguish this geographic-CBG-based adjustment_factor from the adjustments we made earlier to compute the demographic fractions (`_D_adj`), we will call this the correction for sampling_bias `_cbg_adj`."
      ]
    },
    {
      "cell_type": "code",
      "metadata": {
        "id": "FmSOo9kEL4o0",
        "colab_type": "code",
        "outputId": "1a5c12d6-3791-44b5-f520-6f547378a7da",
        "colab": {
          "base_uri": "https://localhost:8080/",
          "height": 34
        }
      },
      "source": [
        "\"\"\"\n",
        "def compute_adjust_factor(df, population_col, sample_col):\n",
        "    adjust_factor = df[population_col] / df[population_col].sum() * df[sample_col].sum() / df[sample_col]\n",
        "    return(adjust_factor)\n",
        "    \n",
        "\"\"\"\n",
        "print(\"\")"
      ],
      "execution_count": 0,
      "outputs": [
        {
          "output_type": "stream",
          "text": [
            "\n"
          ],
          "name": "stdout"
        }
      ]
    },
    {
      "cell_type": "code",
      "metadata": {
        "id": "IGGY107KaBuO",
        "colab_type": "code",
        "outputId": "27317362-6b23-488e-e183-4f6c1414de61",
        "colab": {
          "base_uri": "https://localhost:8080/",
          "height": 235
        }
      },
      "source": [
        "visitors_walmart2 = visitors_join_walmart2.copy()\n",
        "visitors_walmart2['cbg_adjust_factor'] = dpf.compute_adjust_factor(visitors_walmart2, 'B01001e1','number_devices_residing')\n",
        "visitors_walmart2['visitor_count_cbg_adj'] = visitors_walmart2['visitor_count'] * visitors_walmart2['cbg_adjust_factor'] # apply re-weighting, re-scaling\n",
        "\n",
        "print(visitors_walmart2.shape)\n",
        "visitors_walmart2.head()"
      ],
      "execution_count": 0,
      "outputs": [
        {
          "output_type": "stream",
          "text": [
            "(134, 12)\n"
          ],
          "name": "stdout"
        },
        {
          "output_type": "execute_result",
          "data": {
            "text/html": [
              "<div>\n",
              "<style scoped>\n",
              "    .dataframe tbody tr th:only-of-type {\n",
              "        vertical-align: middle;\n",
              "    }\n",
              "\n",
              "    .dataframe tbody tr th {\n",
              "        vertical-align: top;\n",
              "    }\n",
              "\n",
              "    .dataframe thead th {\n",
              "        text-align: right;\n",
              "    }\n",
              "</style>\n",
              "<table border=\"1\" class=\"dataframe\">\n",
              "  <thead>\n",
              "    <tr style=\"text-align: right;\">\n",
              "      <th></th>\n",
              "      <th>safegraph_place_id</th>\n",
              "      <th>visitor_count</th>\n",
              "      <th>brands</th>\n",
              "      <th>census_block_group</th>\n",
              "      <th>number_devices_residing</th>\n",
              "      <th>B03003e2</th>\n",
              "      <th>B03003e3</th>\n",
              "      <th>B03003e2_frac</th>\n",
              "      <th>B03003e3_frac</th>\n",
              "      <th>B01001e1</th>\n",
              "      <th>cbg_adjust_factor</th>\n",
              "      <th>visitor_count_cbg_adj</th>\n",
              "    </tr>\n",
              "  </thead>\n",
              "  <tbody>\n",
              "    <tr>\n",
              "      <th>0</th>\n",
              "      <td>sg:23540fe68cb14f3b9bf848fda3e848fc</td>\n",
              "      <td>136</td>\n",
              "      <td>Walmart</td>\n",
              "      <td>370810152003</td>\n",
              "      <td>574</td>\n",
              "      <td>4213</td>\n",
              "      <td>47</td>\n",
              "      <td>0.988967</td>\n",
              "      <td>0.011033</td>\n",
              "      <td>4260</td>\n",
              "      <td>0.940995</td>\n",
              "      <td>127.975360</td>\n",
              "    </tr>\n",
              "    <tr>\n",
              "      <th>1</th>\n",
              "      <td>sg:23540fe68cb14f3b9bf848fda3e848fc</td>\n",
              "      <td>125</td>\n",
              "      <td>Walmart</td>\n",
              "      <td>370010217031</td>\n",
              "      <td>1343</td>\n",
              "      <td>2822</td>\n",
              "      <td>62</td>\n",
              "      <td>0.978502</td>\n",
              "      <td>0.021498</td>\n",
              "      <td>2884</td>\n",
              "      <td>0.272276</td>\n",
              "      <td>34.034471</td>\n",
              "    </tr>\n",
              "    <tr>\n",
              "      <th>2</th>\n",
              "      <td>sg:23540fe68cb14f3b9bf848fda3e848fc</td>\n",
              "      <td>94</td>\n",
              "      <td>Walmart</td>\n",
              "      <td>370010217032</td>\n",
              "      <td>494</td>\n",
              "      <td>2466</td>\n",
              "      <td>362</td>\n",
              "      <td>0.871994</td>\n",
              "      <td>0.128006</td>\n",
              "      <td>2828</td>\n",
              "      <td>0.725842</td>\n",
              "      <td>68.229165</td>\n",
              "    </tr>\n",
              "    <tr>\n",
              "      <th>3</th>\n",
              "      <td>sg:23540fe68cb14f3b9bf848fda3e848fc</td>\n",
              "      <td>84</td>\n",
              "      <td>Walmart</td>\n",
              "      <td>370810172003</td>\n",
              "      <td>346</td>\n",
              "      <td>2357</td>\n",
              "      <td>24</td>\n",
              "      <td>0.989920</td>\n",
              "      <td>0.010080</td>\n",
              "      <td>2381</td>\n",
              "      <td>0.872515</td>\n",
              "      <td>73.291284</td>\n",
              "    </tr>\n",
              "    <tr>\n",
              "      <th>4</th>\n",
              "      <td>sg:23540fe68cb14f3b9bf848fda3e848fc</td>\n",
              "      <td>82</td>\n",
              "      <td>Walmart</td>\n",
              "      <td>370010218011</td>\n",
              "      <td>358</td>\n",
              "      <td>2042</td>\n",
              "      <td>0</td>\n",
              "      <td>1.000000</td>\n",
              "      <td>0.000000</td>\n",
              "      <td>2042</td>\n",
              "      <td>0.723207</td>\n",
              "      <td>59.302952</td>\n",
              "    </tr>\n",
              "  </tbody>\n",
              "</table>\n",
              "</div>"
            ],
            "text/plain": [
              "                    safegraph_place_id  ...  visitor_count_cbg_adj\n",
              "0  sg:23540fe68cb14f3b9bf848fda3e848fc  ...             127.975360\n",
              "1  sg:23540fe68cb14f3b9bf848fda3e848fc  ...              34.034471\n",
              "2  sg:23540fe68cb14f3b9bf848fda3e848fc  ...              68.229165\n",
              "3  sg:23540fe68cb14f3b9bf848fda3e848fc  ...              73.291284\n",
              "4  sg:23540fe68cb14f3b9bf848fda3e848fc  ...              59.302952\n",
              "\n",
              "[5 rows x 12 columns]"
            ]
          },
          "metadata": {
            "tags": []
          },
          "execution_count": 17
        }
      ]
    },
    {
      "cell_type": "code",
      "metadata": {
        "id": "VTyFFCFlalOV",
        "colab_type": "code",
        "outputId": "6b8c34ff-07c2-49b8-e3ff-49c3cc7a478f",
        "colab": {
          "base_uri": "https://localhost:8080/",
          "height": 501
        }
      },
      "source": [
        "visitors_walmart2.cbg_adjust_factor.hist()"
      ],
      "execution_count": 0,
      "outputs": [
        {
          "output_type": "execute_result",
          "data": {
            "text/plain": [
              "<matplotlib.axes._subplots.AxesSubplot at 0x7fb8e868dd68>"
            ]
          },
          "metadata": {
            "tags": []
          },
          "execution_count": 18
        },
        {
          "output_type": "display_data",
          "data": {
            "image/png": "[encoded data removed]",
            "text/plain": [
              "<Figure size 576x576 with 1 Axes>"
            ]
          },
          "metadata": {
            "tags": []
          }
        }
      ]
    },
    {
      "cell_type": "markdown",
      "metadata": {
        "id": "nJxjaEPB9LJ_",
        "colab_type": "text"
      },
      "source": [
        "Inspecting the `cbg_adjust_factor` shows that for some CBGs the SafeGraph data is very proportionally representative,but for others the SafeGraph data is very over or under-indexed. when `cbg_adjust_factor < 1`, SafeGraph is over-indexed relative to population.\n",
        "\n",
        "----\n",
        "\n",
        "We now repeat our steps to visualize the profile before and after the stratified re-weighting correction. "
      ]
    },
    {
      "cell_type": "code",
      "metadata": {
        "id": "Qfa2QLz8a_AJ",
        "colab_type": "code",
        "outputId": "7c5d3ac3-815a-4c5b-eb94-b2c52314d0fe",
        "colab": {
          "base_uri": "https://localhost:8080/",
          "height": 97
        }
      },
      "source": [
        "demos_walmart2 = visitors_walmart2.copy()\n",
        "\n",
        "columns_to_keep = []\n",
        "for dc in hispanic_demo_codes:\n",
        "    demos_walmart2['visitor_count_cbg_adj_'+dc+'_D_adj'] = demos_walmart2[dc+'_frac'] * demos_walmart2['visitor_count_cbg_adj'] # This is our corrected estimate, as a fraction\n",
        "    demos_walmart2['visitor_count_'+dc+'_D_adj'] = demos_walmart2[dc+'_frac'] * demos_walmart2['visitor_count'] # We keep track of the non-corrected measurement for stats purposes (explained in Section 3)\n",
        "    columns_to_keep = columns_to_keep + ['visitor_count_'+dc+'_D_adj', 'visitor_count_cbg_adj_'+dc+'_D_adj']\n",
        "\n",
        "columns_to_keep = ['brands','visitor_count', 'visitor_count_cbg_adj'] + columns_to_keep\n",
        "sums_temp2 = demos_walmart2[columns_to_keep].copy()\n",
        "summs_walmart2 = sums_temp2.groupby(['brands']).sum().reset_index() # Sum all rows (all CBGs)\n",
        "summs_walmart2"
      ],
      "execution_count": 0,
      "outputs": [
        {
          "output_type": "execute_result",
          "data": {
            "text/html": [
              "<div>\n",
              "<style scoped>\n",
              "    .dataframe tbody tr th:only-of-type {\n",
              "        vertical-align: middle;\n",
              "    }\n",
              "\n",
              "    .dataframe tbody tr th {\n",
              "        vertical-align: top;\n",
              "    }\n",
              "\n",
              "    .dataframe thead th {\n",
              "        text-align: right;\n",
              "    }\n",
              "</style>\n",
              "<table border=\"1\" class=\"dataframe\">\n",
              "  <thead>\n",
              "    <tr style=\"text-align: right;\">\n",
              "      <th></th>\n",
              "      <th>brands</th>\n",
              "      <th>visitor_count</th>\n",
              "      <th>visitor_count_cbg_adj</th>\n",
              "      <th>visitor_count_B03003e2_D_adj</th>\n",
              "      <th>visitor_count_cbg_adj_B03003e2_D_adj</th>\n",
              "      <th>visitor_count_B03003e3_D_adj</th>\n",
              "      <th>visitor_count_cbg_adj_B03003e3_D_adj</th>\n",
              "    </tr>\n",
              "  </thead>\n",
              "  <tbody>\n",
              "    <tr>\n",
              "      <th>0</th>\n",
              "      <td>Walmart</td>\n",
              "      <td>3223</td>\n",
              "      <td>3560.826948</td>\n",
              "      <td>2963.816282</td>\n",
              "      <td>3239.744634</td>\n",
              "      <td>259.183718</td>\n",
              "      <td>321.082314</td>\n",
              "    </tr>\n",
              "  </tbody>\n",
              "</table>\n",
              "</div>"
            ],
            "text/plain": [
              "    brands  ...  visitor_count_cbg_adj_B03003e3_D_adj\n",
              "0  Walmart  ...                            321.082314\n",
              "\n",
              "[1 rows x 7 columns]"
            ]
          },
          "metadata": {
            "tags": []
          },
          "execution_count": 19
        }
      ]
    },
    {
      "cell_type": "markdown",
      "metadata": {
        "id": "9O62c_3p9LHl",
        "colab_type": "text"
      },
      "source": [
        "So, `visitor_count_cbg_adj_B03003e3_D_adj` is our corrected estimate of the total number of visitors to Walmart from the demographic group `B03003e3` (`Hispanic Or Latino Origin`). \n",
        "\n",
        "* `_cbg_adj` is shorthand for the census_block_group-based geographic stratified correction\n",
        "* `_D_adj` is shorthand for the demographic adjustment. This is the product of our original visitor_count multplied by the demographic fraction. \n",
        "\n",
        "We've dropped other columns. "
      ]
    },
    {
      "cell_type": "code",
      "metadata": {
        "id": "nQfvQKRrcA_D",
        "colab_type": "code",
        "outputId": "f2e2e08d-edec-4826-8b19-d44f349dacac",
        "colab": {
          "base_uri": "https://localhost:8080/",
          "height": 558
        }
      },
      "source": [
        "print(\"Figure 2\")\n",
        "demos2plot2 = ['Hispanic Or Latino', 'Not Hispanic Or Latino']\n",
        "totals2 = [summs_walmart2.visitor_count[0],summs_walmart2.visitor_count_cbg_adj[0]]\n",
        "data2plot2 = [summs_walmart2.visitor_count_B03003e3_D_adj[0] / totals2[0] * 100 , \n",
        "             summs_walmart2.visitor_count_cbg_adj_B03003e3_D_adj[0] / totals2[1] * 100 , \n",
        "             summs_walmart2.visitor_count_B03003e2_D_adj[0] / totals2[0] * 100,\n",
        "             summs_walmart2.visitor_count_cbg_adj_B03003e2_D_adj[0] / totals2[1] * 100\n",
        "            ]\n",
        "print([round(datum,2) for datum in data2plot2]) \n",
        "\n",
        "barwidth = 0.3\n",
        "idx = [1,2]\n",
        "\n",
        "plt.rcParams['figure.figsize'] = [8, 8]\n",
        "fig, ax = plt.subplots(1, 1)\n",
        "ax.yaxis.grid(zorder=0)\n",
        "p1 = ax.bar(idx, data2plot2[0:2], barwidth)\n",
        "p2 = ax.bar(idx, data2plot2[2:4], barwidth, bottom=data2plot2[0:2])\n",
        "\n",
        "plt.ylabel(\"% of Visitors To Brand\", size=16)\n",
        "plt.title('What fraction of visitors have Hispanic or Latino Origin?', size=16)\n",
        "plt.xticks(idx, [summs_walmart2.brands[0] + ' Estimate \\n(raw)',summs_walmart2.brands[0] + ' Estimate \\n(corrected)'] , size=16)\n",
        "plt.yticks(list(range(0,110,10)))\n",
        "plt.legend((p1[0], p2[0]), demos2plot2)\n",
        "plt.xlim((idx[0] - 0.5, idx[-1] + .5))\n",
        "plt.ylim((0,100))\n",
        "\n",
        "handles2 = [p1, p2]\n",
        "order2 = [1,0] # We want to reverse the legend order so it matches the order on the chart\n",
        "plt.legend([handles2[idx] for idx in order2],[demos2plot2[idx] for idx in order2],fontsize=18, bbox_to_anchor=(1,0.5))\n",
        "plt.show()\n",
        "\n"
      ],
      "execution_count": 0,
      "outputs": [
        {
          "output_type": "stream",
          "text": [
            "Figure 2\n",
            "[8.04, 9.02, 91.96, 90.98]\n"
          ],
          "name": "stdout"
        },
        {
          "output_type": "display_data",
          "data": {
            "image/png": "[encoded data removed]",
            "text/plain": [
              "<Figure size 576x576 with 1 Axes>"
            ]
          },
          "metadata": {
            "tags": []
          }
        }
      ]
    },
    {
      "cell_type": "markdown",
      "metadata": {
        "id": "8Xf72sqNcEuM",
        "colab_type": "text"
      },
      "source": [
        "We've printed the values of each bar at the top for reference.\n",
        "\n",
        "According to the uncorrected SafeGraph counts, about 8% of the customers to this Walmart are in the category `Hispanic or Latino Origin` (left-side blue bar). \n",
        "\n",
        "However, as it turns out, across these ~130 census block groups that patron this Walmart, the SafeGraph dataset is relatively under-indexed on the CBGs with larger Hispanic populations. Since we know this, we use the stratified re-weighting to under-weight CBGs with fewer hispanic populations and overweight CBGs with larger hispanic populations. This gives us a new revised estimate that about 9% customers are `Hispanic or Latino Origin` (right-side blue bar). \n",
        "\n",
        "The correction isn't very large because, overall, the SafeGraph panel is not very biased on different Ethnicities. However, 8% vs 9% is an ~ 11% difference and is not inconsequential. If you are estimating projected revenue for your business over the next year based on this demographic analysis, an 11% error could potentially cause serious problems. \n",
        "\n",
        "Moreover, we can now have confidence that the demographic profile we are reporting is not just an artifcat of sampling bias in the SafeGraph dataset. \n",
        "\n"
      ]
    },
    {
      "cell_type": "markdown",
      "metadata": {
        "id": "dXD6ADagdWSK",
        "colab_type": "text"
      },
      "source": [
        "# \\#2 Wrangling Census Data \n",
        "**Organizing and Linking Census Data to SafeGraph Patterns**\n",
        "\n",
        "The code above was relatively straightforward for a single location and a single dimension with only two demographic segments.  But we want to analyze many demographic dimensions across many locations and many brands. \n",
        "\n",
        "We've already seen how [Open Census Data](https://www.safegraph.com/open-census-data/?utm_source=content&utm_medium=referral&utm_campaign=colabnotebook&utm_content=demo_profile_teachernotebook) makes this much, much easier because all the data has been pre-organized into a single download. \n",
        "\n",
        "\n",
        "Some of the most common demographic dimensions our customers care about are: \n",
        "1. Age aka `Sex By Age`\n",
        "2. `Race`\n",
        "3. Ethnicity aka `Hispanic Or Latino Origin`\n",
        "4. Education aka `Educational Attainment For The Population 25 Years And Over`\n",
        "5. Income aka `Aggregate Household Income In The Past 12 Months (In 2016 Inflation-Adjusted Dollars)`\n",
        "\n",
        "One of the key sources of complexity for wrangling the Census data is that the Census often reports data at a higher granularity than you need or want. For example, the census reports on ***16 different levels*** of Annual Household Income. But at least for my initial analysis, I'd rather reduce this to 3 groups: \n",
        "1. `Less than $59,000` \n",
        "2. `$60,000 To $99,000` \n",
        "3. `$100,000 Or More`\n",
        "\n",
        "This isn't complicated, but re-aggregating census variables in code takes up some space, and there are tedious details and codes to keep track of. \n",
        "\n",
        "In the repository [`safegraph_demo_profile`](https://github.com/ryanfoxsquire/safegraph_demo_profile/blob/master/demo_profile_functions/demo_profile_functions.py) I have pre-organized all of the `table_id` codes for all of the relevant Census measures into aggregations that I think are a useful starting point. For example, [here is the relevant function for aggregating the Census data into my 3 levels of Household Income](https://github.com/ryanfoxsquire/safegraph_demo_profile/blob/master/demo_profile_functions/demo_profile_functions.py#L66), called `get_household_income_groups()`. The framework is easy to adapt to different and new aggregations, if you want. \n",
        "\n",
        "Finally, we want to easily analyze any number of POI, whether it is a single location or every POI in a brand. We also want to easily compare brands to each other. The helper functions also make this easy. \n",
        "\n",
        "To show off exactly how easy, let's expand our analysis question: What are the differences in the demographics of customers to Target vs Walmart? \n"
      ]
    },
    {
      "cell_type": "markdown",
      "metadata": {
        "id": "NELKbBCUg9wd",
        "colab_type": "text"
      },
      "source": [
        "### What are the differences in the demographics of customers of Target vs Walmart? \n",
        "\n",
        "Now we will analyze not a single location, but all locations of Target and Walmart. Furthermore we will analyze not a single demographic dimension but 5. "
      ]
    },
    {
      "cell_type": "code",
      "metadata": {
        "id": "rA1cOC0shGtq",
        "colab_type": "code",
        "outputId": "a64a8de8-eaa2-410a-a158-26e1a624bcc3",
        "colab": {
          "base_uri": "https://localhost:8080/",
          "height": 123
        }
      },
      "source": [
        "# EDIT THIS to adjust which demographic dimensions you want to analyze. if True, then it will be analyzed. \n",
        "demographic_options = {'Sex By Age': True,\n",
        "                         'Race' : True,\n",
        "                         'Hispanic Or Latino Origin': True,\n",
        "                         'Educational Attainment For The Population 25 Years And Over': True, \n",
        "                         'Aggregate Household Income In The Past 12 Months (In 2016 Inflation-Adjusted Dollars)': True\n",
        "                        }\n",
        "# ~~~~\n",
        "demos_to_analyze = [demo for demo, to_use in demographic_options.items() if to_use]\n",
        "print(\"We will analyze the following dimensions:\")\n",
        "for demo in demos_to_analyze: print(demo)"
      ],
      "execution_count": 0,
      "outputs": [
        {
          "output_type": "stream",
          "text": [
            "We will analyze the following dimensions:\n",
            "Sex By Age\n",
            "Race\n",
            "Hispanic Or Latino Origin\n",
            "Educational Attainment For The Population 25 Years And Over\n",
            "Aggregate Household Income In The Past 12 Months (In 2016 Inflation-Adjusted Dollars)\n"
          ],
          "name": "stdout"
        }
      ]
    },
    {
      "cell_type": "markdown",
      "metadata": {
        "id": "sNPsRQadjfJJ",
        "colab_type": "text"
      },
      "source": [
        "First we pull all the relevant Census data. "
      ]
    },
    {
      "cell_type": "code",
      "metadata": {
        "id": "VqfLK0yLix4t",
        "colab_type": "code",
        "outputId": "d8e94396-669c-49da-ec74-e9eec66f55fd",
        "colab": {
          "base_uri": "https://localhost:8080/",
          "height": 407
        }
      },
      "source": [
        "%%time\n",
        "print(\"This will take 60-90 seconds to read all the census files and re-aggregate\")\n",
        "\n",
        "# Read the appropriate census files, given the categories requested, perform aggregations\n",
        "census_df, cbg_field_desc = dpf.get_raw_census_data(demos_to_analyze, None, drive=drive, verbose=True)\n",
        "census_df, cbg_field_desc_mod = dpf.reaggregate_census_data(census_df, cbg_field_desc, demos_to_analyze, verbose=True)\n",
        "\n",
        "# add new columns which re-normalize counts to fraction-within-demo-category for each CBG\n",
        "census_df = dpf.normalize_demos_to_fractions(census_df, demos_to_analyze, verbose=True)\n",
        "census_df[['census_block_group'] + list(census_df.columns)].head()"
      ],
      "execution_count": 0,
      "outputs": [
        {
          "output_type": "stream",
          "text": [
            "This will take 60-90 seconds to read all the census files and re-aggregate\n",
            "Pulling census data from <pydrive.drive.GoogleDrive object at 0x7fb91aaaba20> for:\n",
            "Sex By Age\n",
            "Race\n",
            "Hispanic Or Latino Origin\n",
            "Educational Attainment For The Population 25 Years And Over\n",
            "Aggregate Household Income In The Past 12 Months (In 2016 Inflation-Adjusted Dollars)\n",
            "Starting reaggregations (this is a slow step).\n",
            "census data starting shape: \n",
            "(220333, 1029)\n",
            "Education aggregation complete.\n",
            "(220333, 1010)\n",
            "Age aggregation complete.\n",
            "(220333, 973)\n",
            "Income aggregation complete.\n",
            "(220333, 960)\n",
            "Dropped unused columns.\n",
            "(220333, 22)\n",
            "Added normalized columns as fractions.\n",
            "(220333, 42)\n",
            "CPU times: user 39.5 s, sys: 10.6 s, total: 50.1 s\n",
            "Wall time: 1min 2s\n"
          ],
          "name": "stdout"
        }
      ]
    },
    {
      "cell_type": "code",
      "metadata": {
        "id": "bgdYsR-mjr1E",
        "colab_type": "code",
        "outputId": "9e149041-3855-475e-eaf3-a788882e323a",
        "colab": {
          "base_uri": "https://localhost:8080/",
          "height": 235
        }
      },
      "source": [
        "print(census_df.shape)\n",
        "census_df[['census_block_group'] + list(census_df.columns)].head()"
      ],
      "execution_count": 0,
      "outputs": [
        {
          "output_type": "stream",
          "text": [
            "(220333, 42)\n"
          ],
          "name": "stdout"
        },
        {
          "output_type": "execute_result",
          "data": {
            "text/html": [
              "<div>\n",
              "<style scoped>\n",
              "    .dataframe tbody tr th:only-of-type {\n",
              "        vertical-align: middle;\n",
              "    }\n",
              "\n",
              "    .dataframe tbody tr th {\n",
              "        vertical-align: top;\n",
              "    }\n",
              "\n",
              "    .dataframe thead th {\n",
              "        text-align: right;\n",
              "    }\n",
              "</style>\n",
              "<table border=\"1\" class=\"dataframe\">\n",
              "  <thead>\n",
              "    <tr style=\"text-align: right;\">\n",
              "      <th></th>\n",
              "      <th>census_block_group</th>\n",
              "      <th>B01P1529</th>\n",
              "      <th>B01P3049</th>\n",
              "      <th>B01P50ov</th>\n",
              "      <th>B02001e2</th>\n",
              "      <th>B02001e3</th>\n",
              "      <th>B02001e4</th>\n",
              "      <th>B02001e5</th>\n",
              "      <th>B02001e6</th>\n",
              "      <th>B02001e7</th>\n",
              "      <th>B02001e8</th>\n",
              "      <th>B03003e3</th>\n",
              "      <th>B03003e2</th>\n",
              "      <th>B15003aa</th>\n",
              "      <th>B15003bb</th>\n",
              "      <th>B15003cc</th>\n",
              "      <th>B15003dd</th>\n",
              "      <th>B15003ee</th>\n",
              "      <th>B19xxx59</th>\n",
              "      <th>B1960x99</th>\n",
              "      <th>B19100xx</th>\n",
              "      <th>census_block_group</th>\n",
              "      <th>B01001e1</th>\n",
              "      <th>B01P1529_frac</th>\n",
              "      <th>B01P3049_frac</th>\n",
              "      <th>B01P50ov_frac</th>\n",
              "      <th>B02001e2_frac</th>\n",
              "      <th>B02001e3_frac</th>\n",
              "      <th>B02001e4_frac</th>\n",
              "      <th>B02001e5_frac</th>\n",
              "      <th>B02001e6_frac</th>\n",
              "      <th>B02001e7_frac</th>\n",
              "      <th>B02001e8_frac</th>\n",
              "      <th>B03003e3_frac</th>\n",
              "      <th>B03003e2_frac</th>\n",
              "      <th>B15003aa_frac</th>\n",
              "      <th>B15003bb_frac</th>\n",
              "      <th>B15003cc_frac</th>\n",
              "      <th>B15003dd_frac</th>\n",
              "      <th>B15003ee_frac</th>\n",
              "      <th>B19xxx59_frac</th>\n",
              "      <th>B1960x99_frac</th>\n",
              "      <th>B19100xx_frac</th>\n",
              "    </tr>\n",
              "  </thead>\n",
              "  <tbody>\n",
              "    <tr>\n",
              "      <th>0</th>\n",
              "      <td>010010201001</td>\n",
              "      <td>134</td>\n",
              "      <td>203</td>\n",
              "      <td>242</td>\n",
              "      <td>585</td>\n",
              "      <td>160</td>\n",
              "      <td>0</td>\n",
              "      <td>0</td>\n",
              "      <td>0</td>\n",
              "      <td>0</td>\n",
              "      <td>0</td>\n",
              "      <td>16</td>\n",
              "      <td>729</td>\n",
              "      <td>103</td>\n",
              "      <td>149</td>\n",
              "      <td>116</td>\n",
              "      <td>60</td>\n",
              "      <td>46</td>\n",
              "      <td>171</td>\n",
              "      <td>78</td>\n",
              "      <td>35</td>\n",
              "      <td>010010201001</td>\n",
              "      <td>745</td>\n",
              "      <td>0.231434</td>\n",
              "      <td>0.350604</td>\n",
              "      <td>0.417962</td>\n",
              "      <td>0.785235</td>\n",
              "      <td>0.214765</td>\n",
              "      <td>0.000000</td>\n",
              "      <td>0.000000</td>\n",
              "      <td>0.000000</td>\n",
              "      <td>0.000000</td>\n",
              "      <td>0.000000</td>\n",
              "      <td>0.021477</td>\n",
              "      <td>0.978523</td>\n",
              "      <td>0.217300</td>\n",
              "      <td>0.314346</td>\n",
              "      <td>0.244726</td>\n",
              "      <td>0.126582</td>\n",
              "      <td>0.097046</td>\n",
              "      <td>0.602113</td>\n",
              "      <td>0.274648</td>\n",
              "      <td>0.123239</td>\n",
              "    </tr>\n",
              "    <tr>\n",
              "      <th>1</th>\n",
              "      <td>010010201002</td>\n",
              "      <td>293</td>\n",
              "      <td>327</td>\n",
              "      <td>468</td>\n",
              "      <td>1083</td>\n",
              "      <td>104</td>\n",
              "      <td>0</td>\n",
              "      <td>9</td>\n",
              "      <td>0</td>\n",
              "      <td>0</td>\n",
              "      <td>69</td>\n",
              "      <td>37</td>\n",
              "      <td>1228</td>\n",
              "      <td>64</td>\n",
              "      <td>267</td>\n",
              "      <td>192</td>\n",
              "      <td>156</td>\n",
              "      <td>145</td>\n",
              "      <td>160</td>\n",
              "      <td>158</td>\n",
              "      <td>138</td>\n",
              "      <td>010010201002</td>\n",
              "      <td>1265</td>\n",
              "      <td>0.269301</td>\n",
              "      <td>0.300551</td>\n",
              "      <td>0.430147</td>\n",
              "      <td>0.856126</td>\n",
              "      <td>0.082213</td>\n",
              "      <td>0.000000</td>\n",
              "      <td>0.007115</td>\n",
              "      <td>0.000000</td>\n",
              "      <td>0.000000</td>\n",
              "      <td>0.054545</td>\n",
              "      <td>0.029249</td>\n",
              "      <td>0.970751</td>\n",
              "      <td>0.077670</td>\n",
              "      <td>0.324029</td>\n",
              "      <td>0.233010</td>\n",
              "      <td>0.189320</td>\n",
              "      <td>0.175971</td>\n",
              "      <td>0.350877</td>\n",
              "      <td>0.346491</td>\n",
              "      <td>0.302632</td>\n",
              "    </tr>\n",
              "    <tr>\n",
              "      <th>2</th>\n",
              "      <td>010010202001</td>\n",
              "      <td>194</td>\n",
              "      <td>233</td>\n",
              "      <td>318</td>\n",
              "      <td>361</td>\n",
              "      <td>568</td>\n",
              "      <td>0</td>\n",
              "      <td>0</td>\n",
              "      <td>13</td>\n",
              "      <td>0</td>\n",
              "      <td>18</td>\n",
              "      <td>13</td>\n",
              "      <td>947</td>\n",
              "      <td>121</td>\n",
              "      <td>262</td>\n",
              "      <td>149</td>\n",
              "      <td>54</td>\n",
              "      <td>16</td>\n",
              "      <td>256</td>\n",
              "      <td>117</td>\n",
              "      <td>13</td>\n",
              "      <td>010010202001</td>\n",
              "      <td>960</td>\n",
              "      <td>0.260403</td>\n",
              "      <td>0.312752</td>\n",
              "      <td>0.426846</td>\n",
              "      <td>0.376042</td>\n",
              "      <td>0.591667</td>\n",
              "      <td>0.000000</td>\n",
              "      <td>0.000000</td>\n",
              "      <td>0.013542</td>\n",
              "      <td>0.000000</td>\n",
              "      <td>0.018750</td>\n",
              "      <td>0.013542</td>\n",
              "      <td>0.986458</td>\n",
              "      <td>0.200997</td>\n",
              "      <td>0.435216</td>\n",
              "      <td>0.247508</td>\n",
              "      <td>0.089701</td>\n",
              "      <td>0.026578</td>\n",
              "      <td>0.663212</td>\n",
              "      <td>0.303109</td>\n",
              "      <td>0.033679</td>\n",
              "    </tr>\n",
              "    <tr>\n",
              "      <th>3</th>\n",
              "      <td>010010202002</td>\n",
              "      <td>280</td>\n",
              "      <td>467</td>\n",
              "      <td>305</td>\n",
              "      <td>615</td>\n",
              "      <td>571</td>\n",
              "      <td>0</td>\n",
              "      <td>24</td>\n",
              "      <td>0</td>\n",
              "      <td>10</td>\n",
              "      <td>16</td>\n",
              "      <td>15</td>\n",
              "      <td>1221</td>\n",
              "      <td>153</td>\n",
              "      <td>314</td>\n",
              "      <td>227</td>\n",
              "      <td>113</td>\n",
              "      <td>54</td>\n",
              "      <td>293</td>\n",
              "      <td>60</td>\n",
              "      <td>99</td>\n",
              "      <td>010010202002</td>\n",
              "      <td>1236</td>\n",
              "      <td>0.266160</td>\n",
              "      <td>0.443916</td>\n",
              "      <td>0.289924</td>\n",
              "      <td>0.497573</td>\n",
              "      <td>0.461974</td>\n",
              "      <td>0.000000</td>\n",
              "      <td>0.019417</td>\n",
              "      <td>0.000000</td>\n",
              "      <td>0.008091</td>\n",
              "      <td>0.012945</td>\n",
              "      <td>0.012136</td>\n",
              "      <td>0.987864</td>\n",
              "      <td>0.177700</td>\n",
              "      <td>0.364692</td>\n",
              "      <td>0.263647</td>\n",
              "      <td>0.131243</td>\n",
              "      <td>0.062718</td>\n",
              "      <td>0.648230</td>\n",
              "      <td>0.132743</td>\n",
              "      <td>0.219027</td>\n",
              "    </tr>\n",
              "    <tr>\n",
              "      <th>4</th>\n",
              "      <td>010010203001</td>\n",
              "      <td>424</td>\n",
              "      <td>779</td>\n",
              "      <td>665</td>\n",
              "      <td>1481</td>\n",
              "      <td>515</td>\n",
              "      <td>22</td>\n",
              "      <td>27</td>\n",
              "      <td>6</td>\n",
              "      <td>228</td>\n",
              "      <td>85</td>\n",
              "      <td>228</td>\n",
              "      <td>2136</td>\n",
              "      <td>208</td>\n",
              "      <td>576</td>\n",
              "      <td>498</td>\n",
              "      <td>205</td>\n",
              "      <td>161</td>\n",
              "      <td>494</td>\n",
              "      <td>203</td>\n",
              "      <td>127</td>\n",
              "      <td>010010203001</td>\n",
              "      <td>2364</td>\n",
              "      <td>0.226981</td>\n",
              "      <td>0.417024</td>\n",
              "      <td>0.355996</td>\n",
              "      <td>0.626481</td>\n",
              "      <td>0.217851</td>\n",
              "      <td>0.009306</td>\n",
              "      <td>0.011421</td>\n",
              "      <td>0.002538</td>\n",
              "      <td>0.096447</td>\n",
              "      <td>0.035956</td>\n",
              "      <td>0.096447</td>\n",
              "      <td>0.903553</td>\n",
              "      <td>0.126214</td>\n",
              "      <td>0.349515</td>\n",
              "      <td>0.302184</td>\n",
              "      <td>0.124393</td>\n",
              "      <td>0.097694</td>\n",
              "      <td>0.599515</td>\n",
              "      <td>0.246359</td>\n",
              "      <td>0.154126</td>\n",
              "    </tr>\n",
              "  </tbody>\n",
              "</table>\n",
              "</div>"
            ],
            "text/plain": [
              "  census_block_group  B01P1529  ...  B1960x99_frac  B19100xx_frac\n",
              "0       010010201001       134  ...       0.274648       0.123239\n",
              "1       010010201002       293  ...       0.346491       0.302632\n",
              "2       010010202001       194  ...       0.303109       0.033679\n",
              "3       010010202002       280  ...       0.132743       0.219027\n",
              "4       010010203001       424  ...       0.246359       0.154126\n",
              "\n",
              "[5 rows x 43 columns]"
            ]
          },
          "metadata": {
            "tags": []
          },
          "execution_count": 23
        }
      ]
    },
    {
      "cell_type": "markdown",
      "metadata": {
        "id": "Qz_efoPUjtw1",
        "colab_type": "text"
      },
      "source": [
        "Voilà! `census_df` is a clean, flat dataset with one row for every census block group and one column for every census table_id code that we care about. \n",
        "\n",
        "Note, many of these codes are \"constructed\" codes that I've invented as re-aggregations. For example, `B01P1529` is not a real `table_id` from the Census. [I've defined it](https://github.com/ryanfoxsquire/safegraph_demo_profile/blob/master/demo_profile_functions/demo_profile_functions.py#L59) to be `'Ages 15-29'` and represents the sum of about 12 individual census table_ids that are available in the raw data. \n",
        "\n",
        "You can easily re-define or add new aggregate census demographics following this same framework. \n",
        "\n",
        "Also note, we also have pre-computed all of these values as `_frac` as the relative fractions within their demographic category, since this is what we will use in our analysis. \n",
        "\n",
        "-----\n",
        "Now let's combine it with Patterns data to build demographic profiles along all these dimensions. \n",
        "\n"
      ]
    },
    {
      "cell_type": "markdown",
      "metadata": {
        "id": "5BEH5fyek6TK",
        "colab_type": "text"
      },
      "source": [
        "### Pull SG Patterns Data, as before.\n",
        "\n",
        "#### **Reminder, our motivating question: What are the differences in the demographics of customers of Target vs Walmart?** \n",
        "\n",
        "So, we will need Patterns data for all Walmart and all Target locations."
      ]
    },
    {
      "cell_type": "code",
      "metadata": {
        "id": "rde1vClolMrS",
        "colab_type": "code",
        "colab": {}
      },
      "source": [
        "brands_select_list = ['Walmart', 'Target'] # Choose the brands to analyze in your data. "
      ],
      "execution_count": 0,
      "outputs": []
    },
    {
      "cell_type": "code",
      "metadata": {
        "id": "BHJ9_lndlOdD",
        "colab_type": "code",
        "outputId": "f9a6c89f-1e3b-42fb-b589-f9511ecd3876",
        "colab": {
          "base_uri": "https://localhost:8080/",
          "height": 212
        }
      },
      "source": [
        "%%time\n",
        "patterns_raw = dpf.read_patterns_data(None, drive=drive)\n",
        "patterns_df = dpf.filter_patterns_dat(patterns_raw, brands_select_list, sgpid_whitelist=None, verbose=True)\n",
        "visitors_df = dpf.extract_visitor_home_cbgs(patterns_df, verbose=True) #   this is a slow step\n"
      ],
      "execution_count": 0,
      "outputs": [
        {
          "output_type": "stream",
          "text": [
            "Unfiltered patterns:\n",
            "(69133, 38)\n",
            "Filtering to these brands: \n",
            "['Walmart', 'Target']\n",
            "Filtered to select brands:\n",
            "(6896, 38)\n",
            "Exploding visitor_home_cbgs for 6896 records (This is a slow step).\n",
            "Size after exploding visitor_home_cbgs: \n",
            "(557339, 4)\n",
            "CPU times: user 35.5 s, sys: 878 ms, total: 36.3 s\n",
            "Wall time: 37.7 s\n"
          ],
          "name": "stdout"
        }
      ]
    },
    {
      "cell_type": "code",
      "metadata": {
        "id": "uGwfSTRIlaGg",
        "colab_type": "code",
        "outputId": "b92d8647-64c9-4ec1-ed3b-910274b0e3e9",
        "colab": {
          "base_uri": "https://localhost:8080/",
          "height": 197
        }
      },
      "source": [
        "visitors_df.head()"
      ],
      "execution_count": 0,
      "outputs": [
        {
          "output_type": "execute_result",
          "data": {
            "text/html": [
              "<div>\n",
              "<style scoped>\n",
              "    .dataframe tbody tr th:only-of-type {\n",
              "        vertical-align: middle;\n",
              "    }\n",
              "\n",
              "    .dataframe tbody tr th {\n",
              "        vertical-align: top;\n",
              "    }\n",
              "\n",
              "    .dataframe thead th {\n",
              "        text-align: right;\n",
              "    }\n",
              "</style>\n",
              "<table border=\"1\" class=\"dataframe\">\n",
              "  <thead>\n",
              "    <tr style=\"text-align: right;\">\n",
              "      <th></th>\n",
              "      <th>safegraph_place_id</th>\n",
              "      <th>visitor_home_cbg</th>\n",
              "      <th>visitor_count</th>\n",
              "      <th>brands</th>\n",
              "    </tr>\n",
              "  </thead>\n",
              "  <tbody>\n",
              "    <tr>\n",
              "      <th>0</th>\n",
              "      <td>sg:01ca4f9e01eb4a86b956335d22e0f5e8</td>\n",
              "      <td>311319669003</td>\n",
              "      <td>68</td>\n",
              "      <td>Walmart</td>\n",
              "    </tr>\n",
              "    <tr>\n",
              "      <th>1</th>\n",
              "      <td>sg:01ca4f9e01eb4a86b956335d22e0f5e8</td>\n",
              "      <td>311319669001</td>\n",
              "      <td>68</td>\n",
              "      <td>Walmart</td>\n",
              "    </tr>\n",
              "    <tr>\n",
              "      <th>2</th>\n",
              "      <td>sg:01ca4f9e01eb4a86b956335d22e0f5e8</td>\n",
              "      <td>311319666002</td>\n",
              "      <td>59</td>\n",
              "      <td>Walmart</td>\n",
              "    </tr>\n",
              "    <tr>\n",
              "      <th>3</th>\n",
              "      <td>sg:01ca4f9e01eb4a86b956335d22e0f5e8</td>\n",
              "      <td>311319666001</td>\n",
              "      <td>54</td>\n",
              "      <td>Walmart</td>\n",
              "    </tr>\n",
              "    <tr>\n",
              "      <th>4</th>\n",
              "      <td>sg:01ca4f9e01eb4a86b956335d22e0f5e8</td>\n",
              "      <td>311319670002</td>\n",
              "      <td>50</td>\n",
              "      <td>Walmart</td>\n",
              "    </tr>\n",
              "  </tbody>\n",
              "</table>\n",
              "</div>"
            ],
            "text/plain": [
              "                    safegraph_place_id visitor_home_cbg  visitor_count   brands\n",
              "0  sg:01ca4f9e01eb4a86b956335d22e0f5e8     311319669003             68  Walmart\n",
              "1  sg:01ca4f9e01eb4a86b956335d22e0f5e8     311319669001             68  Walmart\n",
              "2  sg:01ca4f9e01eb4a86b956335d22e0f5e8     311319666002             59  Walmart\n",
              "3  sg:01ca4f9e01eb4a86b956335d22e0f5e8     311319666001             54  Walmart\n",
              "4  sg:01ca4f9e01eb4a86b956335d22e0f5e8     311319670002             50  Walmart"
            ]
          },
          "metadata": {
            "tags": []
          },
          "execution_count": 26
        }
      ]
    },
    {
      "cell_type": "markdown",
      "metadata": {
        "id": "LhwGmICclpXK",
        "colab_type": "text"
      },
      "source": [
        "Here we have data from 6896 unique locations (`safegraph_place_id`s) of Target and Walmart. \n",
        "\n",
        "After exploding the `visitor_home_cbg` column, we have over 550,000 measurements of `visitor_count` from a particular `visitor_home_cbg` to a partcular `safegraph_place_id`. \n",
        "\n",
        "That's a lot of data!\n",
        "\n",
        "Next we join the Patterns data with the Census data. "
      ]
    },
    {
      "cell_type": "code",
      "metadata": {
        "id": "Xyu9HXs0luY7",
        "colab_type": "code",
        "outputId": "ff3f6453-dc43-4246-e902-fa7ec951f39d",
        "colab": {
          "base_uri": "https://localhost:8080/",
          "height": 253
        }
      },
      "source": [
        "visitors_join = dpf.join_visitors_census_and_panel(visitors_df, home_panel, census_df, verbose=True)\n",
        "visitors_join['cbg_adjust_factor'] = dpf.compute_adjust_factor(visitors_join, 'B01001e1','number_devices_residing')\n",
        "visitors_join['visitor_count_cbg_adj'] = visitors_join['visitor_count'] * visitors_join['cbg_adjust_factor']\n",
        "visitors_join.head()"
      ],
      "execution_count": 0,
      "outputs": [
        {
          "output_type": "stream",
          "text": [
            "Shape of fully-joined dataframe: \n",
            "(557339, 46)\n"
          ],
          "name": "stdout"
        },
        {
          "output_type": "execute_result",
          "data": {
            "text/html": [
              "<div>\n",
              "<style scoped>\n",
              "    .dataframe tbody tr th:only-of-type {\n",
              "        vertical-align: middle;\n",
              "    }\n",
              "\n",
              "    .dataframe tbody tr th {\n",
              "        vertical-align: top;\n",
              "    }\n",
              "\n",
              "    .dataframe thead th {\n",
              "        text-align: right;\n",
              "    }\n",
              "</style>\n",
              "<table border=\"1\" class=\"dataframe\">\n",
              "  <thead>\n",
              "    <tr style=\"text-align: right;\">\n",
              "      <th></th>\n",
              "      <th>safegraph_place_id</th>\n",
              "      <th>visitor_count</th>\n",
              "      <th>brands</th>\n",
              "      <th>census_block_group</th>\n",
              "      <th>number_devices_residing</th>\n",
              "      <th>B01P1529</th>\n",
              "      <th>B01P3049</th>\n",
              "      <th>B01P50ov</th>\n",
              "      <th>B02001e2</th>\n",
              "      <th>B02001e3</th>\n",
              "      <th>B02001e4</th>\n",
              "      <th>B02001e5</th>\n",
              "      <th>B02001e6</th>\n",
              "      <th>B02001e7</th>\n",
              "      <th>B02001e8</th>\n",
              "      <th>B03003e3</th>\n",
              "      <th>B03003e2</th>\n",
              "      <th>B15003aa</th>\n",
              "      <th>B15003bb</th>\n",
              "      <th>B15003cc</th>\n",
              "      <th>B15003dd</th>\n",
              "      <th>B15003ee</th>\n",
              "      <th>B19xxx59</th>\n",
              "      <th>B1960x99</th>\n",
              "      <th>B19100xx</th>\n",
              "      <th>B01001e1</th>\n",
              "      <th>B01P1529_frac</th>\n",
              "      <th>B01P3049_frac</th>\n",
              "      <th>B01P50ov_frac</th>\n",
              "      <th>B02001e2_frac</th>\n",
              "      <th>B02001e3_frac</th>\n",
              "      <th>B02001e4_frac</th>\n",
              "      <th>B02001e5_frac</th>\n",
              "      <th>B02001e6_frac</th>\n",
              "      <th>B02001e7_frac</th>\n",
              "      <th>B02001e8_frac</th>\n",
              "      <th>B03003e3_frac</th>\n",
              "      <th>B03003e2_frac</th>\n",
              "      <th>B15003aa_frac</th>\n",
              "      <th>B15003bb_frac</th>\n",
              "      <th>B15003cc_frac</th>\n",
              "      <th>B15003dd_frac</th>\n",
              "      <th>B15003ee_frac</th>\n",
              "      <th>B19xxx59_frac</th>\n",
              "      <th>B1960x99_frac</th>\n",
              "      <th>B19100xx_frac</th>\n",
              "      <th>cbg_adjust_factor</th>\n",
              "      <th>visitor_count_cbg_adj</th>\n",
              "    </tr>\n",
              "  </thead>\n",
              "  <tbody>\n",
              "    <tr>\n",
              "      <th>0</th>\n",
              "      <td>sg:01ca4f9e01eb4a86b956335d22e0f5e8</td>\n",
              "      <td>68</td>\n",
              "      <td>Walmart</td>\n",
              "      <td>311319669003</td>\n",
              "      <td>149</td>\n",
              "      <td>126</td>\n",
              "      <td>187</td>\n",
              "      <td>823</td>\n",
              "      <td>1395</td>\n",
              "      <td>0</td>\n",
              "      <td>0</td>\n",
              "      <td>0</td>\n",
              "      <td>0</td>\n",
              "      <td>0</td>\n",
              "      <td>7</td>\n",
              "      <td>0</td>\n",
              "      <td>1402</td>\n",
              "      <td>36</td>\n",
              "      <td>444</td>\n",
              "      <td>372</td>\n",
              "      <td>165</td>\n",
              "      <td>49</td>\n",
              "      <td>388</td>\n",
              "      <td>122</td>\n",
              "      <td>85</td>\n",
              "      <td>1402</td>\n",
              "      <td>0.110915</td>\n",
              "      <td>0.164613</td>\n",
              "      <td>0.724472</td>\n",
              "      <td>0.995007</td>\n",
              "      <td>0.0</td>\n",
              "      <td>0.0</td>\n",
              "      <td>0.0</td>\n",
              "      <td>0.0</td>\n",
              "      <td>0.000000</td>\n",
              "      <td>0.004993</td>\n",
              "      <td>0.000000</td>\n",
              "      <td>1.000000</td>\n",
              "      <td>0.033771</td>\n",
              "      <td>0.416510</td>\n",
              "      <td>0.348968</td>\n",
              "      <td>0.154784</td>\n",
              "      <td>0.045966</td>\n",
              "      <td>0.652101</td>\n",
              "      <td>0.205042</td>\n",
              "      <td>0.142857</td>\n",
              "      <td>1.509821</td>\n",
              "      <td>102.667828</td>\n",
              "    </tr>\n",
              "    <tr>\n",
              "      <th>1</th>\n",
              "      <td>sg:46fad790d05d4041a28bb3704c70a4c2</td>\n",
              "      <td>5</td>\n",
              "      <td>Walmart</td>\n",
              "      <td>311319669003</td>\n",
              "      <td>149</td>\n",
              "      <td>126</td>\n",
              "      <td>187</td>\n",
              "      <td>823</td>\n",
              "      <td>1395</td>\n",
              "      <td>0</td>\n",
              "      <td>0</td>\n",
              "      <td>0</td>\n",
              "      <td>0</td>\n",
              "      <td>0</td>\n",
              "      <td>7</td>\n",
              "      <td>0</td>\n",
              "      <td>1402</td>\n",
              "      <td>36</td>\n",
              "      <td>444</td>\n",
              "      <td>372</td>\n",
              "      <td>165</td>\n",
              "      <td>49</td>\n",
              "      <td>388</td>\n",
              "      <td>122</td>\n",
              "      <td>85</td>\n",
              "      <td>1402</td>\n",
              "      <td>0.110915</td>\n",
              "      <td>0.164613</td>\n",
              "      <td>0.724472</td>\n",
              "      <td>0.995007</td>\n",
              "      <td>0.0</td>\n",
              "      <td>0.0</td>\n",
              "      <td>0.0</td>\n",
              "      <td>0.0</td>\n",
              "      <td>0.000000</td>\n",
              "      <td>0.004993</td>\n",
              "      <td>0.000000</td>\n",
              "      <td>1.000000</td>\n",
              "      <td>0.033771</td>\n",
              "      <td>0.416510</td>\n",
              "      <td>0.348968</td>\n",
              "      <td>0.154784</td>\n",
              "      <td>0.045966</td>\n",
              "      <td>0.652101</td>\n",
              "      <td>0.205042</td>\n",
              "      <td>0.142857</td>\n",
              "      <td>1.509821</td>\n",
              "      <td>7.549105</td>\n",
              "    </tr>\n",
              "    <tr>\n",
              "      <th>2</th>\n",
              "      <td>sg:01ca4f9e01eb4a86b956335d22e0f5e8</td>\n",
              "      <td>68</td>\n",
              "      <td>Walmart</td>\n",
              "      <td>311319669001</td>\n",
              "      <td>192</td>\n",
              "      <td>358</td>\n",
              "      <td>365</td>\n",
              "      <td>730</td>\n",
              "      <td>1608</td>\n",
              "      <td>0</td>\n",
              "      <td>0</td>\n",
              "      <td>0</td>\n",
              "      <td>0</td>\n",
              "      <td>40</td>\n",
              "      <td>91</td>\n",
              "      <td>158</td>\n",
              "      <td>1581</td>\n",
              "      <td>123</td>\n",
              "      <td>419</td>\n",
              "      <td>335</td>\n",
              "      <td>213</td>\n",
              "      <td>98</td>\n",
              "      <td>480</td>\n",
              "      <td>190</td>\n",
              "      <td>104</td>\n",
              "      <td>1739</td>\n",
              "      <td>0.246387</td>\n",
              "      <td>0.251204</td>\n",
              "      <td>0.502409</td>\n",
              "      <td>0.924669</td>\n",
              "      <td>0.0</td>\n",
              "      <td>0.0</td>\n",
              "      <td>0.0</td>\n",
              "      <td>0.0</td>\n",
              "      <td>0.023002</td>\n",
              "      <td>0.052329</td>\n",
              "      <td>0.090857</td>\n",
              "      <td>0.909143</td>\n",
              "      <td>0.103535</td>\n",
              "      <td>0.352694</td>\n",
              "      <td>0.281987</td>\n",
              "      <td>0.179293</td>\n",
              "      <td>0.082492</td>\n",
              "      <td>0.620155</td>\n",
              "      <td>0.245478</td>\n",
              "      <td>0.134367</td>\n",
              "      <td>1.453323</td>\n",
              "      <td>98.825947</td>\n",
              "    </tr>\n",
              "    <tr>\n",
              "      <th>3</th>\n",
              "      <td>sg:01ca4f9e01eb4a86b956335d22e0f5e8</td>\n",
              "      <td>59</td>\n",
              "      <td>Walmart</td>\n",
              "      <td>311319666002</td>\n",
              "      <td>143</td>\n",
              "      <td>169</td>\n",
              "      <td>318</td>\n",
              "      <td>459</td>\n",
              "      <td>1106</td>\n",
              "      <td>0</td>\n",
              "      <td>0</td>\n",
              "      <td>0</td>\n",
              "      <td>0</td>\n",
              "      <td>2</td>\n",
              "      <td>53</td>\n",
              "      <td>15</td>\n",
              "      <td>1146</td>\n",
              "      <td>63</td>\n",
              "      <td>287</td>\n",
              "      <td>287</td>\n",
              "      <td>145</td>\n",
              "      <td>57</td>\n",
              "      <td>205</td>\n",
              "      <td>132</td>\n",
              "      <td>114</td>\n",
              "      <td>1161</td>\n",
              "      <td>0.178647</td>\n",
              "      <td>0.336152</td>\n",
              "      <td>0.485201</td>\n",
              "      <td>0.952627</td>\n",
              "      <td>0.0</td>\n",
              "      <td>0.0</td>\n",
              "      <td>0.0</td>\n",
              "      <td>0.0</td>\n",
              "      <td>0.001723</td>\n",
              "      <td>0.045650</td>\n",
              "      <td>0.012920</td>\n",
              "      <td>0.987080</td>\n",
              "      <td>0.075089</td>\n",
              "      <td>0.342074</td>\n",
              "      <td>0.342074</td>\n",
              "      <td>0.172825</td>\n",
              "      <td>0.067938</td>\n",
              "      <td>0.454545</td>\n",
              "      <td>0.292683</td>\n",
              "      <td>0.252772</td>\n",
              "      <td>1.302746</td>\n",
              "      <td>76.862041</td>\n",
              "    </tr>\n",
              "    <tr>\n",
              "      <th>4</th>\n",
              "      <td>sg:17feff40609f47ea9d4d6b6e2f1c3cf8</td>\n",
              "      <td>6</td>\n",
              "      <td>Target</td>\n",
              "      <td>311319666002</td>\n",
              "      <td>143</td>\n",
              "      <td>169</td>\n",
              "      <td>318</td>\n",
              "      <td>459</td>\n",
              "      <td>1106</td>\n",
              "      <td>0</td>\n",
              "      <td>0</td>\n",
              "      <td>0</td>\n",
              "      <td>0</td>\n",
              "      <td>2</td>\n",
              "      <td>53</td>\n",
              "      <td>15</td>\n",
              "      <td>1146</td>\n",
              "      <td>63</td>\n",
              "      <td>287</td>\n",
              "      <td>287</td>\n",
              "      <td>145</td>\n",
              "      <td>57</td>\n",
              "      <td>205</td>\n",
              "      <td>132</td>\n",
              "      <td>114</td>\n",
              "      <td>1161</td>\n",
              "      <td>0.178647</td>\n",
              "      <td>0.336152</td>\n",
              "      <td>0.485201</td>\n",
              "      <td>0.952627</td>\n",
              "      <td>0.0</td>\n",
              "      <td>0.0</td>\n",
              "      <td>0.0</td>\n",
              "      <td>0.0</td>\n",
              "      <td>0.001723</td>\n",
              "      <td>0.045650</td>\n",
              "      <td>0.012920</td>\n",
              "      <td>0.987080</td>\n",
              "      <td>0.075089</td>\n",
              "      <td>0.342074</td>\n",
              "      <td>0.342074</td>\n",
              "      <td>0.172825</td>\n",
              "      <td>0.067938</td>\n",
              "      <td>0.454545</td>\n",
              "      <td>0.292683</td>\n",
              "      <td>0.252772</td>\n",
              "      <td>1.302746</td>\n",
              "      <td>7.816479</td>\n",
              "    </tr>\n",
              "  </tbody>\n",
              "</table>\n",
              "</div>"
            ],
            "text/plain": [
              "                    safegraph_place_id  ...  visitor_count_cbg_adj\n",
              "0  sg:01ca4f9e01eb4a86b956335d22e0f5e8  ...             102.667828\n",
              "1  sg:46fad790d05d4041a28bb3704c70a4c2  ...               7.549105\n",
              "2  sg:01ca4f9e01eb4a86b956335d22e0f5e8  ...              98.825947\n",
              "3  sg:01ca4f9e01eb4a86b956335d22e0f5e8  ...              76.862041\n",
              "4  sg:17feff40609f47ea9d4d6b6e2f1c3cf8  ...               7.816479\n",
              "\n",
              "[5 rows x 48 columns]"
            ]
          },
          "metadata": {
            "tags": []
          },
          "execution_count": 27
        }
      ]
    },
    {
      "cell_type": "markdown",
      "metadata": {
        "id": "r4KgQPlKl2vk",
        "colab_type": "text"
      },
      "source": [
        "As we did in our original example, next we are going to partition out the `visitor_count` in each row to the different demographic segment, according to the fraction of the population reported by the Census.\n",
        "\n",
        "Then we sum within each demographic segment (i.e. column) across all CBGs and safegraph_place_ids (i.e., rows) to produce a grand sum estimate of visitiors from each demographic group to each brand.  "
      ]
    },
    {
      "cell_type": "code",
      "metadata": {
        "id": "tsb43ta0mSuk",
        "colab_type": "code",
        "outputId": "afe6f6b8-95f7-4ca2-e0b5-ee1b9b74be7c",
        "colab": {
          "base_uri": "https://localhost:8080/",
          "height": 472
        }
      },
      "source": [
        "demo_summary = dpf.allocate_sum_wrangle_demos(visitors_join, demos_to_analyze, verbose=True)\n",
        "demo_summary.head(10)"
      ],
      "execution_count": 0,
      "outputs": [
        {
          "output_type": "stream",
          "text": [
            "Allocated counts for Sex By Age. df shape: (557339, 54)\n",
            "Allocated counts for Race. df shape: (557339, 68)\n",
            "Allocated counts for Hispanic Or Latino Origin. df shape: (557339, 72)\n",
            "Allocated counts for Educational Attainment For The Population 25 Years And Over. df shape: (557339, 82)\n",
            "Allocated counts for Aggregate Household Income In The Past 12 Months (In 2016 Inflation-Adjusted Dollars). df shape: (557339, 88)\n",
            "summed data. df shape: (2, 46)\n",
            "wrangled data: df shape: (40, 5)\n"
          ],
          "name": "stdout"
        },
        {
          "output_type": "execute_result",
          "data": {
            "text/html": [
              "<div>\n",
              "<style scoped>\n",
              "    .dataframe tbody tr th:only-of-type {\n",
              "        vertical-align: middle;\n",
              "    }\n",
              "\n",
              "    .dataframe tbody tr th {\n",
              "        vertical-align: top;\n",
              "    }\n",
              "\n",
              "    .dataframe thead th {\n",
              "        text-align: right;\n",
              "    }\n",
              "</style>\n",
              "<table border=\"1\" class=\"dataframe\">\n",
              "  <thead>\n",
              "    <tr style=\"text-align: right;\">\n",
              "      <th></th>\n",
              "      <th>demo_code</th>\n",
              "      <th>visitor_count_D_adj</th>\n",
              "      <th>visitor_count_POP_D_adj</th>\n",
              "      <th>brands</th>\n",
              "      <th>cbg_count</th>\n",
              "    </tr>\n",
              "  </thead>\n",
              "  <tbody>\n",
              "    <tr>\n",
              "      <th>0</th>\n",
              "      <td>B01P1529</td>\n",
              "      <td>612638</td>\n",
              "      <td>861682</td>\n",
              "      <td>Target</td>\n",
              "      <td>162330</td>\n",
              "    </tr>\n",
              "    <tr>\n",
              "      <th>1</th>\n",
              "      <td>B01P3049</td>\n",
              "      <td>819075</td>\n",
              "      <td>1.17985e+06</td>\n",
              "      <td>Target</td>\n",
              "      <td>162330</td>\n",
              "    </tr>\n",
              "    <tr>\n",
              "      <th>2</th>\n",
              "      <td>B01P50ov</td>\n",
              "      <td>974514</td>\n",
              "      <td>1.44118e+06</td>\n",
              "      <td>Target</td>\n",
              "      <td>162330</td>\n",
              "    </tr>\n",
              "    <tr>\n",
              "      <th>3</th>\n",
              "      <td>B02001e2</td>\n",
              "      <td>1.86228e+06</td>\n",
              "      <td>2.68252e+06</td>\n",
              "      <td>Target</td>\n",
              "      <td>162330</td>\n",
              "    </tr>\n",
              "    <tr>\n",
              "      <th>4</th>\n",
              "      <td>B02001e3</td>\n",
              "      <td>204006</td>\n",
              "      <td>275729</td>\n",
              "      <td>Target</td>\n",
              "      <td>162330</td>\n",
              "    </tr>\n",
              "    <tr>\n",
              "      <th>5</th>\n",
              "      <td>B02001e4</td>\n",
              "      <td>12143.9</td>\n",
              "      <td>17947.7</td>\n",
              "      <td>Target</td>\n",
              "      <td>162330</td>\n",
              "    </tr>\n",
              "    <tr>\n",
              "      <th>6</th>\n",
              "      <td>B02001e5</td>\n",
              "      <td>159169</td>\n",
              "      <td>245117</td>\n",
              "      <td>Target</td>\n",
              "      <td>162330</td>\n",
              "    </tr>\n",
              "    <tr>\n",
              "      <th>7</th>\n",
              "      <td>B02001e6</td>\n",
              "      <td>4364.86</td>\n",
              "      <td>7669.94</td>\n",
              "      <td>Target</td>\n",
              "      <td>162330</td>\n",
              "    </tr>\n",
              "    <tr>\n",
              "      <th>8</th>\n",
              "      <td>B02001e7</td>\n",
              "      <td>88323.7</td>\n",
              "      <td>139842</td>\n",
              "      <td>Target</td>\n",
              "      <td>162330</td>\n",
              "    </tr>\n",
              "    <tr>\n",
              "      <th>9</th>\n",
              "      <td>B02001e8</td>\n",
              "      <td>75944.1</td>\n",
              "      <td>113892</td>\n",
              "      <td>Target</td>\n",
              "      <td>162330</td>\n",
              "    </tr>\n",
              "  </tbody>\n",
              "</table>\n",
              "</div>"
            ],
            "text/plain": [
              "  demo_code visitor_count_D_adj visitor_count_POP_D_adj  brands  cbg_count\n",
              "0  B01P1529              612638                  861682  Target     162330\n",
              "1  B01P3049              819075             1.17985e+06  Target     162330\n",
              "2  B01P50ov              974514             1.44118e+06  Target     162330\n",
              "3  B02001e2         1.86228e+06             2.68252e+06  Target     162330\n",
              "4  B02001e3              204006                  275729  Target     162330\n",
              "5  B02001e4             12143.9                 17947.7  Target     162330\n",
              "6  B02001e5              159169                  245117  Target     162330\n",
              "7  B02001e6             4364.86                 7669.94  Target     162330\n",
              "8  B02001e7             88323.7                  139842  Target     162330\n",
              "9  B02001e8             75944.1                  113892  Target     162330"
            ]
          },
          "metadata": {
            "tags": []
          },
          "execution_count": 28
        }
      ]
    },
    {
      "cell_type": "markdown",
      "metadata": {
        "id": "bBUSNkEXmeE3",
        "colab_type": "text"
      },
      "source": [
        "We have now re-shaped the data so that each row represents a unique demographic segment visiting each Brand. These are the columns : \n",
        " \n",
        "* `visitor_count_POP_D_adj` is the sum of the visit count after correcting sampling bias via post-hoc stratified re-weighting as described above in section #1. \n",
        "* `visitor_count_D_adj` is simply a sum of all the counts from individual CBGs _without any stratified re-weighting corrections_. This number is important to keep track of, because it represents exactly what was in our data (before any re-weighting), and therefore is the number we will use to calculate confidence intervals in our final estimate (for now we will ignore confidence intervals, but we will discuss them below in Section #3). \n",
        "* `cbg_counts` is how many unique CBGs we measured data from for this brand. We don't actually use this for anything, but it is a useful reality check. There are over 220,000 CBGs in the US and, according to SafeGraph, devices in 162,330 CBGs visited Target during this time period. \n"
      ]
    },
    {
      "cell_type": "markdown",
      "metadata": {
        "id": "alNjHTNvnRTP",
        "colab_type": "text"
      },
      "source": [
        "----\n",
        "So, finally we just re-normalize the counts in each demographic segment as *percents of total visitors to the brand* and our demographic profile is complete. "
      ]
    },
    {
      "cell_type": "code",
      "metadata": {
        "id": "8gRc6VnEnWZ1",
        "colab_type": "code",
        "outputId": "ab0c80ef-348d-4c16-ce7a-b7a45b4ed469",
        "colab": {
          "base_uri": "https://localhost:8080/",
          "height": 301
        }
      },
      "source": [
        "final_results_ = dpf.get_totals_for_each_brand_and_demo(demo_summary, cbg_field_desc_mod, sample_col = 'visitor_count_POP_D_adj')\n",
        "final_results_ = dpf.convert_cols_to_frac_of_total(final_results_, ['visitor_count_POP_D_adj'], 'visitor_count_POP_D_adj_total')\n",
        "final_results_ = pd.merge(final_results_, cbg_field_desc_mod, left_on = 'demo_code', right_on='table_id').dropna(axis=1,how='all')\n",
        "final_results_.head()"
      ],
      "execution_count": 0,
      "outputs": [
        {
          "output_type": "execute_result",
          "data": {
            "text/html": [
              "<div>\n",
              "<style scoped>\n",
              "    .dataframe tbody tr th:only-of-type {\n",
              "        vertical-align: middle;\n",
              "    }\n",
              "\n",
              "    .dataframe tbody tr th {\n",
              "        vertical-align: top;\n",
              "    }\n",
              "\n",
              "    .dataframe thead th {\n",
              "        text-align: right;\n",
              "    }\n",
              "</style>\n",
              "<table border=\"1\" class=\"dataframe\">\n",
              "  <thead>\n",
              "    <tr style=\"text-align: right;\">\n",
              "      <th></th>\n",
              "      <th>demo_code</th>\n",
              "      <th>visitor_count_D_adj</th>\n",
              "      <th>visitor_count_POP_D_adj</th>\n",
              "      <th>brands</th>\n",
              "      <th>cbg_count</th>\n",
              "      <th>demo_category</th>\n",
              "      <th>visitor_count_POP_D_adj_total</th>\n",
              "      <th>visitor_count_POP_D_adj_rate</th>\n",
              "      <th>field_full_name</th>\n",
              "      <th>field_level_1</th>\n",
              "      <th>field_level_2</th>\n",
              "      <th>field_level_3</th>\n",
              "      <th>table_id</th>\n",
              "    </tr>\n",
              "  </thead>\n",
              "  <tbody>\n",
              "    <tr>\n",
              "      <th>0</th>\n",
              "      <td>B01P1529</td>\n",
              "      <td>612638</td>\n",
              "      <td>861682</td>\n",
              "      <td>Target</td>\n",
              "      <td>162330</td>\n",
              "      <td>Sex By Age</td>\n",
              "      <td>3.482714e+06</td>\n",
              "      <td>0.247417</td>\n",
              "      <td>NaN</td>\n",
              "      <td>Sex By Age</td>\n",
              "      <td>Ages 15-29</td>\n",
              "      <td>Total Population -- (Estimate)</td>\n",
              "      <td>B01P1529</td>\n",
              "    </tr>\n",
              "    <tr>\n",
              "      <th>1</th>\n",
              "      <td>B01P1529</td>\n",
              "      <td>2.14622e+06</td>\n",
              "      <td>3.10931e+06</td>\n",
              "      <td>Walmart</td>\n",
              "      <td>395009</td>\n",
              "      <td>Sex By Age</td>\n",
              "      <td>1.237467e+07</td>\n",
              "      <td>0.251264</td>\n",
              "      <td>NaN</td>\n",
              "      <td>Sex By Age</td>\n",
              "      <td>Ages 15-29</td>\n",
              "      <td>Total Population -- (Estimate)</td>\n",
              "      <td>B01P1529</td>\n",
              "    </tr>\n",
              "    <tr>\n",
              "      <th>2</th>\n",
              "      <td>B01P3049</td>\n",
              "      <td>819075</td>\n",
              "      <td>1.17985e+06</td>\n",
              "      <td>Target</td>\n",
              "      <td>162330</td>\n",
              "      <td>Sex By Age</td>\n",
              "      <td>3.482714e+06</td>\n",
              "      <td>0.338775</td>\n",
              "      <td>NaN</td>\n",
              "      <td>Sex By Age</td>\n",
              "      <td>Ages 30-49</td>\n",
              "      <td>Total Population -- (Estimate)</td>\n",
              "      <td>B01P3049</td>\n",
              "    </tr>\n",
              "    <tr>\n",
              "      <th>3</th>\n",
              "      <td>B01P3049</td>\n",
              "      <td>2.76734e+06</td>\n",
              "      <td>4.05018e+06</td>\n",
              "      <td>Walmart</td>\n",
              "      <td>395009</td>\n",
              "      <td>Sex By Age</td>\n",
              "      <td>1.237467e+07</td>\n",
              "      <td>0.327296</td>\n",
              "      <td>NaN</td>\n",
              "      <td>Sex By Age</td>\n",
              "      <td>Ages 30-49</td>\n",
              "      <td>Total Population -- (Estimate)</td>\n",
              "      <td>B01P3049</td>\n",
              "    </tr>\n",
              "    <tr>\n",
              "      <th>4</th>\n",
              "      <td>B01P50ov</td>\n",
              "      <td>974514</td>\n",
              "      <td>1.44118e+06</td>\n",
              "      <td>Target</td>\n",
              "      <td>162330</td>\n",
              "      <td>Sex By Age</td>\n",
              "      <td>3.482714e+06</td>\n",
              "      <td>0.413809</td>\n",
              "      <td>NaN</td>\n",
              "      <td>Sex By Age</td>\n",
              "      <td>Ages 50 and over</td>\n",
              "      <td>Total Population -- (Estimate)</td>\n",
              "      <td>B01P50ov</td>\n",
              "    </tr>\n",
              "  </tbody>\n",
              "</table>\n",
              "</div>"
            ],
            "text/plain": [
              "  demo_code visitor_count_D_adj  ...                   field_level_3  table_id\n",
              "0  B01P1529              612638  ...  Total Population -- (Estimate)  B01P1529\n",
              "1  B01P1529         2.14622e+06  ...  Total Population -- (Estimate)  B01P1529\n",
              "2  B01P3049              819075  ...  Total Population -- (Estimate)  B01P3049\n",
              "3  B01P3049         2.76734e+06  ...  Total Population -- (Estimate)  B01P3049\n",
              "4  B01P50ov              974514  ...  Total Population -- (Estimate)  B01P50ov\n",
              "\n",
              "[5 rows x 13 columns]"
            ]
          },
          "metadata": {
            "tags": []
          },
          "execution_count": 29
        }
      ]
    },
    {
      "cell_type": "markdown",
      "metadata": {
        "id": "gwKqYmclnmhd",
        "colab_type": "text"
      },
      "source": [
        "Again, each row is a specific demographic segment visiting a specific brand. \n",
        "The column `visitor_count_POP_D_adj_rate` is our estimate of the fraction of visitors to that brand from that demographic segment. \n",
        "\n",
        "For example, the data shows that around 25% (0.247417) of visitors to Target are in the segment `Ages 15-29`. About the same (0.251264) for Walmart. \n",
        "\n",
        "Now let's visualize all of these data as profiles. \n",
        "\n"
      ]
    },
    {
      "cell_type": "markdown",
      "metadata": {
        "id": "XBpgqmbroSe3",
        "colab_type": "text"
      },
      "source": [
        "Below we make one chart for each Demographic dimension (Income, Education, Ethnicity, Race, Age). "
      ]
    },
    {
      "cell_type": "code",
      "metadata": {
        "id": "z_e3PVnioVoa",
        "colab_type": "code",
        "outputId": "72a50bfc-63c7-475c-dd58-6435cbf950e6",
        "colab": {
          "base_uri": "https://localhost:8080/",
          "height": 1000
        }
      },
      "source": [
        "print(\"Figure 3\")\n",
        "for demo in demos_to_analyze[::-1]:\n",
        "    demo_codes = dpf.get_final_table_ids(demo)\n",
        "    data2plot_ = final_results_[final_results_.demo_code.isin(demo_codes)]\n",
        "    dpf.make_demographics_chart(data2plot_, chart_type='stacked_bar', column_to_plot='visitor_count_POP_D_adj_rate', bar_groups='field_level_2', fig_size=[7,7])"
      ],
      "execution_count": 0,
      "outputs": [
        {
          "output_type": "stream",
          "text": [
            "Figure 3\n"
          ],
          "name": "stdout"
        },
        {
          "output_type": "display_data",
          "data": {
            "image/png": "[encoded data removed]",
            "text/plain": [
              "<Figure size 504x504 with 1 Axes>"
            ]
          },
          "metadata": {
            "tags": []
          }
        },
        {
          "output_type": "display_data",
          "data": {
            "image/png": "[encoded data removed]",
            "text/plain": [
              "<Figure size 504x504 with 1 Axes>"
            ]
          },
          "metadata": {
            "tags": []
          }
        },
        {
          "output_type": "display_data",
          "data": {
            "image/png": "[encoded data removed]",
            "text/plain": [
              "<Figure size 504x504 with 1 Axes>"
            ]
          },
          "metadata": {
            "tags": []
          }
        },
        {
          "output_type": "display_data",
          "data": {
            "image/png": "[encoded data removed]",
            "text/plain": [
              "<Figure size 504x504 with 1 Axes>"
            ]
          },
          "metadata": {
            "tags": []
          }
        },
        {
          "output_type": "display_data",
          "data": {
            "image/png": "[encoded data removed]",
            "text/plain": [
              "<Figure size 504x504 with 1 Axes>"
            ]
          },
          "metadata": {
            "tags": []
          }
        }
      ]
    },
    {
      "cell_type": "markdown",
      "metadata": {
        "id": "iqEqs1PQof6z",
        "colab_type": "text"
      },
      "source": [
        "The above charts (Figure 3) show that the customer demographics of Target and Walmart are very similar in terms of Age groups & Hispanic Ethnicity. \n",
        "\n",
        "However, there are some interesting differences. Compared to Walmart customers, Target customers are:\n",
        "* More likely to have a higher income\n",
        "* More likely to have a higher education level\n",
        "* More likely to be Asian and \n",
        "* Less likely to be African American Or Black\n",
        "\n",
        "If you want to play around with this analysis more, we built a [streamlined stand-alone workbook](https://colab.research.google.com/drive/13BmucZMu0-UFNnVKoJP4ZuJpGNyQXLln#offline=true&sandboxMode=true) in which you can analyze these Demographics for any brand in the US. \n"
      ]
    },
    {
      "cell_type": "markdown",
      "metadata": {
        "id": "xZ168geGpDVZ",
        "colab_type": "text"
      },
      "source": [
        "# \\#3 Quantifying Statistical Certainty\n",
        "\n",
        "We now can analyze multiple demographic dimensions across multiple brands with relative ease!\n",
        "\n",
        "There are a few steps, but we've bundled them all into a master wrapper function which you can use in a standalone notebook here: [Workbook to Analyze Demographic Profiles from SafeGraph Patterns Data](https://colab.research.google.com/drive/13BmucZMu0-UFNnVKoJP4ZuJpGNyQXLln#offline=true&sandboxMode=true) . Try it out!\n",
        "\n",
        "We have one remaining technical challenge to discuss: statistical certainty.  \n",
        "\n",
        "\n",
        "\n",
        "## As sample sizes get smaller, statistics becomes more important\n",
        "\n",
        "To motivate the need for incorporating statistics into our analysis, let's consider the following question from a skeptical consumer of SafeGraph Patterns data. \"OK, in Figure 3 we showed that Target customers have a higher probability of being in a high income group compared to Walmart customers. That's interesting, but is that just because Target's stores are located in wealthier neighborhoods?\" \n",
        "\n",
        "There are multiple ways to approach this question. One simple way is to analyze the customer demographics for a ***single*** Target and a ***single*** Walmart co-located in close proximity. In other words, we ask:\n",
        "\n",
        "**When the Target and Walmart are located in the neighborhood, are Target customers still more likely to be in higher income groups than Walmart customers?**\n",
        "\n",
        "Let's answer this super interesting question. \n",
        "\n",
        "When analyzing customer demographics at the national level for major brands with many locations, we are aggregating over many thousands (or 10,000s or 100,000s) of census block groups. We haven't actually calculated this yet, but this turns out to give us immense statistical power. \n",
        "\n",
        "However, now we are going to analyze data for a ***single*** Target location and a ***single*** Walmart location. Intuitively, collecting data from a smaller sample size probably means we are going to be more vulnerable to statistical noise and less confident in our estimates. \n",
        "\n",
        "**So, how do we know whether the results we see are real or just statistical noise?**\n"
      ]
    },
    {
      "cell_type": "markdown",
      "metadata": {
        "id": "bPw2mYyVqnPB",
        "colab_type": "text"
      },
      "source": [
        "## Just tell me the answer (Statistics Summary)\n",
        "\n",
        "1. We model each individual data point as a random draw from a Poisson distribution with some unknown rate $\\lambda$. \n",
        "2. When we sum together all individual data points, the sum of Poissons is a new Poisson with mean and variance equal to the sum of its components.\n",
        "3. We use the Normal Approximation of a Poisson to estimate confidence intervals around our estimate of the mean.\n",
        "4. We model each demographic segment independently, and we apply the post-hoc stratified re-weighting to our estimate of the mean (and its confidence interval) for each segment. Extrapolating also widens our confidence intervals, but luckily the [SafeGraph dataset is well sampled](https://blog.safegraph.com/what-about-bias-in-the-safegraph-dataset?utm_source=content&utm_medium=referral&utm_campaign=colabnotebook&utm_content=demo_profile_teachernotebook), so adjustments are minor. \n",
        "5. We divide each estimate and confidence interval by total visitors to visualize data as a percent of total visitors. \n",
        "\n",
        "\n"
      ]
    },
    {
      "cell_type": "markdown",
      "metadata": {
        "id": "R_EvM0zhQw6w",
        "colab_type": "text"
      },
      "source": [
        "This approach allows us to incorporate rigorous confidence intervals into our visualization (we use 95% confidence intervals). \n",
        "\n",
        "\n",
        "First, let's re-plot Income Demographics for Target and Walmart when aggregating *all* locations. \n",
        "\n",
        "I will take this opportunity to highlight the master wrapper function `master_demo_analysis()` which will re-compute the entire analysis from scratch, this time incorporating the confidence intervals. \n",
        "\n"
      ]
    },
    {
      "cell_type": "code",
      "metadata": {
        "id": "3Qtv4GllQu5Y",
        "colab_type": "code",
        "outputId": "dce8bc55-9f62-41e2-d722-78d4df6057f5",
        "colab": {
          "base_uri": "https://localhost:8080/",
          "height": 52
        }
      },
      "source": [
        "%%time\n",
        "brands_list = ['Walmart', 'Target']\n",
        "demos_to_analyze_2 = ['Aggregate Household Income In The Past 12 Months (In 2016 Inflation-Adjusted Dollars)']\n",
        "visitors_join_2, final_results_2 = dpf.master_demo_analysis(None, \n",
        "                                                        None, \n",
        "                                                        drive,\n",
        "                                                        demos_to_analyze_2,\n",
        "                                                        brands_list, \n",
        "                                                        None, \n",
        "                                                        verbose=False)"
      ],
      "execution_count": 0,
      "outputs": [
        {
          "output_type": "stream",
          "text": [
            "CPU times: user 52.1 s, sys: 4.34 s, total: 56.5 s\n",
            "Wall time: 1min 4s\n"
          ],
          "name": "stdout"
        }
      ]
    },
    {
      "cell_type": "markdown",
      "metadata": {
        "id": "PcsjM7NhSf68",
        "colab_type": "text"
      },
      "source": [
        "Now we plot the confidence intervals using `show_error` = `True`, which shows 95% confidence intervals around the estimate of the mean."
      ]
    },
    {
      "cell_type": "code",
      "metadata": {
        "id": "yQkLSwBwfEt7",
        "colab_type": "code",
        "outputId": "75a1424d-9c16-4f1e-9a6e-6f2ee0afa05d",
        "colab": {
          "base_uri": "https://localhost:8080/",
          "height": 34
        }
      },
      "source": [
        "demos_to_analyze_2[0]"
      ],
      "execution_count": 0,
      "outputs": [
        {
          "output_type": "execute_result",
          "data": {
            "text/plain": [
              "'Aggregate Household Income In The Past 12 Months (In 2016 Inflation-Adjusted Dollars)'"
            ]
          },
          "metadata": {
            "tags": []
          },
          "execution_count": 32
        }
      ]
    },
    {
      "cell_type": "code",
      "metadata": {
        "id": "2WgqEoUKSk2g",
        "colab_type": "code",
        "outputId": "9dba135b-2730-4b63-8f52-7a879d2cf3b6",
        "colab": {
          "base_uri": "https://localhost:8080/",
          "height": 527
        }
      },
      "source": [
        "print(\"Figure 4\")\n",
        "income_demo_ = 'Aggregate Household Income In The Past 12 Months (In 2016 Inflation-Adjusted Dollars)'\n",
        "data2plot_2 = final_results_2[final_results_2.demo_code.isin(dpf.get_final_table_ids(income_demo_))]\n",
        "dpf.make_demographics_chart(data2plot_2, chart_type='stacked_bar', show_error=True, fig_size=[7,7])"
      ],
      "execution_count": 0,
      "outputs": [
        {
          "output_type": "stream",
          "text": [
            "Figure 4\n"
          ],
          "name": "stdout"
        },
        {
          "output_type": "display_data",
          "data": {
            "image/png": "[encoded data removed]",
            "text/plain": [
              "<Figure size 504x504 with 1 Axes>"
            ]
          },
          "metadata": {
            "tags": []
          }
        }
      ]
    },
    {
      "cell_type": "code",
      "metadata": {
        "id": "QVauQrR-S4yC",
        "colab_type": "code",
        "outputId": "7a94775e-1d01-41b0-f1a4-70e8fa6b6e9c",
        "colab": {
          "base_uri": "https://localhost:8080/",
          "height": 107
        }
      },
      "source": [
        "final_results_2[['brands', 'cbg_count']].drop_duplicates()"
      ],
      "execution_count": 0,
      "outputs": [
        {
          "output_type": "execute_result",
          "data": {
            "text/html": [
              "<div>\n",
              "<style scoped>\n",
              "    .dataframe tbody tr th:only-of-type {\n",
              "        vertical-align: middle;\n",
              "    }\n",
              "\n",
              "    .dataframe tbody tr th {\n",
              "        vertical-align: top;\n",
              "    }\n",
              "\n",
              "    .dataframe thead th {\n",
              "        text-align: right;\n",
              "    }\n",
              "</style>\n",
              "<table border=\"1\" class=\"dataframe\">\n",
              "  <thead>\n",
              "    <tr style=\"text-align: right;\">\n",
              "      <th></th>\n",
              "      <th>brands</th>\n",
              "      <th>cbg_count</th>\n",
              "    </tr>\n",
              "  </thead>\n",
              "  <tbody>\n",
              "    <tr>\n",
              "      <th>0</th>\n",
              "      <td>Target</td>\n",
              "      <td>162330</td>\n",
              "    </tr>\n",
              "    <tr>\n",
              "      <th>1</th>\n",
              "      <td>Walmart</td>\n",
              "      <td>395009</td>\n",
              "    </tr>\n",
              "  </tbody>\n",
              "</table>\n",
              "</div>"
            ],
            "text/plain": [
              "    brands  cbg_count\n",
              "0   Target     162330\n",
              "1  Walmart     395009"
            ]
          },
          "metadata": {
            "tags": []
          },
          "execution_count": 34
        }
      ]
    },
    {
      "cell_type": "markdown",
      "metadata": {
        "id": "OJj2gjIPS4j4",
        "colab_type": "text"
      },
      "source": [
        "In Figure 4, the error bars show 95% confidence intervals of our estimate of the relative fraction of each demographic segment. You can barely see the confidence intervals, because they are very small. Because our sample size is so large (we measured over 160,000 unique POI-CBG pairs for Target and almost 400,000 POI-CBG pairs for Walmart), we are very confident in our estimate of these rates.\n",
        "\n",
        "Although each individual measurement is a noisy Poisson with a low rate, summing together 100,000s of small noisy measurements produces a very large number with very little noise in our estimate of the mean."
      ]
    },
    {
      "cell_type": "markdown",
      "metadata": {
        "id": "mk-6RAtlTw98",
        "colab_type": "text"
      },
      "source": [
        "## Visualizations with Confidence Intervals\n",
        "\n",
        "Our motivating example for looking at statistics was the following question:\n",
        "\n",
        "**When a single Target and Walmart are located in the same neighborhood, are Target customers still more likely to be in higher income groups than Walmart customers?**\n",
        "\n",
        "We can specify an individual location of Target and Walmart using the variable `safegraph_place_id_whitelist`."
      ]
    },
    {
      "cell_type": "code",
      "metadata": {
        "id": "7WLb9LygUPag",
        "colab_type": "code",
        "outputId": "bc1b22c9-58f0-4154-f6cd-219c204812e7",
        "colab": {
          "base_uri": "https://localhost:8080/",
          "height": 70
        }
      },
      "source": [
        "%%time\n",
        "safegraph_place_id_whitelist = ['sg:08a06860e8ec49b0b4cc9d74d8042b06', 'sg:ea46efc2e7744380b1fb1e84491411ed']\n",
        "brands_list = ['Walmart', 'Target']\n",
        "demographic_options = {'Sex By Age': True,\n",
        "                         'Race' : True,\n",
        "                         'Hispanic Or Latino Origin': True,\n",
        "                         'Educational Attainment For The Population 25 Years And Over': True, \n",
        "                         'Aggregate Household Income In The Past 12 Months (In 2016 Inflation-Adjusted Dollars)': True\n",
        "                        }\n",
        "###################\n",
        "print(\"This will take about 60 seconds.\")\n",
        "demos_to_analyze = [demo for demo, to_use in demographic_options.items() if to_use]\n",
        "visitors_join, final_results = dpf.master_demo_analysis(None, \n",
        "                                                    None, \n",
        "                                                    drive,\n",
        "                                                    demos_to_analyze,\n",
        "                                                    brands_list, \n",
        "                                                    safegraph_place_id_whitelist, \n",
        "                                                    verbose=False)\n"
      ],
      "execution_count": 0,
      "outputs": [
        {
          "output_type": "stream",
          "text": [
            "This will take about 60 seconds.\n",
            "CPU times: user 46.7 s, sys: 10.8 s, total: 57.5 s\n",
            "Wall time: 1min 11s\n"
          ],
          "name": "stdout"
        }
      ]
    },
    {
      "cell_type": "code",
      "metadata": {
        "id": "Qn20ddepUnL-",
        "colab_type": "code",
        "outputId": "8e660685-5a46-482c-b1d8-9a807c6a4d1c",
        "colab": {
          "base_uri": "https://localhost:8080/",
          "height": 1000
        }
      },
      "source": [
        "print(\"Figure 5\")\n",
        "for demo in demos_to_analyze[::-1]:\n",
        "    demo_codes = dpf.get_final_table_ids(demo)\n",
        "    data2plot_ = final_results[final_results.demo_code.isin(demo_codes)]\n",
        "    dpf.make_demographics_chart(data2plot_,  chart_type='stacked_bar', show_error=True, fig_size=[8,8])"
      ],
      "execution_count": 0,
      "outputs": [
        {
          "output_type": "stream",
          "text": [
            "Figure 5\n"
          ],
          "name": "stdout"
        },
        {
          "output_type": "display_data",
          "data": {
            "image/png": "[encoded data removed]",
            "text/plain": [
              "<Figure size 576x576 with 1 Axes>"
            ]
          },
          "metadata": {
            "tags": []
          }
        },
        {
          "output_type": "display_data",
          "data": {
            "image/png": "[encoded data removed]",
            "text/plain": [
              "<Figure size 576x576 with 1 Axes>"
            ]
          },
          "metadata": {
            "tags": []
          }
        },
        {
          "output_type": "display_data",
          "data": {
            "image/png": "[encoded data removed]",
            "text/plain": [
              "<Figure size 576x576 with 1 Axes>"
            ]
          },
          "metadata": {
            "tags": []
          }
        },
        {
          "output_type": "display_data",
          "data": {
            "image/png": "[encoded data removed]",
            "text/plain": [
              "<Figure size 576x576 with 1 Axes>"
            ]
          },
          "metadata": {
            "tags": []
          }
        },
        {
          "output_type": "display_data",
          "data": {
            "image/png": "[encoded data removed]",
            "text/plain": [
              "<Figure size 576x576 with 1 Axes>"
            ]
          },
          "metadata": {
            "tags": []
          }
        }
      ]
    },
    {
      "cell_type": "code",
      "metadata": {
        "id": "o1E3YP38V6-i",
        "colab_type": "code",
        "outputId": "9d3b32a9-79e5-42ef-8d6d-c4fb6e5a351f",
        "colab": {
          "base_uri": "https://localhost:8080/",
          "height": 107
        }
      },
      "source": [
        "final_results[['brands', 'cbg_count']].drop_duplicates()"
      ],
      "execution_count": 0,
      "outputs": [
        {
          "output_type": "execute_result",
          "data": {
            "text/html": [
              "<div>\n",
              "<style scoped>\n",
              "    .dataframe tbody tr th:only-of-type {\n",
              "        vertical-align: middle;\n",
              "    }\n",
              "\n",
              "    .dataframe tbody tr th {\n",
              "        vertical-align: top;\n",
              "    }\n",
              "\n",
              "    .dataframe thead th {\n",
              "        text-align: right;\n",
              "    }\n",
              "</style>\n",
              "<table border=\"1\" class=\"dataframe\">\n",
              "  <thead>\n",
              "    <tr style=\"text-align: right;\">\n",
              "      <th></th>\n",
              "      <th>brands</th>\n",
              "      <th>cbg_count</th>\n",
              "    </tr>\n",
              "  </thead>\n",
              "  <tbody>\n",
              "    <tr>\n",
              "      <th>0</th>\n",
              "      <td>Target</td>\n",
              "      <td>66</td>\n",
              "    </tr>\n",
              "    <tr>\n",
              "      <th>1</th>\n",
              "      <td>Walmart</td>\n",
              "      <td>133</td>\n",
              "    </tr>\n",
              "  </tbody>\n",
              "</table>\n",
              "</div>"
            ],
            "text/plain": [
              "    brands  cbg_count\n",
              "0   Target         66\n",
              "1  Walmart        133"
            ]
          },
          "metadata": {
            "tags": []
          },
          "execution_count": 37
        }
      ]
    },
    {
      "cell_type": "markdown",
      "metadata": {
        "id": "gj-82aj5S4hT",
        "colab_type": "text"
      },
      "source": [
        "In Figure 5, the error bars show 95% confidence intervals of our estimate of the relative fraction of each demographic segment.\n",
        "\n",
        "Compared to the national analysis (Figure 4), the estimates are much less certain (wider confidence intervals). This makes sense, because our data sample is much smaller (only 66 CBGs for Target and 133 CBGs for Walmart, compared to the 100,000s at the national level). \n",
        "\n",
        "Nonetheless, it is exciting to receive a rigorous answer to our motivating question. \n",
        "\n",
        "**When a single Target and Walmart are located in the same neighborhood, are Target customers still more likely to be in higher income groups than Walmart customers?**\n",
        "\n",
        "For this specific Target and specific Walmart, the answer is yes. There is a separation in the confidence intervals for the low and high income groups between the two brands, showing that this observed differences between the brands are unlikely to be a result of random chance. This shows that SafeGraph patterns can be used to make statistically meaningful demographic profiles even at the level of individual POI. \n"
      ]
    },
    {
      "cell_type": "markdown",
      "metadata": {
        "id": "35iLcqdOQz9T",
        "colab_type": "text"
      },
      "source": [
        "-----\n",
        "If you want to understand exactly how these confidence intervals are calculated, I explain the full data model in detail, below. "
      ]
    },
    {
      "cell_type": "markdown",
      "metadata": {
        "id": "iNhwnVYGr8IO",
        "colab_type": "text"
      },
      "source": [
        "## 3.1 We model each data point as a random draw from a unique Poisson distribution. \n",
        "\n",
        "To make statistical statements about our confidence or uncertainty, we need to decide how to model the data. \n",
        "Our data is interesting because the individual measurements go through a few transformations and aggregations, which impacts the expected variance of our final measurement. \n",
        "\n",
        "Let's start at the beginning, and walk through all of our data transformations to get to the demographic profile. \n",
        "\n",
        "The raw data consists of measurements of many `census_block_group`s (CBGs) and many points-of-interest (POI)s (`safegraph_place_id`s). \n",
        "\n",
        "For each CBG-POI pair, we have a count of visitors from that particular CBG<sub>i</sub> to a particular POI<sub>j</sub>, which we can model as a random draw from a [Poisson distribution](https://en.wikipedia.org/wiki/Poisson_distribution). \n",
        "\n",
        "$N_{i, j} \\sim Poisson(\\lambda_{i,j})$\n",
        "\n",
        "\n",
        "\n",
        "Where $\\lambda_{i,j}$ is the (unknown) rate parameter representing, on average, how many visitors in the SafeGraph dataset with the home CBG<sub>i</sub> will visit the particular POI<sub>j</sub> in one month.  \n",
        "\n",
        "<img src=\"https://upload.wikimedia.org/wikipedia/commons/thumb/1/16/Poisson_pmf.svg/325px-Poisson_pmf.svg.png\" alt=\"Example Poisson Distributions\" ALIGN=\"middle\" width=300>\n",
        "\n",
        "\n",
        "Then, we allocate this measurement of $N$ visitors into different $k$ demographic segments (e.g. `Hispanic Or Latino Origin` or `Not Hispanic Or Latino Origin`).\n",
        "\n",
        "If we have $N$ visitors from CBG<sub>i</sub> and, on average, $p$ fraction of them are `Hispanic Or Latino Origin`, then the number of `Hispanic Or Latino Origin` is described by a [Binomial](https://en.wikipedia.org/wiki/Binomial) random variable. We know $p$ from the Census (i.e., what is the true fraction of `Hispanic Or Latino Origin` in CBG<sub>i</sub>). So we can model this allocation as a binomial process where each visitor (of $N_{i, j}$ visitors) has a certain probability $p$ of being allocated to demographic segment $k$.\n",
        "\n",
        "$$DemoVisitors_{i, j, k} \\sim Binomial(N_{i, j}, p_{i, k})$$\n",
        "\n",
        "Where $DemoVisitors_{i, j, k}$ is the number of visitors from CBG<sub>i</sub> visiting POI<sub>j</sub> belonging to Demo_Segment<sub>k</sub>. \n",
        "\n",
        "$p_{i, k}$ is the fraction of residents in CBG<sub>i</sub> belonging to Demo_Segment<sub>k</sub> (e.g., 0.15), which we know from the Census. \n",
        "\n",
        "However, $DemoVisitors$ will **not** strictly behave as a true binomial random variable. That's because its parameter ($N$) is *itself* a random variable (not a fixed value). This makes $DemoVisitors$ a [compound distribution](https://en.wikipedia.org/wiki/Compound_probability_distribution). Nonetheless, choosing this model is convenient because this particular compound distribution turns out itself to be mathematically equivalent to yet a new Poisson distribution (See [stats.stackexchange](https://stats.stackexchange.com/questions/159225/variance-of-compound-distribution/161779#161779) for some discussion), and for simulations see these simulations. \n",
        "\n",
        "So to recap this logic: \n",
        "\n",
        "If $N \\sim Poisson(\\lambda)$ $\\,\\,$ then, $\\,\\,$ $Binomial(N, p) = Poisson(\\lambda * p)$\n",
        "\n",
        "Therefore,\n",
        "\n",
        "$DemoVisitors_{i, j, k} \\sim Poisson(\\lambda_{i,j} * p_{i, k})$\n",
        "\n",
        "$DemoVisitors_{i, j, k}$ having $mean$ = $variance$ = $\\lambda_{i,j} * p_{i, k}$.\n",
        "\n",
        "$DemoVisitors$ is our measurement of how many people of a specific demographic segment, from a specific CBG visited a specific POI. The fact that we can model $DemoVisitors$ as a simple Poisson distribution is extremely convenient, because Poisson distributions are familiar statistical territory. \n",
        "\n",
        "\n"
      ]
    },
    {
      "cell_type": "markdown",
      "metadata": {
        "id": "jpCSpKg9ZzyF",
        "colab_type": "text"
      },
      "source": [
        "\n",
        "----\n",
        "\n",
        "Fine print: Let's document some key assumptions made in the data model so far. \n",
        "1. We assume that all CBGs are independent measurements. We are not assuming that each measurement from each CBG is a random draw from *the same* Poisson distribution, rather each CBG is its own independent Poisson. It is totally possible that CBG 1 has a very high rate of visitors while CBG 2 has a very low rate of visitors. This is a convenient and conservative assumption of the model. \n",
        "2. We assume that, ***within each CBG*** the SafeGraph data sample is randomly distributed. This is a nuanced point. If we are under-indexed overall on CBG 1 relative to CBG 2, this is a geographic sampling bias that we correct via post-hoc stratified re-weighting (as described in Section 3.1, above). However, if we are over-indexed on Demographic Segment 1 relative to Demographic Segment 2 ***within*** CBG 1, we unfortunately have no way to measure that or correct for it. However, given that (i) diversity within CBGs is usually less than across CBGs and (ii) the dataset is [relatively well sampled across demographic segments when inferred from CBGs](https://blog.safegraph.com/what-about-bias-in-the-safegraph-dataset?utm_source=content&utm_medium=referral&utm_campaign=colabnotebook&utm_content=demo_profile_teachernotebook), this is probably an OK assumption. \n",
        "3. In reality we know that a person cannot simultaneously belong to > 1 demographic segment (i.e., a person cannot be both `Hispanic Or Latino Origin` ***and*** `Not Hispanic Or Latino Origin`). However, for simplicity we model each segment independently and treat membership into each segment as its own independent weighted coin flip. This actually hurts (widens) our confidence estimate, because we are throwing away some information, but it makes the math much easier. So this assumption is a conservative assumption for the sake of model simplicity.  "
      ]
    },
    {
      "cell_type": "markdown",
      "metadata": {
        "id": "jBC2YFNAwxRk",
        "colab_type": "text"
      },
      "source": [
        "---\n",
        "OK, we have a solid model for all of our individual data points. \n",
        "\n",
        "To get to our final results, we take three additional steps: (i) Sum (ii) Calculate Confidence Intervals (iii) Correct Bias. "
      ]
    },
    {
      "cell_type": "markdown",
      "metadata": {
        "id": "GfscVpjIwnKZ",
        "colab_type": "text"
      },
      "source": [
        "## 3.2 A sum of Poissons is a Poisson\n",
        "\n",
        "#### Sum Across All POI and CBGs\n",
        "\n",
        "For each Brand (e.g. `Walmart`) and each demographic_segment<sub>k</sub> (e.g. `Hispanic Or Latino Origin`) we need to sum across all $J$ CBGs and $I$ POIs to get a total count of visitors from Demo_Segment<sub>k</sub> (e.g., `Hispanic`). Our motivating example is to compare a *single* location of Target and a *single* location of Walmart, so in that case $I_{Walmart} = I_{Target} = 1$, but earlier we analyzed thousands of locations in the USA, so the actual number of stores in your analysis will depend on your question.\n",
        "\n",
        "$$DemoVisitors_{k} = \\sum_{j=1}^{J} \\sum_{i=1}^{I} DemoVisitors_{i, j, k} $$\n",
        "\n",
        "\n",
        "Since, each $DemoVisitors_{i, j, k}$ is a poisson random variable, then $DemoVisitors_{k}$ is a sum of many poisson random variables. The [sum of poissons is itself a poisson](https://math.stackexchange.com/questions/221078/poisson-distribution-of-sum-of-two-random-independent-variables-x-y). \n",
        "\n",
        "What this means is that even though we calculate $DemoVisitors_{k}$ by summing over many individual lambda_{i, j, k}, for the purposes of quantifying uncertainty,  $DemoVisitors_{k}$ can be modeled as a random draw from a single Poisson distribution with mean $\\lambda_{k}$.\n",
        "\n",
        "$$DemoVisitors_{k} \\sim Poisson(\\lambda_{k})$$\n",
        "\n",
        "Where\n",
        "\n",
        "$$ \\lambda_{k} = \\sum_{j=1}^{J} \\sum_{i=1}^{I} \\lambda_{i, j, k} $$\n",
        "\n",
        "$\\lambda_{k}$ is the grand sum of all individual $\\lambda_{i, j, k}$ (the individual rate parameters for visitors of CBG<sub>i</sub> belonging to Demo_Segment<sub>k</sub> visiting POI<sub>j</sub>).\n",
        "\n",
        "Our estimate of $\\lambda_{k}$ is the estimate for which we want to quantify our uncertainty. This is our estimate of how many people of Demo_Segment<sub>k</sub> visited this brand."
      ]
    },
    {
      "cell_type": "markdown",
      "metadata": {
        "id": "4WKAJC9a-JRa",
        "colab_type": "text"
      },
      "source": [
        "## 3.3 Use the Normal Approximation to Calculate Confidence Intervals\n",
        "\n",
        "The whole point of this is that we want to quantify our uncertainty about our estimate of this Poisson rate $\\lambda_k$ for each demographic segment $k$.\n",
        "\n",
        "Although our individual CBG measurements may be small, aggregated together the sums are usually large (i.e. > 100) and we can comfortably use a [normal approximation](https://en.wikipedia.org/wiki/Poisson_distribution#Related_distributions) to approximate $Poisson(\\lambda_{k})$ as $Normal(\\lambda_{k}, \\sqrt{\\lambda_{k}})$. Methods to obtain confidence intervals of your estimate of $\\lambda_{k}$ in such cases are well documented.  For more details see [stats.stackexchange](https://stats.stackexchange.com/questions/83283/normal-approximation-to-the-poisson-distribution) and [onbiostatisics](http://onbiostatistics.blogspot.com/2014/03/computing-confidence-interval-for.html). \n",
        "\n",
        "(Also, confidence intervals are confusing and controversial, but if you want to understand more about what confidence intervals mean, [start here](https://www.quora.com/What-is-the-difference-between-frequentist-confidence-intervals-and-Bayesian-credible-intervals)). \n",
        "\n",
        "The takeaway is that we can calculate confidence intervals for a normal distribution with $\\mu = \\lambda$ and $\\sigma = \\sqrt{\\lambda}$. \n",
        "\n",
        "In our visualizations we show 95% confidence intervals around the estimate of the mean. \n",
        "\n",
        "If your sums are very small (i.e. < 100), and the normal approximation may not be reasonable, then you should consider calculating confidence intervals using the [exact method](http://onbiostatistics.blogspot.com/2014/03/computing-confidence-interval-for.html). For an implementation in python see [netwon.cx](https://newton.cx/~peter/2012/06/poisson-distribution-confidence-intervals/)."
      ]
    },
    {
      "cell_type": "markdown",
      "metadata": {
        "id": "GTwZdRFi-7-S",
        "colab_type": "text"
      },
      "source": [
        "## 3.4 Correct For Geographic Sampling bias via Post-hoc Stratified Re-weighting\n",
        "\n",
        "The last step is to correct for geographic sampling biases in our data collection. As discussed above in Section 1 and in other posts, we know [there may be some sampling bias in our data samples](https://www.safegraph.com/blog/what-about-bias-in-the-safegraph-dataset?utm_source=content&utm_medium=referral&utm_campaign=colabnotebook&utm_content=demo_profile_teachernotebook), and we need to apply post-hoc stratified re-weighting to correct for it. \n",
        "\n",
        "We have computed a re-weighting factor for every Demo_Segment<sub>k</sub>, and we multiply both our estimate of the mean and our confidence interval by this re-weighting factor. If SafeGraph is very under-indexed on a sub-group, then the re-weighting factor will be large, and, accordingly it will expand our confidence intervals by a large amount. If you multiply a distribution by a constant $C$, then you multiply the variance of that distribution by $C^2$. \n",
        "\n",
        "If you are paying attention, you may have noticed that we have done something a bit sneaky. When I explained how to do post-hoc stratified re-weighting in Section 1, I explained how we calculate the re-weighting adjustment factor for each individual CBG, based on the Census data,  and *then multiply the CBG visitor count by the re-weighting factor*. Each CBG is its own group (i.e., stratum), and this is a geographic-based sampling correction. In other words, I said that we apply the correction at the level of each individual CBG. But now I am explaining that we are applying re-weighting ***after*** summing together all of these CBGs on each Demo_Segment. Why are we doing this differently than before? And how does it work? \n",
        "\n",
        "\n",
        "##### **Why is it different? Why do we correct sampling bias after summing instead of before?**\n",
        "\n",
        "The necessity of doing the correction ***after*** summing is for statistics. When you multiply a Poisson random variable by a constant, the result is [no longer a Poisson random variable](https://math.stackexchange.com/questions/746760/prove-that-a-constant-multiplied-by-a-poisson-random-variable-is-not-poisson). If the individual measurements are not Poisson random variables, then their sum is no longer a Poisson random variable, which means we no longer know how to model the variance of their sum. \n",
        "\n",
        "This is a problem because if we don't know how to model the variance of the sum, then we don't know how to build confidence intervals around our sum. The post-hoc stratified re-weighting correction expands our confidence intervals (we are extrapolating and that means less certainty) If we want to know exactly how much our confidence intervals change, then we need a mathematically rigorous model of the variance of our measurements.  \n",
        "\n",
        "##### **How does it work? How can we apply geographic-level corrections after we have summed all the geographies together?**\n",
        "\n",
        "Essentially, we calculate our biases for each CBG, and sum these biases together across CBGs, grouping them by each individual demographic segment. When we apply the correction after summing, we are technically correcting at the level of demographic segments, rather than the level of individual census block groups*. However, the demographic segments are really just a different basis of the same data (we mapped from CBGs to Demographic segments via the Census), so they really are just two different views on the same dataset. Whether you apply the correction on the individual CBG-level data before summing, or on the demographic segment after summing, it's the same correction, and you get the same corrected estimate of the mean in either case. The only difference is that in the latter, you have a rigorous model of the variance of your estimate from which you can calculate confidence intervals, whereas in the former, you don't. If you want to see the calculation of the adjustment factor for a demographic segment or want to dig into how the math works, [here is an example using a simple toy example](https://colab.research.google.com/drive/1GDhVyqpDjxxokXOmWcupLeS6dD7D1WzB).\n",
        "\n",
        "\\* *The adjustment factor for the demographic segment is essentially a ratio of the weighted sums of the corrected cbg-level counts for that segment :: weighted sums of uncorrected cbg-level counts for that segment.*\n",
        "\n"
      ]
    },
    {
      "cell_type": "markdown",
      "metadata": {
        "id": "agl2msV4amU-",
        "colab_type": "text"
      },
      "source": [
        "# Summary\n",
        "\n",
        "Here we've shown how to use SafeGraph Patterns data to build statistically and methodologically rigorous demographic profiles for brands and individual points-of-interest. \n",
        "\n",
        "* We defined a demographic profile through a simple example of a single Walmart store. \n",
        "* We explained the 3 major technical challenges: \n",
        "  * Measuring and Correcting Sampling Bias\n",
        "  * Wrangling Census Data\n",
        "  * Quantifying Statistical Certainty\n",
        "* We explained how to overcome these technical challenges one by one in detail. \n",
        "* We also produced a robust set of re-usable code, available in the stand alone [Workbook to Analyze Demographic Profiles from SafeGraph Patterns Data](https://colab.research.google.com/drive/13BmucZMu0-UFNnVKoJP4ZuJpGNyQXLln#offline=true&sandboxMode=true) . Try it out!\n",
        "  * You can use this workbook to analyze *any* brand or POI in the USA. \n",
        "  * To get the Patterns data, you can use the coupon code `AnalyzeDemographics` for $200 of free data at the [The SafeGraph Data Bar](https://shop.safegraph.com/?utm_source=content&utm_medium=referral&utm_campaign=colabnotebook&utm_content=demo_profile_teachernotebook)"
      ]
    },
    {
      "cell_type": "markdown",
      "metadata": {
        "id": "K6Zr8Bo2b7bj",
        "colab_type": "text"
      },
      "source": [
        "\n",
        "---\n",
        "\n",
        "*Thanks for reading! If you found this useful or interesting please upvote and share with a friend.* \n",
        "\n",
        "*You are strongly encouraged to try out a sample of SafeGraph patterns data for free, no strings attached at the [SafeGraph Data Bar](https://shop.safegraph.com/?utm_source=content&utm_medium=referral&utm_campaign=colabnotebook&utm_content=demo_profile_teachernotebook).*  *Use coupon code* **`AnalyzeDemographics`** *for $200 worth of free data!*\n",
        "\n",
        "---\n",
        "\n",
        "Contact: \n",
        "* Please send us your ideas, feedback, bug discoveries and suggestions: datastories@safegraph.com \n"
      ]
    }
  ]
}