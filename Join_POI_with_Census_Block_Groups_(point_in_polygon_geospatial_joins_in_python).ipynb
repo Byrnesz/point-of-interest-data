{
  "nbformat": 4,
  "nbformat_minor": 0,
  "metadata": {
    "colab": {
      "name": "Join POI with Census Block Groups (point-in-polygon geospatial joins in python).ipynb",
      "provenance": [],
      "collapsed_sections": [],
      "include_colab_link": true
    },
    "kernelspec": {
      "name": "python3",
      "display_name": "Python 3"
    }
  },
  "cells": [
    {
      "cell_type": "markdown",
      "metadata": {
        "id": "view-in-github",
        "colab_type": "text"
      },
      "source": [
        "<a href=\"https://colab.research.google.com/github/Byrnesz/point-of-interest-data/blob/master/Join_POI_with_Census_Block_Groups_(point_in_polygon_geospatial_joins_in_python).ipynb\" target=\"_parent\"><img src=\"https://colab.research.google.com/assets/colab-badge.svg\" alt=\"Open In Colab\"/></a>"
      ]
    },
    {
      "cell_type": "markdown",
      "metadata": {
        "id": "VfPvI7Zecatf",
        "colab_type": "text"
      },
      "source": [
        "![alt text](https://global-uploads.webflow.com/5baafc2653bd67278f206724/5be267a03f7813daf821b31e_safegraph-logo-hidpi%403x-p-500.png)"
      ]
    },
    {
      "cell_type": "markdown",
      "metadata": {
        "id": "BEnhXxa7mOsF",
        "colab_type": "text"
      },
      "source": [
        "# Join Point-Of-Interest Data To Census Data\n",
        "### (How To Point-In-Polygon Geospatial Join in Python)\n",
        "\n",
        "--------------\n",
        "**[Ryan Fox Squire](https://www.linkedin.com/in/ryanfoxsquire/) | Product Data Scientist, [SafeGraph](https://safegraph.com/?utm_source=content&utm_medium=referral&utm_campaign=colabnotebook&utm_content=point-in-poly-join)**\n",
        "\n",
        "\n",
        "Jan 2020\n",
        "\n",
        "--------------\n",
        "*Share this notebook: [Shareable Link](https://colab.research.google.com/drive/1Kt3vPVIQJUq4QeJ-rE08URpIJEr1g2H3#offline=true&sandboxMode=true)*"
      ]
    },
    {
      "cell_type": "code",
      "metadata": {
        "id": "oESOFkqrwgrs",
        "colab_type": "code",
        "colab": {}
      },
      "source": [
        "# special libraries to allow file access\n",
        "from google.colab import drive as mountGoogleDrive \n",
        "from pydrive.auth import GoogleAuth\n",
        "from pydrive.drive import GoogleDrive\n",
        "from google.colab import auth\n",
        "from oauth2client.client import GoogleCredentials"
      ],
      "execution_count": 0,
      "outputs": []
    },
    {
      "cell_type": "markdown",
      "metadata": {
        "id": "xCYYvmX2YFIB",
        "colab_type": "text"
      },
      "source": [
        "\n",
        "## **How to use this notebook**:\n",
        "\n",
        "---\n",
        "\n",
        "**Quick Start:** \n",
        "1. You can run this notebook using some data I've prepared.  You only need to do one thing: Run the next cell, and follow the prompt to authenticate your google account.\n",
        "2. **Everything else will just run! Enjoy!**\n",
        "\n",
        "\n",
        "*p.s. FYI -- GeoPandas does not come installed in GoogleColab by default, so some of the cells below will install some libraries in your Google Colab session.*\n",
        "\n",
        "\n"
      ]
    },
    {
      "cell_type": "code",
      "metadata": {
        "id": "kBZxnwSfwgpj",
        "colab_type": "code",
        "outputId": "3de807c3-4b1b-4edd-e482-d7420735b48d",
        "colab": {
          "base_uri": "https://localhost:8080/",
          "height": 34
        }
      },
      "source": [
        "# These commands allow you to read directly from SafeGraph's public GoogleDrive containing Census Data and Sample Data\n",
        "auth.authenticate_user()  # Authenticate and create the PyDrive client. \n",
        "gauth = GoogleAuth()\n",
        "gauth.credentials = GoogleCredentials.get_application_default()\n",
        "drive = GoogleDrive(gauth)\n",
        "print(\"You are fully authenticated and can edit and re-run everything in the notebook. Enjoy!\")"
      ],
      "execution_count": 0,
      "outputs": [
        {
          "output_type": "stream",
          "text": [
            "You are fully authenticated and can edit and re-run everything in the notebook. Enjoy!\n"
          ],
          "name": "stdout"
        }
      ]
    },
    {
      "cell_type": "code",
      "metadata": {
        "id": "DT-2i68kvoiN",
        "colab_type": "code",
        "outputId": "a5e37eba-7f1b-4d18-a88e-ad37eb709fde",
        "colab": {
          "base_uri": "https://localhost:8080/",
          "height": 1000
        }
      },
      "source": [
        "%%time \n",
        "# Install Geopandas (for spatial joins) onto Google CoLab\n",
        "# HT: https://github.com/geopandas/geopandas/issues/901#issuecomment-458390318\n",
        "\n",
        "# Install Gdal - rtree pre-req\n",
        "!apt install gdal-bin python-gdal python3-gdal \n",
        "# Install rtree - Geopandas requirment\n",
        "!apt install python3-rtree \n",
        "# Install Geopandas\n",
        "!pip install git+git://github.com/geopandas/geopandas.git"
      ],
      "execution_count": 0,
      "outputs": [
        {
          "output_type": "stream",
          "text": [
            "Reading package lists... Done\n",
            "Building dependency tree       \n",
            "Reading state information... Done\n",
            "gdal-bin is already the newest version (2.2.3+dfsg-2).\n",
            "python-gdal is already the newest version (2.2.3+dfsg-2).\n",
            "python3-gdal is already the newest version (2.2.3+dfsg-2).\n",
            "The following package was automatically installed and is no longer required:\n",
            "  libnvidia-common-430\n",
            "Use 'apt autoremove' to remove it.\n",
            "0 upgraded, 0 newly installed, 0 to remove and 25 not upgraded.\n",
            "Reading package lists... Done\n",
            "Building dependency tree       \n",
            "Reading state information... Done\n",
            "The following package was automatically installed and is no longer required:\n",
            "  libnvidia-common-430\n",
            "Use 'apt autoremove' to remove it.\n",
            "The following additional packages will be installed:\n",
            "  libspatialindex-c4v5 libspatialindex-dev libspatialindex4v5\n",
            "  python3-pkg-resources\n",
            "Suggested packages:\n",
            "  python3-setuptools\n",
            "The following NEW packages will be installed:\n",
            "  libspatialindex-c4v5 libspatialindex-dev libspatialindex4v5\n",
            "  python3-pkg-resources python3-rtree\n",
            "0 upgraded, 5 newly installed, 0 to remove and 25 not upgraded.\n",
            "Need to get 671 kB of archives.\n",
            "After this operation, 3,948 kB of additional disk space will be used.\n",
            "Get:1 http://archive.ubuntu.com/ubuntu bionic/universe amd64 libspatialindex4v5 amd64 1.8.5-5 [219 kB]\n",
            "Get:2 http://archive.ubuntu.com/ubuntu bionic/universe amd64 libspatialindex-c4v5 amd64 1.8.5-5 [51.7 kB]\n",
            "Get:3 http://archive.ubuntu.com/ubuntu bionic/main amd64 python3-pkg-resources all 39.0.1-2 [98.8 kB]\n",
            "Get:4 http://archive.ubuntu.com/ubuntu bionic/universe amd64 libspatialindex-dev amd64 1.8.5-5 [285 kB]\n",
            "Get:5 http://archive.ubuntu.com/ubuntu bionic/universe amd64 python3-rtree all 0.8.3+ds-1 [16.9 kB]\n",
            "Fetched 671 kB in 1s (859 kB/s)\n",
            "Selecting previously unselected package libspatialindex4v5:amd64.\n",
            "(Reading database ... 134443 files and directories currently installed.)\n",
            "Preparing to unpack .../libspatialindex4v5_1.8.5-5_amd64.deb ...\n",
            "Unpacking libspatialindex4v5:amd64 (1.8.5-5) ...\n",
            "Selecting previously unselected package libspatialindex-c4v5:amd64.\n",
            "Preparing to unpack .../libspatialindex-c4v5_1.8.5-5_amd64.deb ...\n",
            "Unpacking libspatialindex-c4v5:amd64 (1.8.5-5) ...\n",
            "Selecting previously unselected package python3-pkg-resources.\n",
            "Preparing to unpack .../python3-pkg-resources_39.0.1-2_all.deb ...\n",
            "Unpacking python3-pkg-resources (39.0.1-2) ...\n",
            "Selecting previously unselected package libspatialindex-dev:amd64.\n",
            "Preparing to unpack .../libspatialindex-dev_1.8.5-5_amd64.deb ...\n",
            "Unpacking libspatialindex-dev:amd64 (1.8.5-5) ...\n",
            "Selecting previously unselected package python3-rtree.\n",
            "Preparing to unpack .../python3-rtree_0.8.3+ds-1_all.deb ...\n",
            "Unpacking python3-rtree (0.8.3+ds-1) ...\n",
            "Setting up libspatialindex4v5:amd64 (1.8.5-5) ...\n",
            "Setting up python3-pkg-resources (39.0.1-2) ...\n",
            "Setting up libspatialindex-c4v5:amd64 (1.8.5-5) ...\n",
            "Setting up libspatialindex-dev:amd64 (1.8.5-5) ...\n",
            "Setting up python3-rtree (0.8.3+ds-1) ...\n",
            "Processing triggers for libc-bin (2.27-3ubuntu1) ...\n",
            "/sbin/ldconfig.real: /usr/local/lib/python3.6/dist-packages/ideep4py/lib/libmkldnn.so.0 is not a symbolic link\n",
            "\n",
            "Collecting git+git://github.com/geopandas/geopandas.git\n",
            "  Cloning git://github.com/geopandas/geopandas.git to /tmp/pip-req-build-cp9hzqtn\n",
            "  Running command git clone -q git://github.com/geopandas/geopandas.git /tmp/pip-req-build-cp9hzqtn\n",
            "Requirement already satisfied: pandas>=0.23.0 in /usr/local/lib/python3.6/dist-packages (from geopandas==0.6.1+46.g6be674d) (0.25.3)\n",
            "Requirement already satisfied: shapely in /usr/local/lib/python3.6/dist-packages (from geopandas==0.6.1+46.g6be674d) (1.7.0)\n",
            "Collecting fiona\n",
            "\u001b[?25l  Downloading https://files.pythonhosted.org/packages/50/f7/9899f8a9a2e38601472fe1079ce5088f58833221c8b8507d8b5eafd5404a/Fiona-1.8.13-cp36-cp36m-manylinux1_x86_64.whl (11.8MB)\n",
            "\u001b[K     |████████████████████████████████| 11.8MB 2.8MB/s \n",
            "\u001b[?25hCollecting pyproj>=2.2.0\n",
            "\u001b[?25l  Downloading https://files.pythonhosted.org/packages/d6/70/eedc98cd52b86de24a1589c762612a98bea26cde649ffdd60c1db396cce8/pyproj-2.4.2.post1-cp36-cp36m-manylinux2010_x86_64.whl (10.1MB)\n",
            "\u001b[K     |████████████████████████████████| 10.1MB 42.7MB/s \n",
            "\u001b[?25hRequirement already satisfied: numpy>=1.13.3 in /usr/local/lib/python3.6/dist-packages (from pandas>=0.23.0->geopandas==0.6.1+46.g6be674d) (1.17.5)\n",
            "Requirement already satisfied: pytz>=2017.2 in /usr/local/lib/python3.6/dist-packages (from pandas>=0.23.0->geopandas==0.6.1+46.g6be674d) (2018.9)\n",
            "Requirement already satisfied: python-dateutil>=2.6.1 in /usr/local/lib/python3.6/dist-packages (from pandas>=0.23.0->geopandas==0.6.1+46.g6be674d) (2.6.1)\n",
            "Collecting click-plugins>=1.0\n",
            "  Downloading https://files.pythonhosted.org/packages/e9/da/824b92d9942f4e472702488857914bdd50f73021efea15b4cad9aca8ecef/click_plugins-1.1.1-py2.py3-none-any.whl\n",
            "Collecting cligj>=0.5\n",
            "  Downloading https://files.pythonhosted.org/packages/e4/be/30a58b4b0733850280d01f8bd132591b4668ed5c7046761098d665ac2174/cligj-0.5.0-py3-none-any.whl\n",
            "Requirement already satisfied: attrs>=17 in /usr/local/lib/python3.6/dist-packages (from fiona->geopandas==0.6.1+46.g6be674d) (19.3.0)\n",
            "Collecting munch\n",
            "  Downloading https://files.pythonhosted.org/packages/cc/ab/85d8da5c9a45e072301beb37ad7f833cd344e04c817d97e0cc75681d248f/munch-2.5.0-py2.py3-none-any.whl\n",
            "Requirement already satisfied: six>=1.7 in /usr/local/lib/python3.6/dist-packages (from fiona->geopandas==0.6.1+46.g6be674d) (1.12.0)\n",
            "Requirement already satisfied: click<8,>=4.0 in /usr/local/lib/python3.6/dist-packages (from fiona->geopandas==0.6.1+46.g6be674d) (7.0)\n",
            "Building wheels for collected packages: geopandas\n",
            "  Building wheel for geopandas (setup.py) ... \u001b[?25l\u001b[?25hdone\n",
            "  Created wheel for geopandas: filename=geopandas-0.6.1+46.g6be674d-py2.py3-none-any.whl size=927154 sha256=eebd03d941b30580f23eb316b7aa03bc0620bb058534140ebeb3082356c377f4\n",
            "  Stored in directory: /tmp/pip-ephem-wheel-cache-1vuc_iac/wheels/91/24/71/376c9c67192694168352afcccc2d264248f7e2cc6192997186\n",
            "Successfully built geopandas\n",
            "Installing collected packages: click-plugins, cligj, munch, fiona, pyproj, geopandas\n",
            "Successfully installed click-plugins-1.1.1 cligj-0.5.0 fiona-1.8.13 geopandas-0.6.1+46.g6be674d munch-2.5.0 pyproj-2.4.2.post1\n",
            "CPU times: user 238 ms, sys: 63.2 ms, total: 301 ms\n",
            "Wall time: 23.9 s\n"
          ],
          "name": "stdout"
        }
      ]
    },
    {
      "cell_type": "code",
      "metadata": {
        "id": "V-GXzBsYYi0d",
        "colab_type": "code",
        "colab": {}
      },
      "source": [
        "import pandas as pd\n",
        "import geopandas as gpd"
      ],
      "execution_count": 0,
      "outputs": []
    },
    {
      "cell_type": "code",
      "metadata": {
        "id": "NFDKGsrtwgfl",
        "colab_type": "code",
        "colab": {}
      },
      "source": [
        "def pd_read_csv_drive(id, drive, dtype=None):\n",
        "  downloaded = drive.CreateFile({'id':id}) \n",
        "  downloaded.GetContentFile('Filename.csv')  \n",
        "  return(pd.read_csv('Filename.csv',dtype=dtype))\n",
        "\n",
        "def get_drive_id(filename):\n",
        "    # Note: OpenCensusData public GDrive folder: https://drive.google.com/open?id=1btSS6zo7_wJCCXAigkbhnaoeU-Voa9pG\n",
        "    # Note: Sample of Geometry data public GDrive folder: https://drive.google.com/open?id=1PRYLkWNlO-_5EXwFmUZbYbtr_UJmKjBq\n",
        "    drive_ids = {'cbg.geojson' : '19FIPhdpDTw_hKZemRvqu2V6OiFn5KjQ1',\n",
        "                 'sample_safegraph_places' : '1zgd13vjMlhiPDw1tsiR93lW3whBa-yOA' #'1PRYLkWNlO-_5EXwFmUZbYbtr_UJmKjBq'\n",
        "                 }\n",
        "    return(drive_ids[filename])"
      ],
      "execution_count": 0,
      "outputs": []
    },
    {
      "cell_type": "markdown",
      "metadata": {
        "id": "tX_lcjBYVLT6",
        "colab_type": "text"
      },
      "source": [
        "### Load some SafeGraph Places Data\n",
        "\n",
        "\n",
        "We will work with ~1000 POIs as an example. \n",
        "\n",
        "If you want to load in your own data, [you have several options. ](https://towardsdatascience.com/3-ways-to-load-csv-files-into-colab-7c14fcbdcb92)\n",
        "\n",
        "If the dataset is small, you can also upload it through the Google CoLab UI on the left. \n",
        "\n",
        "Or you can just use the demo data I have prepared. "
      ]
    },
    {
      "cell_type": "code",
      "metadata": {
        "id": "XZnb-AF_Vxp_",
        "colab_type": "code",
        "colab": {}
      },
      "source": [
        "# If you want to use your own data, upload a csv through the Google CoLab UI on the left. \n",
        "# Then use some code like the following:\n",
        "\n",
        "# my_uploaded_filename = 'MySafeGraphData.csv.gz'\n",
        "# places_df = pd.read_csv(my_uploaded_filename)"
      ],
      "execution_count": 0,
      "outputs": []
    },
    {
      "cell_type": "code",
      "metadata": {
        "id": "AHkD3zY1ymFt",
        "colab_type": "code",
        "outputId": "af9690cb-bf78-4b64-914d-eb4b5fab47de",
        "colab": {
          "base_uri": "https://localhost:8080/",
          "height": 551
        }
      },
      "source": [
        "# Use SafeGraph Demo Data\n",
        "places_df = pd_read_csv_drive(get_drive_id('sample_safegraph_places'), drive=drive)\n",
        "sg_places = places_df.iloc[0:1000].copy()\n",
        "sg_places.head()"
      ],
      "execution_count": 0,
      "outputs": [
        {
          "output_type": "execute_result",
          "data": {
            "text/html": [
              "<div>\n",
              "<style scoped>\n",
              "    .dataframe tbody tr th:only-of-type {\n",
              "        vertical-align: middle;\n",
              "    }\n",
              "\n",
              "    .dataframe tbody tr th {\n",
              "        vertical-align: top;\n",
              "    }\n",
              "\n",
              "    .dataframe thead th {\n",
              "        text-align: right;\n",
              "    }\n",
              "</style>\n",
              "<table border=\"1\" class=\"dataframe\">\n",
              "  <thead>\n",
              "    <tr style=\"text-align: right;\">\n",
              "      <th></th>\n",
              "      <th>safegraph_place_id</th>\n",
              "      <th>parent_safegraph_place_id</th>\n",
              "      <th>safegraph_brand_ids</th>\n",
              "      <th>location_name</th>\n",
              "      <th>brands</th>\n",
              "      <th>top_category</th>\n",
              "      <th>sub_category</th>\n",
              "      <th>naics_code</th>\n",
              "      <th>latitude</th>\n",
              "      <th>longitude</th>\n",
              "      <th>street_address</th>\n",
              "      <th>city</th>\n",
              "      <th>region</th>\n",
              "      <th>postal_code</th>\n",
              "      <th>open_hours</th>\n",
              "      <th>category_tags</th>\n",
              "      <th>polygon_wkt</th>\n",
              "      <th>polygon_class</th>\n",
              "      <th>phone_number</th>\n",
              "      <th>is_synthetic</th>\n",
              "      <th>includes_parking_lot</th>\n",
              "      <th>iso_country_code</th>\n",
              "      <th>date_range_start</th>\n",
              "      <th>date_range_end</th>\n",
              "      <th>raw_visit_counts</th>\n",
              "      <th>raw_visitor_counts</th>\n",
              "      <th>visits_by_day</th>\n",
              "      <th>visitor_home_cbgs</th>\n",
              "      <th>visitor_work_cbgs</th>\n",
              "      <th>visitor_country_of_origin</th>\n",
              "      <th>distance_from_home</th>\n",
              "      <th>median_dwell</th>\n",
              "      <th>bucketed_dwell_times</th>\n",
              "      <th>related_same_day_brand</th>\n",
              "      <th>related_same_month_brand</th>\n",
              "      <th>popularity_by_hour</th>\n",
              "      <th>popularity_by_day</th>\n",
              "      <th>device_type</th>\n",
              "    </tr>\n",
              "  </thead>\n",
              "  <tbody>\n",
              "    <tr>\n",
              "      <th>0</th>\n",
              "      <td>sg:bfb88a1910434b169e5733a7015eb192</td>\n",
              "      <td>sg:d65e327ffc174e558b1c4450da1b47f2</td>\n",
              "      <td>SG_BRAND_8cebb51fb05f1bf005e53bfec08d6c10</td>\n",
              "      <td>The Home Depot</td>\n",
              "      <td>The Home Depot</td>\n",
              "      <td>Building Material and Supplies Dealers</td>\n",
              "      <td>Hardware Stores</td>\n",
              "      <td>444130</td>\n",
              "      <td>33.988801</td>\n",
              "      <td>-117.704133</td>\n",
              "      <td>14549 Ramona Ave</td>\n",
              "      <td>Chino</td>\n",
              "      <td>CA</td>\n",
              "      <td>91710</td>\n",
              "      <td>{ \"Mon\": [[\"6:00\", \"22:00\"]], \"Tue\": [[\"6:00\",...</td>\n",
              "      <td>NaN</td>\n",
              "      <td>POLYGON ((-117.7045127749443 33.98971909914596...</td>\n",
              "      <td>OWNED_POLYGON</td>\n",
              "      <td>1.909394e+10</td>\n",
              "      <td>False</td>\n",
              "      <td>NaN</td>\n",
              "      <td>US</td>\n",
              "      <td>1.575158e+09</td>\n",
              "      <td>1.577837e+09</td>\n",
              "      <td>2415.0</td>\n",
              "      <td>1554.0</td>\n",
              "      <td>[108,83,59,66,90,101,136,114,104,79,77,76,89,9...</td>\n",
              "      <td>{\"060710019031\":77,\"060710001162\":42,\"06071000...</td>\n",
              "      <td>{\"060710005043\":33,\"060710001152\":32,\"06071000...</td>\n",
              "      <td>{\"US\":1529}</td>\n",
              "      <td>5272.0</td>\n",
              "      <td>19.0</td>\n",
              "      <td>{\"&lt;5\":53,\"5-20\":1277,\"21-60\":805,\"61-240\":214,...</td>\n",
              "      <td>{\"McDonald's\":10}</td>\n",
              "      <td>{\"Starbucks\":44,\"Target\":38,\"Costco Wholesale ...</td>\n",
              "      <td>[4,4,4,4,3,14,46,96,157,241,295,333,351,357,35...</td>\n",
              "      <td>{\"Monday\":382,\"Tuesday\":301,\"Wednesday\":201,\"T...</td>\n",
              "      <td>{\"android\":957,\"ios\":597}</td>\n",
              "    </tr>\n",
              "    <tr>\n",
              "      <th>1</th>\n",
              "      <td>sg:c5f302af4c5b4dfe9c88d4ac20b22f09</td>\n",
              "      <td>sg:cfe9f6e3a75c44d583c59b14817f6c32</td>\n",
              "      <td>SG_BRAND_8cebb51fb05f1bf005e53bfec08d6c10</td>\n",
              "      <td>The Home Depot</td>\n",
              "      <td>The Home Depot</td>\n",
              "      <td>Building Material and Supplies Dealers</td>\n",
              "      <td>Hardware Stores</td>\n",
              "      <td>444130</td>\n",
              "      <td>33.912652</td>\n",
              "      <td>-83.444808</td>\n",
              "      <td>1740 Epps Bridge Pkwy</td>\n",
              "      <td>Athens</td>\n",
              "      <td>GA</td>\n",
              "      <td>30606</td>\n",
              "      <td>{ \"Mon\": [[\"6:00\", \"22:00\"]], \"Tue\": [[\"6:00\",...</td>\n",
              "      <td>NaN</td>\n",
              "      <td>POLYGON ((-83.44516396522522 33.91324411319755...</td>\n",
              "      <td>OWNED_POLYGON</td>\n",
              "      <td>1.706354e+10</td>\n",
              "      <td>False</td>\n",
              "      <td>NaN</td>\n",
              "      <td>US</td>\n",
              "      <td>1.575158e+09</td>\n",
              "      <td>1.577837e+09</td>\n",
              "      <td>2549.0</td>\n",
              "      <td>1738.0</td>\n",
              "      <td>[133,73,80,86,60,78,90,105,75,74,65,71,62,122,...</td>\n",
              "      <td>{\"132190301002\":91,\"132190303001\":59,\"13219030...</td>\n",
              "      <td>{\"132190301001\":33,\"132190301002\":25,\"13219030...</td>\n",
              "      <td>{\"US\":1712}</td>\n",
              "      <td>18250.0</td>\n",
              "      <td>20.0</td>\n",
              "      <td>{\"&lt;5\":50,\"5-20\":1341,\"21-60\":830,\"61-240\":208,...</td>\n",
              "      <td>{\"Lowe's\":14,\"Tires Plus\":8,\"Academy Sports + ...</td>\n",
              "      <td>{\"Walmart\":50,\"Chick-fil-A\":47,\"Kroger\":41,\"Lo...</td>\n",
              "      <td>[11,11,15,13,35,72,88,131,215,285,341,450,443,...</td>\n",
              "      <td>{\"Monday\":383,\"Tuesday\":358,\"Wednesday\":216,\"T...</td>\n",
              "      <td>{\"android\":860,\"ios\":879}</td>\n",
              "    </tr>\n",
              "    <tr>\n",
              "      <th>2</th>\n",
              "      <td>sg:f7468238732b45d9bf7f662efdc342a0</td>\n",
              "      <td>NaN</td>\n",
              "      <td>SG_BRAND_8cebb51fb05f1bf005e53bfec08d6c10</td>\n",
              "      <td>The Home Depot</td>\n",
              "      <td>The Home Depot</td>\n",
              "      <td>Building Material and Supplies Dealers</td>\n",
              "      <td>Hardware Stores</td>\n",
              "      <td>444130</td>\n",
              "      <td>30.350485</td>\n",
              "      <td>-91.028705</td>\n",
              "      <td>18139 Highland Rd</td>\n",
              "      <td>Baton Rouge</td>\n",
              "      <td>LA</td>\n",
              "      <td>70810</td>\n",
              "      <td>{ \"Mon\": [[\"6:00\", \"22:00\"]], \"Tue\": [[\"6:00\",...</td>\n",
              "      <td>NaN</td>\n",
              "      <td>POLYGON ((-91.02857887744904 30.35129397140938...</td>\n",
              "      <td>OWNED_POLYGON</td>\n",
              "      <td>1.225755e+10</td>\n",
              "      <td>False</td>\n",
              "      <td>NaN</td>\n",
              "      <td>US</td>\n",
              "      <td>1.575158e+09</td>\n",
              "      <td>1.577837e+09</td>\n",
              "      <td>1919.0</td>\n",
              "      <td>1265.0</td>\n",
              "      <td>[84,59,54,58,51,54,64,111,62,49,59,57,71,86,77...</td>\n",
              "      <td>{\"220050302031\":102,\"220330045101\":63,\"2203300...</td>\n",
              "      <td>{\"220330040092\":40,\"220050303003\":20,\"22005030...</td>\n",
              "      <td>{\"US\":1235}</td>\n",
              "      <td>8702.0</td>\n",
              "      <td>19.0</td>\n",
              "      <td>{\"&lt;5\":44,\"5-20\":1069,\"21-60\":592,\"61-240\":132,...</td>\n",
              "      <td>{\"Walmart\":7}</td>\n",
              "      <td>{\"Walmart\":56,\"Shell Oil\":36,\"Walgreens\":33,\"R...</td>\n",
              "      <td>[8,7,5,4,5,27,55,105,166,220,267,330,342,338,3...</td>\n",
              "      <td>{\"Monday\":312,\"Tuesday\":278,\"Wednesday\":180,\"T...</td>\n",
              "      <td>{\"android\":516,\"ios\":750}</td>\n",
              "    </tr>\n",
              "    <tr>\n",
              "      <th>3</th>\n",
              "      <td>sg:19d8ab8d4ed34c5e89b1ec29371e1057</td>\n",
              "      <td>NaN</td>\n",
              "      <td>SG_BRAND_8cebb51fb05f1bf005e53bfec08d6c10</td>\n",
              "      <td>The Home Depot</td>\n",
              "      <td>The Home Depot</td>\n",
              "      <td>Building Material and Supplies Dealers</td>\n",
              "      <td>Hardware Stores</td>\n",
              "      <td>444130</td>\n",
              "      <td>39.058327</td>\n",
              "      <td>-76.960460</td>\n",
              "      <td>2300 Broadbirch Dr</td>\n",
              "      <td>Silver Spring</td>\n",
              "      <td>MD</td>\n",
              "      <td>20904</td>\n",
              "      <td>{ \"Mon\": [[\"6:00\", \"22:00\"]], \"Tue\": [[\"6:00\",...</td>\n",
              "      <td>NaN</td>\n",
              "      <td>POLYGON ((-76.960631 39.05891, -76.960308 39.0...</td>\n",
              "      <td>OWNED_POLYGON</td>\n",
              "      <td>1.301680e+10</td>\n",
              "      <td>False</td>\n",
              "      <td>NaN</td>\n",
              "      <td>US</td>\n",
              "      <td>1.575158e+09</td>\n",
              "      <td>1.577837e+09</td>\n",
              "      <td>1879.0</td>\n",
              "      <td>1161.0</td>\n",
              "      <td>[61,61,62,60,67,60,87,65,60,64,65,60,59,72,81,...</td>\n",
              "      <td>{\"240317014181\":25,\"240317014141\":21,\"24031701...</td>\n",
              "      <td>{\"240317014211\":14,\"240317015061\":7,\"240317014...</td>\n",
              "      <td>{\"US\":1122}</td>\n",
              "      <td>5892.0</td>\n",
              "      <td>21.0</td>\n",
              "      <td>{\"&lt;5\":22,\"5-20\":911,\"21-60\":716,\"61-240\":157,\"...</td>\n",
              "      <td>{\"ShopRite\":5}</td>\n",
              "      <td>{\"Giant Food\":38,\"McDonald's\":36,\"7-Eleven\":33...</td>\n",
              "      <td>[19,23,22,18,20,33,70,109,159,223,215,245,266,...</td>\n",
              "      <td>{\"Monday\":311,\"Tuesday\":292,\"Wednesday\":191,\"T...</td>\n",
              "      <td>{\"android\":769,\"ios\":393}</td>\n",
              "    </tr>\n",
              "    <tr>\n",
              "      <th>4</th>\n",
              "      <td>sg:5c8e92835222419b801b2969493b3134</td>\n",
              "      <td>NaN</td>\n",
              "      <td>SG_BRAND_8cebb51fb05f1bf005e53bfec08d6c10</td>\n",
              "      <td>The Home Depot</td>\n",
              "      <td>The Home Depot</td>\n",
              "      <td>Building Material and Supplies Dealers</td>\n",
              "      <td>Hardware Stores</td>\n",
              "      <td>444130</td>\n",
              "      <td>41.926553</td>\n",
              "      <td>-87.792062</td>\n",
              "      <td>2555 N Normandy Ave</td>\n",
              "      <td>Chicago</td>\n",
              "      <td>IL</td>\n",
              "      <td>60707</td>\n",
              "      <td>{ \"Mon\": [[\"6:00\", \"22:00\"]], \"Tue\": [[\"6:00\",...</td>\n",
              "      <td>NaN</td>\n",
              "      <td>POLYGON ((-87.79159 41.925971, -87.791592 41.9...</td>\n",
              "      <td>OWNED_POLYGON</td>\n",
              "      <td>1.773746e+10</td>\n",
              "      <td>False</td>\n",
              "      <td>NaN</td>\n",
              "      <td>US</td>\n",
              "      <td>1.575158e+09</td>\n",
              "      <td>1.577837e+09</td>\n",
              "      <td>2926.0</td>\n",
              "      <td>1643.0</td>\n",
              "      <td>[112,95,102,101,83,98,115,118,97,103,93,79,86,...</td>\n",
              "      <td>{\"170318316001\":19,\"170318107014\":17,\"17031190...</td>\n",
              "      <td>{\"170318391001\":13,\"170311904021\":11,\"17031191...</td>\n",
              "      <td>{\"US\":1557}</td>\n",
              "      <td>3259.0</td>\n",
              "      <td>21.0</td>\n",
              "      <td>{\"&lt;5\":49,\"5-20\":1413,\"21-60\":905,\"61-240\":308,...</td>\n",
              "      <td>{\"Lowe's\":7}</td>\n",
              "      <td>{\"Walgreens\":36,\"Dunkin'\":31,\"McDonald's\":31,\"...</td>\n",
              "      <td>[171,145,138,139,132,162,175,220,292,353,361,3...</td>\n",
              "      <td>{\"Monday\":495,\"Tuesday\":428,\"Wednesday\":304,\"T...</td>\n",
              "      <td>{\"android\":1077,\"ios\":567}</td>\n",
              "    </tr>\n",
              "  </tbody>\n",
              "</table>\n",
              "</div>"
            ],
            "text/plain": [
              "                    safegraph_place_id  ...                 device_type\n",
              "0  sg:bfb88a1910434b169e5733a7015eb192  ...   {\"android\":957,\"ios\":597}\n",
              "1  sg:c5f302af4c5b4dfe9c88d4ac20b22f09  ...   {\"android\":860,\"ios\":879}\n",
              "2  sg:f7468238732b45d9bf7f662efdc342a0  ...   {\"android\":516,\"ios\":750}\n",
              "3  sg:19d8ab8d4ed34c5e89b1ec29371e1057  ...   {\"android\":769,\"ios\":393}\n",
              "4  sg:5c8e92835222419b801b2969493b3134  ...  {\"android\":1077,\"ios\":567}\n",
              "\n",
              "[5 rows x 38 columns]"
            ]
          },
          "metadata": {
            "tags": []
          },
          "execution_count": 14
        }
      ]
    },
    {
      "cell_type": "code",
      "metadata": {
        "id": "oQOC50hWLALN",
        "colab_type": "code",
        "outputId": "e615a3f4-e78b-4509-e3fa-8bc6ba37de55",
        "colab": {
          "base_uri": "https://localhost:8080/",
          "height": 212
        }
      },
      "source": [
        "%%time\n",
        "# SLOW -- this is a large GeoJSON, so loading is a slow step. ~ 4min 33seconds\n",
        "downloaded = drive.CreateFile({'id':get_drive_id('cbg.geojson')}) \n",
        "downloaded.GetContentFile('CBG_GEOS.csv')  \n",
        "cbg_geos = gpd.read_file('CBG_GEOS.csv')\n",
        "print(cbg_geos.shape)\n",
        "print(cbg_geos.head())"
      ],
      "execution_count": 0,
      "outputs": [
        {
          "output_type": "stream",
          "text": [
            "(220333, 9)\n",
            "  StateFIPS  ...                                           geometry\n",
            "0        01  ...  MULTIPOLYGON (((-85.37282 32.63424, -85.37275 ...\n",
            "1        01  ...  MULTIPOLYGON (((-85.38346 32.64838, -85.38301 ...\n",
            "2        01  ...  MULTIPOLYGON (((-85.37139 32.60139, -85.37138 ...\n",
            "3        01  ...  MULTIPOLYGON (((-86.64797 33.59205, -86.64771 ...\n",
            "4        01  ...  MULTIPOLYGON (((-86.65206 33.59869, -86.65204 ...\n",
            "\n",
            "[5 rows x 9 columns]\n",
            "CPU times: user 5min, sys: 14.7 s, total: 5min 14s\n",
            "Wall time: 7min 33s\n"
          ],
          "name": "stdout"
        }
      ]
    },
    {
      "cell_type": "code",
      "metadata": {
        "id": "8MLlGh0dGJHD",
        "colab_type": "code",
        "outputId": "c9df90ee-f028-498f-e41e-093f45525e2f",
        "colab": {
          "base_uri": "https://localhost:8080/",
          "height": 298
        }
      },
      "source": [
        "print(cbg_geos.shape)\n",
        "cbg_geos.head()"
      ],
      "execution_count": 0,
      "outputs": [
        {
          "output_type": "stream",
          "text": [
            "(220333, 9)\n"
          ],
          "name": "stdout"
        },
        {
          "output_type": "execute_result",
          "data": {
            "text/html": [
              "<div>\n",
              "<style scoped>\n",
              "    .dataframe tbody tr th:only-of-type {\n",
              "        vertical-align: middle;\n",
              "    }\n",
              "\n",
              "    .dataframe tbody tr th {\n",
              "        vertical-align: top;\n",
              "    }\n",
              "\n",
              "    .dataframe thead th {\n",
              "        text-align: right;\n",
              "    }\n",
              "</style>\n",
              "<table border=\"1\" class=\"dataframe\">\n",
              "  <thead>\n",
              "    <tr style=\"text-align: right;\">\n",
              "      <th></th>\n",
              "      <th>StateFIPS</th>\n",
              "      <th>CountyFIPS</th>\n",
              "      <th>TractCode</th>\n",
              "      <th>BlockGroup</th>\n",
              "      <th>CensusBlockGroup</th>\n",
              "      <th>State</th>\n",
              "      <th>County</th>\n",
              "      <th>ClassCode</th>\n",
              "      <th>geometry</th>\n",
              "    </tr>\n",
              "  </thead>\n",
              "  <tbody>\n",
              "    <tr>\n",
              "      <th>0</th>\n",
              "      <td>01</td>\n",
              "      <td>081</td>\n",
              "      <td>041600</td>\n",
              "      <td>1</td>\n",
              "      <td>010810416001</td>\n",
              "      <td>AL</td>\n",
              "      <td>Lee County</td>\n",
              "      <td>H1</td>\n",
              "      <td>MULTIPOLYGON (((-85.37282 32.63424, -85.37275 ...</td>\n",
              "    </tr>\n",
              "    <tr>\n",
              "      <th>1</th>\n",
              "      <td>01</td>\n",
              "      <td>081</td>\n",
              "      <td>041600</td>\n",
              "      <td>2</td>\n",
              "      <td>010810416002</td>\n",
              "      <td>AL</td>\n",
              "      <td>Lee County</td>\n",
              "      <td>H1</td>\n",
              "      <td>MULTIPOLYGON (((-85.38346 32.64838, -85.38301 ...</td>\n",
              "    </tr>\n",
              "    <tr>\n",
              "      <th>2</th>\n",
              "      <td>01</td>\n",
              "      <td>081</td>\n",
              "      <td>041700</td>\n",
              "      <td>4</td>\n",
              "      <td>010810417004</td>\n",
              "      <td>AL</td>\n",
              "      <td>Lee County</td>\n",
              "      <td>H1</td>\n",
              "      <td>MULTIPOLYGON (((-85.37139 32.60139, -85.37138 ...</td>\n",
              "    </tr>\n",
              "    <tr>\n",
              "      <th>3</th>\n",
              "      <td>01</td>\n",
              "      <td>073</td>\n",
              "      <td>011107</td>\n",
              "      <td>4</td>\n",
              "      <td>010730111074</td>\n",
              "      <td>AL</td>\n",
              "      <td>Jefferson County</td>\n",
              "      <td>H1</td>\n",
              "      <td>MULTIPOLYGON (((-86.64797 33.59205, -86.64771 ...</td>\n",
              "    </tr>\n",
              "    <tr>\n",
              "      <th>4</th>\n",
              "      <td>01</td>\n",
              "      <td>073</td>\n",
              "      <td>011108</td>\n",
              "      <td>4</td>\n",
              "      <td>010730111084</td>\n",
              "      <td>AL</td>\n",
              "      <td>Jefferson County</td>\n",
              "      <td>H1</td>\n",
              "      <td>MULTIPOLYGON (((-86.65206 33.59869, -86.65204 ...</td>\n",
              "    </tr>\n",
              "  </tbody>\n",
              "</table>\n",
              "</div>"
            ],
            "text/plain": [
              "  StateFIPS  ...                                           geometry\n",
              "0        01  ...  MULTIPOLYGON (((-85.37282 32.63424, -85.37275 ...\n",
              "1        01  ...  MULTIPOLYGON (((-85.38346 32.64838, -85.38301 ...\n",
              "2        01  ...  MULTIPOLYGON (((-85.37139 32.60139, -85.37138 ...\n",
              "3        01  ...  MULTIPOLYGON (((-86.64797 33.59205, -86.64771 ...\n",
              "4        01  ...  MULTIPOLYGON (((-86.65206 33.59869, -86.65204 ...\n",
              "\n",
              "[5 rows x 9 columns]"
            ]
          },
          "metadata": {
            "tags": []
          },
          "execution_count": 15
        }
      ]
    },
    {
      "cell_type": "markdown",
      "metadata": {
        "id": "NoA0GM2JWWN1",
        "colab_type": "text"
      },
      "source": [
        "### Convert SafeGraph Data into a GeoPandas DataFrame"
      ]
    },
    {
      "cell_type": "code",
      "metadata": {
        "id": "ax2D_3euLAGu",
        "colab_type": "code",
        "outputId": "78fbe3c7-161e-444b-eef2-4044e5dc58da",
        "colab": {
          "base_uri": "https://localhost:8080/",
          "height": 161
        }
      },
      "source": [
        "%%time\n",
        "places_gpd = sg_places.copy()\n",
        "print(places_gpd.shape)\n",
        "places_gpd = places_gpd[places_gpd.iso_country_code=='US'][['safegraph_place_id', 'latitude', 'longitude']]\n",
        "print(places_gpd.shape)\n",
        "places_gpd = gpd.GeoDataFrame(places_gpd, geometry=gpd.points_from_xy(places_gpd.longitude, places_gpd.latitude))\n",
        "places_gpd.crs = {'init' :'epsg:4326'} \n",
        "places_gpd = places_gpd[places_gpd.geometry.type == 'Point'][['safegraph_place_id', 'geometry']]\n",
        "print(places_gpd.shape)"
      ],
      "execution_count": 0,
      "outputs": [
        {
          "output_type": "stream",
          "text": [
            "(1000, 38)\n",
            "(1000, 3)\n",
            "(1000, 2)\n",
            "CPU times: user 52.2 ms, sys: 2.91 ms, total: 55.1 ms\n",
            "Wall time: 66.2 ms\n"
          ],
          "name": "stdout"
        },
        {
          "output_type": "stream",
          "text": [
            "/usr/local/lib/python3.6/dist-packages/pyproj/crs.py:77: FutureWarning: '+init=<authority>:<code>' syntax is deprecated. '<authority>:<code>' is the preferred initialization method.\n",
            "  return _prepare_from_string(\" \".join(pjargs))\n"
          ],
          "name": "stderr"
        }
      ]
    },
    {
      "cell_type": "markdown",
      "metadata": {
        "id": "NfpiSvSMWaq3",
        "colab_type": "text"
      },
      "source": [
        "### Rename the CBG Geometry data columns for clarity "
      ]
    },
    {
      "cell_type": "code",
      "metadata": {
        "id": "eMxvzfx6LAEh",
        "colab_type": "code",
        "outputId": "5c5a123e-4391-4d8f-f0c8-a7c23259405c",
        "colab": {
          "base_uri": "https://localhost:8080/",
          "height": 233
        }
      },
      "source": [
        "print(cbg_geos.shape)\n",
        "cbgs = cbg_geos.rename(columns={'CensusBlockGroup':'census_block_group'})[['census_block_group', 'geometry']]\n",
        "cbgs = cbgs[cbgs.geometry.type.isin(['Polygon', 'MultiPolygon'])]\n",
        "print(cbgs.shape)\n",
        "cbgs.head()"
      ],
      "execution_count": 0,
      "outputs": [
        {
          "output_type": "stream",
          "text": [
            "(220333, 9)\n",
            "(220333, 2)\n"
          ],
          "name": "stdout"
        },
        {
          "output_type": "execute_result",
          "data": {
            "text/html": [
              "<div>\n",
              "<style scoped>\n",
              "    .dataframe tbody tr th:only-of-type {\n",
              "        vertical-align: middle;\n",
              "    }\n",
              "\n",
              "    .dataframe tbody tr th {\n",
              "        vertical-align: top;\n",
              "    }\n",
              "\n",
              "    .dataframe thead th {\n",
              "        text-align: right;\n",
              "    }\n",
              "</style>\n",
              "<table border=\"1\" class=\"dataframe\">\n",
              "  <thead>\n",
              "    <tr style=\"text-align: right;\">\n",
              "      <th></th>\n",
              "      <th>census_block_group</th>\n",
              "      <th>geometry</th>\n",
              "    </tr>\n",
              "  </thead>\n",
              "  <tbody>\n",
              "    <tr>\n",
              "      <th>0</th>\n",
              "      <td>010810416001</td>\n",
              "      <td>MULTIPOLYGON (((-85.37282 32.63424, -85.37275 ...</td>\n",
              "    </tr>\n",
              "    <tr>\n",
              "      <th>1</th>\n",
              "      <td>010810416002</td>\n",
              "      <td>MULTIPOLYGON (((-85.38346 32.64838, -85.38301 ...</td>\n",
              "    </tr>\n",
              "    <tr>\n",
              "      <th>2</th>\n",
              "      <td>010810417004</td>\n",
              "      <td>MULTIPOLYGON (((-85.37139 32.60139, -85.37138 ...</td>\n",
              "    </tr>\n",
              "    <tr>\n",
              "      <th>3</th>\n",
              "      <td>010730111074</td>\n",
              "      <td>MULTIPOLYGON (((-86.64797 33.59205, -86.64771 ...</td>\n",
              "    </tr>\n",
              "    <tr>\n",
              "      <th>4</th>\n",
              "      <td>010730111084</td>\n",
              "      <td>MULTIPOLYGON (((-86.65206 33.59869, -86.65204 ...</td>\n",
              "    </tr>\n",
              "  </tbody>\n",
              "</table>\n",
              "</div>"
            ],
            "text/plain": [
              "  census_block_group                                           geometry\n",
              "0       010810416001  MULTIPOLYGON (((-85.37282 32.63424, -85.37275 ...\n",
              "1       010810416002  MULTIPOLYGON (((-85.38346 32.64838, -85.38301 ...\n",
              "2       010810417004  MULTIPOLYGON (((-85.37139 32.60139, -85.37138 ...\n",
              "3       010730111074  MULTIPOLYGON (((-86.64797 33.59205, -86.64771 ...\n",
              "4       010730111084  MULTIPOLYGON (((-86.65206 33.59869, -86.65204 ..."
            ]
          },
          "metadata": {
            "tags": []
          },
          "execution_count": 11
        }
      ]
    },
    {
      "cell_type": "markdown",
      "metadata": {
        "id": "Yw4iceEBWqDt",
        "colab_type": "text"
      },
      "source": [
        "### Do GeoSpatial Join (Slow)\n",
        "\n",
        "There are ways to optimize this if you are running at scale in production, but if you are doing ad-hoc analysis, this works with a little patience. "
      ]
    },
    {
      "cell_type": "code",
      "metadata": {
        "id": "EYG7saV4LACT",
        "colab_type": "code",
        "outputId": "3c53e4aa-2628-425a-c8dd-7e03b6992067",
        "colab": {
          "base_uri": "https://localhost:8080/",
          "height": 285
        }
      },
      "source": [
        "%%time\n",
        "# SLOW STEP. Spatial Join.\n",
        "poi_cbgs = gpd.sjoin(places_gpd, cbgs, how=\"left\", op='intersects')\n",
        "print(poi_cbgs.shape)\n",
        "print(poi_cbgs[~poi_cbgs.census_block_group.isna()].shape)\n",
        "print(poi_cbgs.head())"
      ],
      "execution_count": 0,
      "outputs": [
        {
          "output_type": "stream",
          "text": [
            "/usr/local/lib/python3.6/dist-packages/geopandas/tools/sjoin.py:61: UserWarning: CRS of frames being joined does not match!(+init=epsg:4326 +type=crs != epsg:4326)\n",
            "  \"(%s != %s)\" % (left_df.crs, right_df.crs)\n"
          ],
          "name": "stderr"
        },
        {
          "output_type": "stream",
          "text": [
            "(1000, 4)\n",
            "(998, 4)\n",
            "                    safegraph_place_id  ... census_block_group\n",
            "0  sg:bfb88a1910434b169e5733a7015eb192  ...       060710005043\n",
            "1  sg:c5f302af4c5b4dfe9c88d4ac20b22f09  ...       132190302001\n",
            "2  sg:f7468238732b45d9bf7f662efdc342a0  ...       220330040091\n",
            "3  sg:19d8ab8d4ed34c5e89b1ec29371e1057  ...       240317014211\n",
            "4  sg:5c8e92835222419b801b2969493b3134  ...       170318316001\n",
            "\n",
            "[5 rows x 4 columns]\n",
            "CPU times: user 22.1 s, sys: 92.8 ms, total: 22.2 s\n",
            "Wall time: 22.3 s\n"
          ],
          "name": "stdout"
        }
      ]
    },
    {
      "cell_type": "markdown",
      "metadata": {
        "id": "D3IWoqgBU5YZ",
        "colab_type": "text"
      },
      "source": [
        "### Save For Later! Your mapping between `safegraph_place_id` and `census_block_group` FIPS. "
      ]
    },
    {
      "cell_type": "code",
      "metadata": {
        "id": "MP7Tb47bK_3P",
        "colab_type": "code",
        "colab": {}
      },
      "source": [
        "from google.colab import files\n",
        "write_file_path = \"poi_sgpids_cbgs_map.csv\"\n",
        "sgpids_cbgs = poi_cbgs[['safegraph_place_id', 'census_block_group']]\n",
        "sgpids_cbgs.to_csv(write_file_path, index=False)\n",
        "files.download(write_file_path)"
      ],
      "execution_count": 0,
      "outputs": []
    }
  ]
}